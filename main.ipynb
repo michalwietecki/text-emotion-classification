{
 "cells": [
  {
   "cell_type": "code",
   "execution_count": 2,
   "id": "03268c28-fb4f-4d2f-9ae4-8dc4be6c22f3",
   "metadata": {},
   "outputs": [],
   "source": [
    "import pandas as pd\n",
    "import numpy as np\n",
    "import os\n",
    "import matplotlib.pyplot as plt\n",
    "from sklearn.model_selection import train_test_split\n",
    "from sklearn.metrics import accuracy_score, recall_score, classification_report\n",
    "from sklearn.pipeline import Pipeline\n",
    "from sklearn.naive_bayes import MultinomialNB\n",
    "from sklearn.feature_extraction.text import TfidfVectorizer, CountVectorizer\n",
    "from sklearn.preprocessing import FunctionTransformer\n",
    "from sklearn.svm import LinearSVC\n",
    "from xgboost import XGBClassifier\n",
    "from sklearn.ensemble import VotingClassifier"
   ]
  },
  {
   "cell_type": "markdown",
   "id": "1ff5f871-43c6-4019-bfb8-9333900004a7",
   "metadata": {},
   "source": [
    "models used in voting:"
   ]
  },
  {
   "cell_type": "code",
   "execution_count": 34,
   "id": "bdcddf8a-aee4-41d2-8c1d-f4b28e759d60",
   "metadata": {},
   "outputs": [],
   "source": [
    "BEST_model = Pipeline([\n",
    "('vectorizer', TfidfVectorizer(ngram_range=(1, 2), stop_words='english', sublinear_tf=True)),\n",
    "('classifier', LinearSVC(C=1,\n",
    "loss = 'squared_hinge',\n",
    "max_iter = 15000,\n",
    "penalty = 'l1',\n",
    "dual = 'auto'))\n",
    "])\n",
    "\n",
    "\n",
    "best_Multinomial = Pipeline([\n",
    "('vectorizer', CountVectorizer(ngram_range=(1, 2), stop_words='english', max_features = 9640)),\n",
    "('classifier', MultinomialNB(alpha = 0.5))\n",
    "])\n",
    "\n",
    "\n",
    "best_xgb = Pipeline([\n",
    "('vectorizer', TfidfVectorizer(ngram_range=(1, 2), stop_words='english', max_features = 43380)),\n",
    "('classifier', XGBClassifier(use_label_encoder=False, eval_metric='mlogloss', max_depth=6))\n",
    "])"
   ]
  },
  {
   "cell_type": "markdown",
   "id": "32f0225a-fe3b-4bb6-a6fd-2ae996d15875",
   "metadata": {},
   "source": [
    "voting:"
   ]
  },
  {
   "cell_type": "code",
   "execution_count": 35,
   "id": "02b7bc61-6248-45cd-acdf-ca0da7e94c7c",
   "metadata": {},
   "outputs": [],
   "source": [
    "voting_clf = VotingClassifier(estimators=[\n",
    "('multi', best_Multinomial),\n",
    "('svm', BEST_model),\n",
    "('xgb', best_xgb)\n",
    "], voting='hard')"
   ]
  },
  {
   "cell_type": "code",
   "execution_count": 40,
   "id": "be8af45f-e676-4a05-9629-b29a22782d05",
   "metadata": {},
   "outputs": [],
   "source": [
    "def train_test(train_path, test_path):\n",
    "    df = pd.read_csv(train_path)\n",
    "        \n",
    "    test = pd.read_csv(test_path)\n",
    "    \n",
    "    X = df[\"text\"]\n",
    "    y = df[\"emotion\"]\n",
    "    \n",
    "    X_train, X_test, y_train, y_test = train_test_split(\n",
    "        X, y, stratify=y, test_size=0.2, random_state=52\n",
    "    )\n",
    "\n",
    "    voting_clf.fit(X_train, y_train)\n",
    "    \n",
    "    y_pred = voting_clf.predict(test[\"text\"])\n",
    "\n",
    "    with open(\"predictions.txt\", \"w\") as f:\n",
    "        for label in y_pred:\n",
    "            f.write(label + \"\\n\")"
   ]
  },
  {
   "cell_type": "code",
   "execution_count": 42,
   "id": "78e5c4d9-789b-45b3-bf7d-e9624725debe",
   "metadata": {},
   "outputs": [],
   "source": [
    "# train_test(\"train_emotion.csv\", \"emotions_dataset_new.csv\")"
   ]
  }
 ],
 "metadata": {
  "kernelspec": {
   "display_name": "Python 3 (ipykernel)",
   "language": "python",
   "name": "python3"
  },
  "language_info": {
   "codemirror_mode": {
    "name": "ipython",
    "version": 3
   },
   "file_extension": ".py",
   "mimetype": "text/x-python",
   "name": "python",
   "nbconvert_exporter": "python",
   "pygments_lexer": "ipython3",
   "version": "3.9.12"
  }
 },
 "nbformat": 4,
 "nbformat_minor": 5
}
