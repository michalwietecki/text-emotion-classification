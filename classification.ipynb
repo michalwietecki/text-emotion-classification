{
 "cells": [
  {
   "cell_type": "markdown",
   "id": "bfed54bf",
   "metadata": {},
   "source": [
    "## Data importing and splitting"
   ]
  },
  {
   "cell_type": "code",
   "execution_count": 108,
   "id": "913b2500",
   "metadata": {},
   "outputs": [],
   "source": [
    "import pandas as pd\n",
    "import numpy as np\n",
    "import matplotlib.pyplot as plt"
   ]
  },
  {
   "cell_type": "code",
   "execution_count": 109,
   "id": "bb618add",
   "metadata": {},
   "outputs": [],
   "source": [
    "data = pd.read_csv(\"train_emotion.csv\")"
   ]
  },
  {
   "cell_type": "code",
   "execution_count": 110,
   "id": "de053f86",
   "metadata": {},
   "outputs": [
    {
     "data": {
      "text/html": [
       "<div>\n",
       "<style scoped>\n",
       "    .dataframe tbody tr th:only-of-type {\n",
       "        vertical-align: middle;\n",
       "    }\n",
       "\n",
       "    .dataframe tbody tr th {\n",
       "        vertical-align: top;\n",
       "    }\n",
       "\n",
       "    .dataframe thead th {\n",
       "        text-align: right;\n",
       "    }\n",
       "</style>\n",
       "<table border=\"1\" class=\"dataframe\">\n",
       "  <thead>\n",
       "    <tr style=\"text-align: right;\">\n",
       "      <th></th>\n",
       "      <th>text</th>\n",
       "      <th>emotion</th>\n",
       "    </tr>\n",
       "  </thead>\n",
       "  <tbody>\n",
       "    <tr>\n",
       "      <th>0</th>\n",
       "      <td>Yeah for coupons!   Found this place randomly ...</td>\n",
       "      <td>neutral</td>\n",
       "    </tr>\n",
       "    <tr>\n",
       "      <th>1</th>\n",
       "      <td>i still love to feel a gentle breeze and hear ...</td>\n",
       "      <td>happiness</td>\n",
       "    </tr>\n",
       "    <tr>\n",
       "      <th>2</th>\n",
       "      <td>Normal, fama devido ao programa de tv. A sobre...</td>\n",
       "      <td>neutral</td>\n",
       "    </tr>\n",
       "    <tr>\n",
       "      <th>3</th>\n",
       "      <td>im feeling a little less jaded</td>\n",
       "      <td>sadness</td>\n",
       "    </tr>\n",
       "    <tr>\n",
       "      <th>4</th>\n",
       "      <td>i have never shaken the feeling of ferocious p...</td>\n",
       "      <td>hate</td>\n",
       "    </tr>\n",
       "    <tr>\n",
       "      <th>5</th>\n",
       "      <td>i figure my family loves us no matter what but...</td>\n",
       "      <td>sadness</td>\n",
       "    </tr>\n",
       "    <tr>\n",
       "      <th>6</th>\n",
       "      <td>i feel uncertain i will raise my</td>\n",
       "      <td>worry</td>\n",
       "    </tr>\n",
       "    <tr>\n",
       "      <th>7</th>\n",
       "      <td>i was feeling relaxed and quite comfortable at...</td>\n",
       "      <td>fun</td>\n",
       "    </tr>\n",
       "    <tr>\n",
       "      <th>8</th>\n",
       "      <td>i feel like ive lost everything and everyone</td>\n",
       "      <td>sadness</td>\n",
       "    </tr>\n",
       "    <tr>\n",
       "      <th>9</th>\n",
       "      <td>i feel this way is probably because i am dumb ...</td>\n",
       "      <td>sadness</td>\n",
       "    </tr>\n",
       "  </tbody>\n",
       "</table>\n",
       "</div>"
      ],
      "text/plain": [
       "                                                text    emotion\n",
       "0  Yeah for coupons!   Found this place randomly ...    neutral\n",
       "1  i still love to feel a gentle breeze and hear ...  happiness\n",
       "2  Normal, fama devido ao programa de tv. A sobre...    neutral\n",
       "3                     im feeling a little less jaded    sadness\n",
       "4  i have never shaken the feeling of ferocious p...       hate\n",
       "5  i figure my family loves us no matter what but...    sadness\n",
       "6                   i feel uncertain i will raise my      worry\n",
       "7  i was feeling relaxed and quite comfortable at...        fun\n",
       "8       i feel like ive lost everything and everyone    sadness\n",
       "9  i feel this way is probably because i am dumb ...    sadness"
      ]
     },
     "execution_count": 110,
     "metadata": {},
     "output_type": "execute_result"
    }
   ],
   "source": [
    "data.head(10)"
   ]
  },
  {
   "cell_type": "code",
   "execution_count": 111,
   "id": "cbfb338e",
   "metadata": {},
   "outputs": [],
   "source": [
    "X = data[\"text\"]\n",
    "y = data[\"emotion\"]"
   ]
  },
  {
   "cell_type": "code",
   "execution_count": 112,
   "id": "fc124150",
   "metadata": {
    "scrolled": true
   },
   "outputs": [
    {
     "data": {
      "text/plain": [
       "happiness    1468\n",
       "neutral      1292\n",
       "worry        1222\n",
       "fun          1157\n",
       "sadness      1146\n",
       "hate         1143\n",
       "surprise      572\n",
       "Name: emotion, dtype: int64"
      ]
     },
     "execution_count": 112,
     "metadata": {},
     "output_type": "execute_result"
    }
   ],
   "source": [
    "y.value_counts() #relatively balanced dataset, the surpise emotion is the least populated one"
   ]
  },
  {
   "cell_type": "code",
   "execution_count": 113,
   "id": "3870362f",
   "metadata": {},
   "outputs": [],
   "source": [
    "from sklearn.model_selection import train_test_split\n",
    "\n",
    "X_train, X_test, y_train, y_test = train_test_split(\n",
    "    X, y, stratify=y, test_size=0.2, random_state=52\n",
    ")"
   ]
  },
  {
   "cell_type": "code",
   "execution_count": 114,
   "id": "49c230e6",
   "metadata": {},
   "outputs": [
    {
     "data": {
      "text/plain": [
       "6400"
      ]
     },
     "execution_count": 114,
     "metadata": {},
     "output_type": "execute_result"
    }
   ],
   "source": [
    "len(X_train)"
   ]
  },
  {
   "cell_type": "code",
   "execution_count": 115,
   "id": "68e6c379",
   "metadata": {},
   "outputs": [
    {
     "data": {
      "text/plain": [
       "1600"
      ]
     },
     "execution_count": 115,
     "metadata": {},
     "output_type": "execute_result"
    }
   ],
   "source": [
    "len(X_test)"
   ]
  },
  {
   "cell_type": "markdown",
   "id": "7c1a48f1",
   "metadata": {},
   "source": [
    "### Label encoding"
   ]
  },
  {
   "cell_type": "code",
   "execution_count": 116,
   "id": "4ce19160",
   "metadata": {},
   "outputs": [],
   "source": [
    "from sklearn.preprocessing import LabelEncoder\n",
    "\n",
    "label_encoder = LabelEncoder()\n",
    "y_train_enc = label_encoder.fit_transform(y_train)\n",
    "y_test_enc = label_encoder.transform(y_test)"
   ]
  },
  {
   "cell_type": "code",
   "execution_count": 117,
   "id": "45077313-ba62-4c08-8797-3b963f0e949c",
   "metadata": {},
   "outputs": [
    {
     "data": {
      "text/plain": [
       "7011          fun\n",
       "5480    happiness\n",
       "3940    happiness\n",
       "6642      sadness\n",
       "823       neutral\n",
       "          ...    \n",
       "3519          fun\n",
       "819           fun\n",
       "2335    happiness\n",
       "330     happiness\n",
       "886       neutral\n",
       "Name: emotion, Length: 6400, dtype: object"
      ]
     },
     "execution_count": 117,
     "metadata": {},
     "output_type": "execute_result"
    }
   ],
   "source": [
    "#y_train = y_train_enc\n",
    "#y_test = y_test_enc\n",
    "y_train"
   ]
  },
  {
   "cell_type": "markdown",
   "id": "ece0335d",
   "metadata": {},
   "source": [
    "## First vectorization methods and models"
   ]
  },
  {
   "cell_type": "code",
   "execution_count": 118,
   "id": "b336f59f",
   "metadata": {},
   "outputs": [],
   "source": [
    "from sklearn.metrics import accuracy_score, recall_score, classification_report"
   ]
  },
  {
   "cell_type": "code",
   "execution_count": 119,
   "id": "32df3d43",
   "metadata": {},
   "outputs": [],
   "source": [
    "from sklearn.pipeline import Pipeline\n",
    "from sklearn.naive_bayes import MultinomialNB\n",
    "from sklearn.feature_extraction.text import TfidfVectorizer, CountVectorizer\n",
    "from sklearn.preprocessing import FunctionTransformer"
   ]
  },
  {
   "cell_type": "code",
   "execution_count": 120,
   "id": "0930fb51",
   "metadata": {},
   "outputs": [],
   "source": [
    "def model_evaluation(pipeline):\n",
    "    y_pred = pipeline.predict(X_test)\n",
    "    print(\"\\n Model Performance:\")\n",
    "    # print(classification_report(y_test, y_pred))\n",
    "    accuracy = accuracy_score(y_test, y_pred)\n",
    "    print(\"Accuracy:\", accuracy)\n",
    "    return accuracy"
   ]
  },
  {
   "cell_type": "markdown",
   "id": "b16a70ea",
   "metadata": {},
   "source": [
    "# Multinomial Naive Bayes with various vectorization techniques"
   ]
  },
  {
   "cell_type": "markdown",
   "id": "99422bb1",
   "metadata": {},
   "source": [
    "## BOW - bag of words\n",
    "Counts the number of times each word appears in a document.\n",
    "<li>lots of dimensions</li>\n",
    "<li>Simple, easy to understand.</li>\n",
    "<li>ignores word order, context, and meaning</li>"
   ]
  },
  {
   "cell_type": "code",
   "execution_count": 121,
   "id": "b807f380",
   "metadata": {},
   "outputs": [
    {
     "name": "stdout",
     "output_type": "stream",
     "text": [
      "Number of features:  14101\n",
      "\n",
      " Model Performance:\n",
      "Accuracy: 0.724375\n"
     ]
    },
    {
     "data": {
      "text/plain": [
       "0.724375"
      ]
     },
     "execution_count": 121,
     "metadata": {},
     "output_type": "execute_result"
    }
   ],
   "source": [
    "bow_pipeline = Pipeline([\n",
    "    ('vectorizer', CountVectorizer()),\n",
    "    ('classifier', MultinomialNB())\n",
    "])\n",
    "\n",
    "bow_pipeline.fit(X_train, y_train)\n",
    "num_features = len(bow_pipeline.named_steps['vectorizer'].vocabulary_)\n",
    "print(\"Number of features: \", num_features)\n",
    "\n",
    "model_evaluation(bow_pipeline)"
   ]
  },
  {
   "cell_type": "markdown",
   "id": "54a2827f",
   "metadata": {},
   "source": [
    "## N-grams\n",
    "Considers sequences of n words to capture more context.\n",
    "<li>Captures simple word combinations\n",
    "<li>High dimensionality"
   ]
  },
  {
   "cell_type": "code",
   "execution_count": 122,
   "id": "97a6cea9",
   "metadata": {
    "scrolled": true
   },
   "outputs": [
    {
     "name": "stdout",
     "output_type": "stream",
     "text": [
      "Number of features:  285115\n",
      "\n",
      " Model Performance:\n",
      "Accuracy: 0.514375\n"
     ]
    },
    {
     "data": {
      "text/plain": [
       "0.514375"
      ]
     },
     "execution_count": 122,
     "metadata": {},
     "output_type": "execute_result"
    }
   ],
   "source": [
    "bow_pipeline = Pipeline([\n",
    "    ('vectorizer', CountVectorizer(ngram_range=(2, 3))),\n",
    "    ('classifier', MultinomialNB())\n",
    "])\n",
    "\n",
    "bow_pipeline.fit(X_train, y_train)\n",
    "\n",
    "num_features = len(bow_pipeline.named_steps['vectorizer'].vocabulary_)\n",
    "print(\"Number of features: \", num_features)\n",
    "\n",
    "model_evaluation(bow_pipeline)"
   ]
  },
  {
   "cell_type": "markdown",
   "id": "3709be5d-5a17-4745-8903-c7a622329a72",
   "metadata": {},
   "source": [
    "## Experimenting with ngram_ranges"
   ]
  },
  {
   "cell_type": "code",
   "execution_count": 123,
   "id": "9977d151-bfda-4a8e-99f8-a1431e0bd6db",
   "metadata": {},
   "outputs": [
    {
     "name": "stdout",
     "output_type": "stream",
     "text": [
      "for ngram_range=(1,1)\n",
      "\n",
      " Model Performance:\n",
      "Accuracy: 0.724375\n",
      "\n",
      "\n",
      "\n",
      "for ngram_range=(1,2)\n",
      "\n",
      " Model Performance:\n",
      "Accuracy: 0.57125\n",
      "\n",
      "\n",
      "\n",
      "for ngram_range=(1,3)\n",
      "\n",
      " Model Performance:\n",
      "Accuracy: 0.508125\n",
      "\n",
      "\n",
      "\n",
      "for ngram_range=(1,4)\n",
      "\n",
      " Model Performance:\n",
      "Accuracy: 0.473125\n",
      "\n",
      "\n",
      "\n",
      "for ngram_range=(1,5)\n",
      "\n",
      " Model Performance:\n",
      "Accuracy: 0.46375\n",
      "\n",
      "\n",
      "\n",
      "for ngram_range=(2,2)\n",
      "\n",
      " Model Performance:\n",
      "Accuracy: 0.526875\n",
      "\n",
      "\n",
      "\n",
      "for ngram_range=(2,3)\n",
      "\n",
      " Model Performance:\n",
      "Accuracy: 0.514375\n",
      "\n",
      "\n",
      "\n",
      "for ngram_range=(2,4)\n",
      "\n",
      " Model Performance:\n",
      "Accuracy: 0.51\n",
      "\n",
      "\n",
      "\n",
      "for ngram_range=(2,5)\n",
      "\n",
      " Model Performance:\n",
      "Accuracy: 0.50625\n",
      "\n",
      "\n",
      "\n",
      "for ngram_range=(3,3)\n",
      "\n",
      " Model Performance:\n",
      "Accuracy: 0.418125\n",
      "\n",
      "\n",
      "\n",
      "for ngram_range=(3,4)\n",
      "\n",
      " Model Performance:\n",
      "Accuracy: 0.418125\n",
      "\n",
      "\n",
      "\n",
      "for ngram_range=(3,5)\n",
      "\n",
      " Model Performance:\n",
      "Accuracy: 0.4175\n",
      "\n",
      "\n",
      "\n",
      "for ngram_range=(4,4)\n",
      "\n",
      " Model Performance:\n",
      "Accuracy: 0.321875\n",
      "\n",
      "\n",
      "\n",
      "for ngram_range=(4,5)\n",
      "\n",
      " Model Performance:\n",
      "Accuracy: 0.321875\n",
      "\n",
      "\n",
      "\n"
     ]
    }
   ],
   "source": [
    "for i in range (1,5):\n",
    "    for j in range(1,6):\n",
    "        if i > j:\n",
    "            continue\n",
    "        bow_pipeline = Pipeline([\n",
    "            ('vectorizer', CountVectorizer(ngram_range=(i, j))),\n",
    "            ('classifier', MultinomialNB())\n",
    "        ])\n",
    "        \n",
    "        bow_pipeline.fit(X_train, y_train)\n",
    "        \n",
    "        print(f\"for ngram_range=({i},{j})\")\n",
    "        model_evaluation(bow_pipeline)\n",
    "        print(\"\")\n",
    "        print(\"\")\n",
    "        print(\"\")\n"
   ]
  },
  {
   "cell_type": "markdown",
   "id": "da2baf07-f106-4e9e-b509-5ab6b67cc227",
   "metadata": {},
   "source": [
    "### The longer the sequence the worse the accuracy, the best performance is for simple BOW"
   ]
  },
  {
   "cell_type": "markdown",
   "id": "a4ef4af4-1b33-4a1a-8e66-198aef9f8857",
   "metadata": {},
   "source": [
    "## Experimenting with max_df/min_df argument \n",
    "ignore terms that have a document frequency strictly higher/lower than the given threshold"
   ]
  },
  {
   "cell_type": "code",
   "execution_count": 124,
   "id": "514693a1-a7fc-4112-bc3e-2acbc82d8850",
   "metadata": {},
   "outputs": [
    {
     "name": "stdout",
     "output_type": "stream",
     "text": [
      "for min_df,max_df=(0.1,0.5)\n",
      "\n",
      " Model Performance:\n",
      "Accuracy: 0.30625\n",
      "\n",
      "\n",
      "\n",
      "for min_df,max_df=(0.2,0.5)\n",
      "\n",
      " Model Performance:\n",
      "Accuracy: 0.30375\n",
      "\n",
      "\n",
      "\n",
      "for min_df,max_df=(0.3,0.5)\n",
      "\n",
      " Model Performance:\n",
      "Accuracy: 0.250625\n",
      "\n",
      "\n",
      "\n",
      "for min_df,max_df=(0.4,0.5)\n",
      "\n",
      " Model Performance:\n",
      "Accuracy: 0.246875\n",
      "\n",
      "\n",
      "\n",
      "for min_df,max_df=(0.1,0.6)\n",
      "\n",
      " Model Performance:\n",
      "Accuracy: 0.340625\n",
      "\n",
      "\n",
      "\n",
      "for min_df,max_df=(0.2,0.6)\n",
      "\n",
      " Model Performance:\n",
      "Accuracy: 0.340625\n",
      "\n",
      "\n",
      "\n",
      "for min_df,max_df=(0.3,0.6)\n",
      "\n",
      " Model Performance:\n",
      "Accuracy: 0.291875\n",
      "\n",
      "\n",
      "\n",
      "for min_df,max_df=(0.4,0.6)\n",
      "\n",
      " Model Performance:\n",
      "Accuracy: 0.300625\n",
      "\n",
      "\n",
      "\n",
      "for min_df,max_df=(0.1,0.7)\n",
      "\n",
      " Model Performance:\n",
      "Accuracy: 0.340625\n",
      "\n",
      "\n",
      "\n",
      "for min_df,max_df=(0.2,0.7)\n",
      "\n",
      " Model Performance:\n",
      "Accuracy: 0.340625\n",
      "\n",
      "\n",
      "\n",
      "for min_df,max_df=(0.3,0.7)\n",
      "\n",
      " Model Performance:\n",
      "Accuracy: 0.291875\n",
      "\n",
      "\n",
      "\n",
      "for min_df,max_df=(0.4,0.7)\n",
      "\n",
      " Model Performance:\n",
      "Accuracy: 0.300625\n",
      "\n",
      "\n",
      "\n",
      "for min_df,max_df=(0.1,0.8)\n",
      "\n",
      " Model Performance:\n",
      "Accuracy: 0.340625\n",
      "\n",
      "\n",
      "\n",
      "for min_df,max_df=(0.2,0.8)\n",
      "\n",
      " Model Performance:\n",
      "Accuracy: 0.340625\n",
      "\n",
      "\n",
      "\n",
      "for min_df,max_df=(0.3,0.8)\n",
      "\n",
      " Model Performance:\n",
      "Accuracy: 0.291875\n",
      "\n",
      "\n",
      "\n",
      "for min_df,max_df=(0.4,0.8)\n",
      "\n",
      " Model Performance:\n",
      "Accuracy: 0.300625\n",
      "\n",
      "\n",
      "\n",
      "for min_df,max_df=(0.1,0.9)\n",
      "\n",
      " Model Performance:\n",
      "Accuracy: 0.340625\n",
      "\n",
      "\n",
      "\n",
      "for min_df,max_df=(0.2,0.9)\n",
      "\n",
      " Model Performance:\n",
      "Accuracy: 0.340625\n",
      "\n",
      "\n",
      "\n",
      "for min_df,max_df=(0.3,0.9)\n",
      "\n",
      " Model Performance:\n",
      "Accuracy: 0.291875\n",
      "\n",
      "\n",
      "\n",
      "for min_df,max_df=(0.4,0.9)\n",
      "\n",
      " Model Performance:\n",
      "Accuracy: 0.300625\n",
      "\n",
      "\n",
      "\n"
     ]
    }
   ],
   "source": [
    "for max_ in [0.5,0.6,0.7,0.8,0.9]:\n",
    "    for min_ in [0.1,0.2,0.3,0.4]:\n",
    "        bow_pipeline = Pipeline([\n",
    "            ('vectorizer', CountVectorizer(ngram_range=(1, 1), min_df=min_, max_df=max_)),\n",
    "            ('classifier', MultinomialNB())\n",
    "        ])\n",
    "        \n",
    "        bow_pipeline.fit(X_train, y_train)\n",
    "        \n",
    "        print(f\"for min_df,max_df=({min_},{max_})\")\n",
    "        model_evaluation(bow_pipeline)\n",
    "        print(\"\")\n",
    "        print(\"\")\n",
    "        print(\"\")"
   ]
  },
  {
   "cell_type": "markdown",
   "id": "bf80dea7-7c2e-4256-8663-6c6c4a02d97d",
   "metadata": {},
   "source": [
    "### Changing those parameters decreases the performance as well"
   ]
  },
  {
   "cell_type": "markdown",
   "id": "7abd990c-5562-4fe0-acf4-ee6bedb8a12e",
   "metadata": {},
   "source": [
    "## Experimenting with max_features argument\n",
    "only consider the top max_features ordered by term frequency <br>\n",
    "for ngram_range(1,1) we found 14101 features"
   ]
  },
  {
   "cell_type": "code",
   "execution_count": 125,
   "id": "1c7827b3-93f3-455d-a67d-a7d6cea80466",
   "metadata": {},
   "outputs": [
    {
     "name": "stdout",
     "output_type": "stream",
     "text": [
      "\n",
      " Model Performance:\n",
      "Accuracy: 0.461875\n",
      "for max_fearures=500\n",
      "\n",
      "\n",
      "\n",
      "\n",
      " Model Performance:\n",
      "Accuracy: 0.653125\n",
      "for max_fearures=1000\n",
      "\n",
      "\n",
      "\n",
      "\n",
      " Model Performance:\n",
      "Accuracy: 0.720625\n",
      "for max_fearures=1500\n",
      "\n",
      "\n",
      "\n",
      "\n",
      " Model Performance:\n",
      "Accuracy: 0.77125\n",
      "for max_fearures=2000\n",
      "\n",
      "\n",
      "\n",
      "\n",
      " Model Performance:\n",
      "Accuracy: 0.790625\n",
      "for max_fearures=2500\n",
      "\n",
      "\n",
      "\n",
      "\n",
      " Model Performance:\n",
      "Accuracy: 0.790625\n",
      "for max_fearures=3000\n",
      "\n",
      "\n",
      "\n",
      "\n",
      " Model Performance:\n",
      "Accuracy: 0.78875\n",
      "for max_fearures=3500\n",
      "\n",
      "\n",
      "\n",
      "\n",
      " Model Performance:\n",
      "Accuracy: 0.7875\n",
      "for max_fearures=4000\n",
      "\n",
      "\n",
      "\n",
      "\n",
      " Model Performance:\n",
      "Accuracy: 0.79\n",
      "for max_fearures=4500\n",
      "\n",
      "\n",
      "\n",
      "\n",
      " Model Performance:\n",
      "Accuracy: 0.78375\n",
      "for max_fearures=5000\n",
      "\n",
      "\n",
      "\n",
      "\n",
      " Model Performance:\n",
      "Accuracy: 0.785\n",
      "for max_fearures=5500\n",
      "\n",
      "\n",
      "\n",
      "\n",
      " Model Performance:\n",
      "Accuracy: 0.779375\n",
      "for max_fearures=6000\n",
      "\n",
      "\n",
      "\n",
      "\n",
      " Model Performance:\n",
      "Accuracy: 0.771875\n",
      "for max_fearures=6500\n",
      "\n",
      "\n",
      "\n",
      "\n",
      " Model Performance:\n",
      "Accuracy: 0.76875\n",
      "for max_fearures=7000\n",
      "\n",
      "\n",
      "\n",
      "\n",
      " Model Performance:\n",
      "Accuracy: 0.76875\n",
      "for max_fearures=7500\n",
      "\n",
      "\n",
      "\n",
      "\n",
      " Model Performance:\n",
      "Accuracy: 0.765625\n",
      "for max_fearures=8000\n",
      "\n",
      "\n",
      "\n",
      "\n",
      " Model Performance:\n",
      "Accuracy: 0.76\n",
      "for max_fearures=8500\n",
      "\n",
      "\n",
      "\n",
      "\n",
      " Model Performance:\n",
      "Accuracy: 0.75625\n",
      "for max_fearures=9000\n",
      "\n",
      "\n",
      "\n",
      "\n",
      " Model Performance:\n",
      "Accuracy: 0.75375\n",
      "for max_fearures=9500\n",
      "\n",
      "\n",
      "\n",
      "\n",
      " Model Performance:\n",
      "Accuracy: 0.75125\n",
      "for max_fearures=10000\n",
      "\n",
      "\n",
      "\n",
      "\n",
      " Model Performance:\n",
      "Accuracy: 0.749375\n",
      "for max_fearures=10500\n",
      "\n",
      "\n",
      "\n",
      "\n",
      " Model Performance:\n",
      "Accuracy: 0.74375\n",
      "for max_fearures=11000\n",
      "\n",
      "\n",
      "\n",
      "\n",
      " Model Performance:\n",
      "Accuracy: 0.741875\n",
      "for max_fearures=11500\n",
      "\n",
      "\n",
      "\n",
      "\n",
      " Model Performance:\n",
      "Accuracy: 0.739375\n",
      "for max_fearures=12000\n",
      "\n",
      "\n",
      "\n",
      "\n",
      " Model Performance:\n",
      "Accuracy: 0.7325\n",
      "for max_fearures=12500\n",
      "\n",
      "\n",
      "\n",
      "\n",
      " Model Performance:\n",
      "Accuracy: 0.729375\n",
      "for max_fearures=13000\n",
      "\n",
      "\n",
      "\n",
      "\n",
      " Model Performance:\n",
      "Accuracy: 0.7275\n",
      "for max_fearures=13500\n",
      "\n",
      "\n",
      "\n",
      "\n",
      " Model Performance:\n",
      "Accuracy: 0.725\n",
      "for max_fearures=14000\n",
      "\n",
      "\n",
      "\n",
      "\n",
      " Model Performance:\n",
      "Accuracy: 0.724375\n",
      "for max_fearures=14500\n",
      "\n",
      "\n",
      "\n"
     ]
    }
   ],
   "source": [
    "feature_number = []\n",
    "accuraccies = []\n",
    "\n",
    "for features in [k*500 for k in range(1,30)]:\n",
    "    bow_pipeline = Pipeline([\n",
    "        ('vectorizer', CountVectorizer(ngram_range=(1, 1), max_features = features)),\n",
    "        ('classifier', MultinomialNB())\n",
    "    ])\n",
    "    \n",
    "    bow_pipeline.fit(X_train, y_train)\n",
    "    accuracy = model_evaluation(bow_pipeline)\n",
    "    print(f\"for max_fearures={features}\")\n",
    "    feature_number.append(features)\n",
    "    accuraccies.append(accuracy)\n",
    "    print(\"\")\n",
    "    print(\"\")\n",
    "    print(\"\")"
   ]
  },
  {
   "cell_type": "code",
   "execution_count": 126,
   "id": "d8813b91",
   "metadata": {
    "scrolled": true
   },
   "outputs": [],
   "source": [
    "def plot_features_vs_accuracy(feature_number,accuraccies):\n",
    "    plt.plot(feature_number, accuraccies)\n",
    "    max_index = np.argmax(accuraccies)\n",
    "    max_f = feature_number[max_index]\n",
    "    max_acc = accuraccies[max_index]\n",
    "    \n",
    "    plt.annotate(\n",
    "        f\"({max_f:.0f}, {max_acc:.3f})\",\n",
    "        (max_f, max_acc),\n",
    "        textcoords=\"offset points\",\n",
    "        xytext=(20, 10),  # Move to the right and down\n",
    "        ha=\"left\",\n",
    "        fontsize=9,\n",
    "        color=\"black\",\n",
    "        bbox=dict(boxstyle=\"round,pad=0.3\", edgecolor=\"black\", facecolor=\"lightyellow\")\n",
    "    )\n",
    "    plt.xlabel(\"Number of features\")\n",
    "    plt.ylabel(\"Accuracy\")"
   ]
  },
  {
   "cell_type": "markdown",
   "id": "054f5a56-5c67-4f1e-9602-3997a08c82df",
   "metadata": {},
   "source": [
    "### Best for 3500 out of around 14000 features, accuracy = 0,789"
   ]
  },
  {
   "cell_type": "markdown",
   "id": "42d3ca8e-081b-4e65-81a8-ea16fd58c91a",
   "metadata": {},
   "source": [
    "let's now see how many features are found in ngram_range = (1,2)"
   ]
  },
  {
   "cell_type": "code",
   "execution_count": 127,
   "id": "87b1e2d4-60a0-4ad5-94cd-36e07b0fbbac",
   "metadata": {},
   "outputs": [
    {
     "name": "stdout",
     "output_type": "stream",
     "text": [
      "this many features were found:  118489\n"
     ]
    }
   ],
   "source": [
    "\n",
    "bow_pipeline = Pipeline([\n",
    "    ('vectorizer', CountVectorizer(ngram_range=(1, 2))),\n",
    "    ('classifier', MultinomialNB())\n",
    "])\n",
    "\n",
    "\n",
    "bow_pipeline.fit(X_train, y_train)\n",
    "\n",
    "\n",
    "num_features = len(bow_pipeline.named_steps['vectorizer'].vocabulary_)\n",
    "print(\"this many features were found: \", num_features)\n"
   ]
  },
  {
   "cell_type": "code",
   "execution_count": 128,
   "id": "7f9134ad-8599-4537-be39-5bef689445a8",
   "metadata": {},
   "outputs": [
    {
     "name": "stdout",
     "output_type": "stream",
     "text": [
      "for max_fearures=3000\n",
      "\n",
      " Model Performance:\n",
      "Accuracy: 0.67125\n",
      "\n",
      "\n",
      "\n",
      "for max_fearures=10000\n",
      "\n",
      " Model Performance:\n",
      "Accuracy: 0.724375\n",
      "\n",
      "\n",
      "\n",
      "for max_fearures=20000\n",
      "\n",
      " Model Performance:\n",
      "Accuracy: 0.715625\n",
      "\n",
      "\n",
      "\n",
      "for max_fearures=30000\n",
      "\n",
      " Model Performance:\n",
      "Accuracy: 0.705625\n",
      "\n",
      "\n",
      "\n",
      "for max_fearures=40000\n",
      "\n",
      " Model Performance:\n",
      "Accuracy: 0.685625\n",
      "\n",
      "\n",
      "\n",
      "for max_fearures=50000\n",
      "\n",
      " Model Performance:\n",
      "Accuracy: 0.66625\n",
      "\n",
      "\n",
      "\n",
      "for max_fearures=60000\n",
      "\n",
      " Model Performance:\n",
      "Accuracy: 0.64625\n",
      "\n",
      "\n",
      "\n",
      "for max_fearures=70000\n",
      "\n",
      " Model Performance:\n",
      "Accuracy: 0.6225\n",
      "\n",
      "\n",
      "\n",
      "for max_fearures=80000\n",
      "\n",
      " Model Performance:\n",
      "Accuracy: 0.604375\n",
      "\n",
      "\n",
      "\n",
      "for max_fearures=90000\n",
      "\n",
      " Model Performance:\n",
      "Accuracy: 0.595\n",
      "\n",
      "\n",
      "\n",
      "for max_fearures=100000\n",
      "\n",
      " Model Performance:\n",
      "Accuracy: 0.5825\n",
      "\n",
      "\n",
      "\n",
      "for max_fearures=110000\n",
      "\n",
      " Model Performance:\n",
      "Accuracy: 0.575625\n",
      "\n",
      "\n",
      "\n"
     ]
    }
   ],
   "source": [
    "for features in [int(k*10000) for k in [0.3,1,2,3,4,5,6,7,8,9,10,11]]:\n",
    "    bow_pipeline = Pipeline([\n",
    "        ('vectorizer', CountVectorizer(ngram_range=(1, 2), max_features = features)),\n",
    "        ('classifier', MultinomialNB())\n",
    "    ])\n",
    "    bow_pipeline.fit(X_train, y_train)\n",
    "    print(f\"for max_fearures={features}\")\n",
    "    model_evaluation(bow_pipeline)\n",
    "    print(\"\")\n",
    "    print(\"\")\n",
    "    print(\"\")"
   ]
  },
  {
   "cell_type": "markdown",
   "id": "b0c8b452-6135-47a5-af56-0d513904890d",
   "metadata": {},
   "source": [
    "we can see that the results are worse than for ngram_range(1,1)<br><br>\n",
    "what about ngram_range=(2,2)? basically ensuring that we use two-word features"
   ]
  },
  {
   "cell_type": "code",
   "execution_count": 129,
   "id": "80230cb7-1a00-4760-b11f-cc72f5bcd435",
   "metadata": {
    "scrolled": true
   },
   "outputs": [],
   "source": [
    "def vectorizer_ngram(from_, to_,vectorizer):\n",
    "    feature_number = []\n",
    "    accuraccies = []\n",
    "    bow_pipeline = Pipeline([\n",
    "        ('vectorizer', vectorizer(ngram_range=(from_, to_))),\n",
    "        ('classifier', MultinomialNB())\n",
    "    ])\n",
    "    \n",
    "    bow_pipeline.fit(X_train, y_train)\n",
    "    \n",
    "    \n",
    "    num_features = len(bow_pipeline.named_steps['vectorizer'].vocabulary_)\n",
    "    print(\"this many features were found: \", num_features, \"\\n\")\n",
    "    \n",
    "    for features in [k for k in [5,10,15,20,25,30,35,40,45,50,55,60,65,70,75,80,85,90]]:\n",
    "        number =features*num_features//100\n",
    "        bow_pipeline = Pipeline([\n",
    "            ('vectorizer', vectorizer(ngram_range=(from_, to_), max_features = number)),\n",
    "            ('classifier', MultinomialNB())\n",
    "        ])\n",
    "        \n",
    "        bow_pipeline.fit(X_train, y_train)\n",
    "        \n",
    "        # acc = model_evaluation(bow_pipeline)\n",
    "        y_pred = bow_pipeline.predict(X_test)\n",
    "        acc = accuracy_score(y_test, y_pred)\n",
    "        feature_number.append(number)\n",
    "        accuraccies.append(acc)\n",
    "        print(f\"{number} features ({features}%) -> Accuracy: {acc}\")\n",
    "\n",
    "        print(\"\")\n",
    "\n",
    "        print(\"\")\n",
    "    return [feature_number, accuraccies]"
   ]
  },
  {
   "cell_type": "code",
   "execution_count": 130,
   "id": "2854405f-49d0-4073-b5ad-580f48a101d8",
   "metadata": {
    "scrolled": true
   },
   "outputs": [
    {
     "name": "stdout",
     "output_type": "stream",
     "text": [
      "this many features were found:  104388 \n",
      "\n",
      "5219 features (5%) -> Accuracy: 0.478125\n",
      "\n",
      "\n",
      "10438 features (10%) -> Accuracy: 0.51875\n",
      "\n",
      "\n",
      "15658 features (15%) -> Accuracy: 0.5475\n",
      "\n",
      "\n",
      "20877 features (20%) -> Accuracy: 0.553125\n",
      "\n",
      "\n",
      "26097 features (25%) -> Accuracy: 0.559375\n",
      "\n",
      "\n",
      "31316 features (30%) -> Accuracy: 0.5475\n",
      "\n",
      "\n",
      "36535 features (35%) -> Accuracy: 0.54\n",
      "\n",
      "\n",
      "41755 features (40%) -> Accuracy: 0.535625\n",
      "\n",
      "\n",
      "46974 features (45%) -> Accuracy: 0.531875\n",
      "\n",
      "\n",
      "52194 features (50%) -> Accuracy: 0.53\n",
      "\n",
      "\n",
      "57413 features (55%) -> Accuracy: 0.528125\n",
      "\n",
      "\n",
      "62632 features (60%) -> Accuracy: 0.528125\n",
      "\n",
      "\n",
      "67852 features (65%) -> Accuracy: 0.523125\n",
      "\n",
      "\n",
      "73071 features (70%) -> Accuracy: 0.52375\n",
      "\n",
      "\n",
      "78291 features (75%) -> Accuracy: 0.52375\n",
      "\n",
      "\n",
      "83510 features (80%) -> Accuracy: 0.523125\n",
      "\n",
      "\n",
      "88729 features (85%) -> Accuracy: 0.520625\n",
      "\n",
      "\n",
      "93949 features (90%) -> Accuracy: 0.51625\n",
      "\n",
      "\n"
     ]
    }
   ],
   "source": [
    "[feature_number,accuracies] = vectorizer_ngram(2,2, CountVectorizer)"
   ]
  },
  {
   "cell_type": "code",
   "execution_count": 131,
   "id": "bbd4fb9a-c0ef-448f-a7c8-e912bee44552",
   "metadata": {},
   "outputs": [
    {
     "data": {
      "image/png": "[encoded data removed]",
      "text/plain": [
       "<Figure size 432x288 with 1 Axes>"
      ]
     },
     "metadata": {
      "needs_background": "light"
     },
     "output_type": "display_data"
    }
   ],
   "source": [
    "plot_features_vs_accuracy(feature_number, accuracies)"
   ]
  },
  {
   "cell_type": "markdown",
   "id": "509b1043-9afc-4548-b6d7-01aa0c10cadd",
   "metadata": {},
   "source": [
    "we see that we perform better when we have singular words as features, so we will stick with:\n",
    "\n",
    "Pipeline([<br>\n",
    "            ('vectorizer', CountVectorizer(ngram_range=(1, 1), max_features = 3000)),<br>\n",
    "            ('classifier', MultinomialNB())<br>\n",
    "        ])\n"
   ]
  },
  {
   "cell_type": "markdown",
   "id": "a829db42-8854-4294-b049-3ca1d8c4ee90",
   "metadata": {},
   "source": [
    "## Experimenting with max_features argument combined with stop_words = {'english'}\n"
   ]
  },
  {
   "cell_type": "code",
   "execution_count": 209,
   "id": "960351f9-fa64-4516-ae09-682a3ebc25c4",
   "metadata": {},
   "outputs": [],
   "source": [
    "def vectorizer_ngram_stopwords(from_, to_,vectorizer,sub_tf=False, model = MultinomialNB()):\n",
    "    feature_number = []\n",
    "    accuraccies = []\n",
    "\n",
    "    le = LabelEncoder()\n",
    "    y_train_enc = le.fit_transform(y_train)\n",
    "    y_test_enc = le.transform(y_test)\n",
    "\n",
    "    \n",
    "    if vectorizer == CountVectorizer:\n",
    "        bow_pipeline = Pipeline([\n",
    "            ('vectorizer', vectorizer(ngram_range=(from_, to_), stop_words='english')),\n",
    "            ('classifier', model)\n",
    "        ])\n",
    "    else:\n",
    "        bow_pipeline = Pipeline([\n",
    "            ('vectorizer', vectorizer(ngram_range=(from_, to_), stop_words='english', sublinear_tf=sub_tf)),\n",
    "            ('classifier', model)\n",
    "        ])\n",
    "        \n",
    "    bow_pipeline.fit(X_train, y_train_enc)\n",
    "    \n",
    "    \n",
    "    num_features = len(bow_pipeline.named_steps['vectorizer'].vocabulary_)\n",
    "    print(\"this many features were found: \", num_features, \"\\n\")\n",
    "\n",
    "    \n",
    "    \n",
    "    \n",
    "    for features in [k for k in [5,10,15,20,25,30,35,40,45,50,55,60,65,70,75,80,85,90,95,100]]:\n",
    "        number =features*num_features//100\n",
    "        if vectorizer == CountVectorizer:\n",
    "            bow_pipeline = Pipeline([\n",
    "                ('vectorizer', vectorizer(ngram_range=(from_, to_), stop_words='english', max_features = number)),\n",
    "                ('classifier', model)\n",
    "            ])\n",
    "        else:\n",
    "            bow_pipeline = Pipeline([\n",
    "                ('vectorizer', vectorizer(ngram_range=(from_, to_), stop_words='english', sublinear_tf=sub_tf, max_features = number)),\n",
    "                ('classifier', model)\n",
    "            ])\n",
    "        \n",
    "        bow_pipeline.fit(X_train, y_train_enc)\n",
    "        \n",
    "        # acc = model_evaluation(bow_pipeline)\n",
    "        y_pred_enc = bow_pipeline.predict(X_test)\n",
    "        y_pred = le.inverse_transform(y_pred_enc)\n",
    "        acc = accuracy_score(y_test, y_pred)\n",
    "        feature_number.append(number)\n",
    "        accuraccies.append(acc)\n",
    "        print(f\"{number} features ({features}%) -> Accuracy: {acc}\")\n",
    "\n",
    "        # print(\"\")\n",
    "    return [feature_number,accuraccies]"
   ]
  },
  {
   "cell_type": "code",
   "execution_count": 133,
   "id": "5fa7984a-797a-4dba-9aaf-ed2b79132ea3",
   "metadata": {
    "scrolled": true
   },
   "outputs": [
    {
     "name": "stdout",
     "output_type": "stream",
     "text": [
      "this many features were found:  13807 \n",
      "\n",
      "690 features (5%) -> Accuracy: 0.5975\n",
      "1380 features (10%) -> Accuracy: 0.7625\n",
      "2071 features (15%) -> Accuracy: 0.810625\n",
      "2761 features (20%) -> Accuracy: 0.816875\n",
      "3451 features (25%) -> Accuracy: 0.81875\n",
      "4142 features (30%) -> Accuracy: 0.8225\n",
      "4832 features (35%) -> Accuracy: 0.8225\n",
      "5522 features (40%) -> Accuracy: 0.816875\n",
      "6213 features (45%) -> Accuracy: 0.813125\n",
      "6903 features (50%) -> Accuracy: 0.81125\n",
      "7593 features (55%) -> Accuracy: 0.80875\n",
      "8284 features (60%) -> Accuracy: 0.805\n",
      "8974 features (65%) -> Accuracy: 0.805\n",
      "9664 features (70%) -> Accuracy: 0.803125\n",
      "10355 features (75%) -> Accuracy: 0.800625\n",
      "11045 features (80%) -> Accuracy: 0.8\n",
      "11735 features (85%) -> Accuracy: 0.798125\n",
      "12426 features (90%) -> Accuracy: 0.794375\n",
      "13116 features (95%) -> Accuracy: 0.793125\n",
      "13807 features (100%) -> Accuracy: 0.7925\n"
     ]
    }
   ],
   "source": [
    "[feature_number,accuracies] = vectorizer_ngram_stopwords(1,1,CountVectorizer)"
   ]
  },
  {
   "cell_type": "code",
   "execution_count": 134,
   "id": "bc414c9e-4e83-4257-a206-69f5f3abbaef",
   "metadata": {},
   "outputs": [
    {
     "data": {
      "image/png": "[encoded data removed]",
      "text/plain": [
       "<Figure size 432x288 with 1 Axes>"
      ]
     },
     "metadata": {
      "needs_background": "light"
     },
     "output_type": "display_data"
    }
   ],
   "source": [
    "plot_features_vs_accuracy(feature_number, accuracies)"
   ]
  },
  {
   "cell_type": "markdown",
   "id": "80a778c4-5dec-4562-8a4f-f2a274588afe",
   "metadata": {},
   "source": [
    "for 4142 features (30%) and 4832 features (35%) we got accuracy=0.8225 so increase by 3%<br>\n",
    "maybe with other ranges?"
   ]
  },
  {
   "cell_type": "code",
   "execution_count": 135,
   "id": "e64fe110-95d9-4aec-8c20-62658d2d3c5e",
   "metadata": {
    "scrolled": true
   },
   "outputs": [
    {
     "name": "stdout",
     "output_type": "stream",
     "text": [
      "this many features were found:  96401 \n",
      "\n",
      "4820 features (5%) -> Accuracy: 0.82625\n",
      "9640 features (10%) -> Accuracy: 0.82\n",
      "14460 features (15%) -> Accuracy: 0.819375\n",
      "19280 features (20%) -> Accuracy: 0.819375\n",
      "24100 features (25%) -> Accuracy: 0.81625\n",
      "28920 features (30%) -> Accuracy: 0.8075\n",
      "33740 features (35%) -> Accuracy: 0.8\n",
      "38560 features (40%) -> Accuracy: 0.7975\n",
      "43380 features (45%) -> Accuracy: 0.791875\n",
      "48200 features (50%) -> Accuracy: 0.786875\n",
      "53020 features (55%) -> Accuracy: 0.78375\n",
      "57840 features (60%) -> Accuracy: 0.780625\n",
      "62660 features (65%) -> Accuracy: 0.780625\n",
      "67480 features (70%) -> Accuracy: 0.78\n",
      "72300 features (75%) -> Accuracy: 0.778125\n",
      "77120 features (80%) -> Accuracy: 0.775625\n",
      "81940 features (85%) -> Accuracy: 0.775\n",
      "86760 features (90%) -> Accuracy: 0.779375\n",
      "91580 features (95%) -> Accuracy: 0.78\n",
      "96401 features (100%) -> Accuracy: 0.779375\n"
     ]
    }
   ],
   "source": [
    "[feature_number,accuracies] = vectorizer_ngram_stopwords(1,2,CountVectorizer)"
   ]
  },
  {
   "cell_type": "code",
   "execution_count": 136,
   "id": "73fd03af-1ccd-4b57-b35b-c1af3cb68a33",
   "metadata": {},
   "outputs": [
    {
     "data": {
      "image/png": "[encoded data removed]",
      "text/plain": [
       "<Figure size 432x288 with 1 Axes>"
      ]
     },
     "metadata": {
      "needs_background": "light"
     },
     "output_type": "display_data"
    }
   ],
   "source": [
    "plot_features_vs_accuracy(feature_number, accuracies)"
   ]
  },
  {
   "cell_type": "markdown",
   "id": "332256a2-f730-4a7e-9305-d42e734f92d7",
   "metadata": {},
   "source": [
    "#### single words!!!!!\n",
    "the best accuracy we have ever got and it's for 5% of all features.<br>\n",
    "we can suspect that the most common words are single words + it's around 4000/5000 words,<br> so the same number \n",
    "as we got in the previous example, that included only single words, <br> so single words is DEFINITELY the way to go "
   ]
  },
  {
   "cell_type": "code",
   "execution_count": 137,
   "id": "d3400af5-631e-4f24-89c4-06c3764e5fb0",
   "metadata": {
    "scrolled": true
   },
   "outputs": [
    {
     "name": "stdout",
     "output_type": "stream",
     "text": [
      "this many features were found:  82594 \n",
      "\n",
      "4129 features (5%) -> Accuracy: 0.606875\n",
      "8259 features (10%) -> Accuracy: 0.64625\n",
      "12389 features (15%) -> Accuracy: 0.648125\n",
      "16518 features (20%) -> Accuracy: 0.6475\n",
      "20648 features (25%) -> Accuracy: 0.650625\n",
      "24778 features (30%) -> Accuracy: 0.650625\n",
      "28907 features (35%) -> Accuracy: 0.649375\n",
      "33037 features (40%) -> Accuracy: 0.650625\n",
      "37167 features (45%) -> Accuracy: 0.649375\n",
      "41297 features (50%) -> Accuracy: 0.645625\n",
      "45426 features (55%) -> Accuracy: 0.6475\n",
      "49556 features (60%) -> Accuracy: 0.65\n",
      "53686 features (65%) -> Accuracy: 0.65125\n",
      "57815 features (70%) -> Accuracy: 0.6525\n",
      "61945 features (75%) -> Accuracy: 0.651875\n",
      "66075 features (80%) -> Accuracy: 0.65375\n",
      "70204 features (85%) -> Accuracy: 0.654375\n",
      "74334 features (90%) -> Accuracy: 0.67125\n",
      "78464 features (95%) -> Accuracy: 0.67375\n",
      "82594 features (100%) -> Accuracy: 0.673125\n"
     ]
    }
   ],
   "source": [
    "[feature_number,accuracies] = vectorizer_ngram_stopwords(2,2,CountVectorizer)"
   ]
  },
  {
   "cell_type": "code",
   "execution_count": 138,
   "id": "54374a52-fc94-4791-b9ae-f8ecf48c27bd",
   "metadata": {},
   "outputs": [
    {
     "data": {
      "image/png": "[encoded data removed]",
      "text/plain": [
       "<Figure size 432x288 with 1 Axes>"
      ]
     },
     "metadata": {
      "needs_background": "light"
     },
     "output_type": "display_data"
    }
   ],
   "source": [
    "plot_features_vs_accuracy(feature_number, accuracies)"
   ]
  },
  {
   "cell_type": "markdown",
   "id": "b3783c13-4c0d-42bd-a1d4-5cefaf41a7a1",
   "metadata": {},
   "source": [
    "again, the model needs single words to perform"
   ]
  },
  {
   "cell_type": "markdown",
   "id": "d9aaaa3e-521c-4908-8042-4ec698cfad34",
   "metadata": {},
   "source": [
    "### but using stop_words = 'english' is beneficial"
   ]
  },
  {
   "cell_type": "markdown",
   "id": "f2af3323",
   "metadata": {},
   "source": [
    "## TF-IDF (Term Frequency-Inverse Document Frequency)\n",
    "Weighs word frequency by how common it is across all documents.<br>\n",
    "Multiplies two values:\n",
    "<li>TF (Term Frequency) = Frequency of a term in a document.\n",
    "<li>IDF (Inverse Document Frequency) = Inverse of how many documents contain the term.\n",
    "<br>\n",
    "Reduces the impact of common but less informative words, but ignores word order."
   ]
  },
  {
   "cell_type": "code",
   "execution_count": 139,
   "id": "09123cde",
   "metadata": {
    "scrolled": true
   },
   "outputs": [
    {
     "name": "stdout",
     "output_type": "stream",
     "text": [
      "\n",
      " Model Performance:\n",
      "Accuracy: 0.651875\n"
     ]
    },
    {
     "data": {
      "text/plain": [
       "0.651875"
      ]
     },
     "execution_count": 139,
     "metadata": {},
     "output_type": "execute_result"
    }
   ],
   "source": [
    "tfidf_pipeline = Pipeline([\n",
    "    ('vectorizer', TfidfVectorizer()),\n",
    "    ('classifier', MultinomialNB())\n",
    "])\n",
    "\n",
    "tfidf_pipeline.fit(X_train, y_train)\n",
    "\n",
    "model_evaluation(tfidf_pipeline)"
   ]
  },
  {
   "cell_type": "markdown",
   "id": "6eff0197-3146-4c99-9a80-ae16833b645f",
   "metadata": {},
   "source": [
    "let's also see how does this vectorizer perform with different ngram_range/max_features values"
   ]
  },
  {
   "cell_type": "code",
   "execution_count": 140,
   "id": "faf5a15c-5dde-4a72-9af3-e3f4560f26ed",
   "metadata": {},
   "outputs": [
    {
     "name": "stdout",
     "output_type": "stream",
     "text": [
      "this many features were found:  14101 \n",
      "\n",
      "705 features (5%) -> Accuracy: 0.523125\n",
      "\n",
      "\n",
      "1410 features (10%) -> Accuracy: 0.70875\n",
      "\n",
      "\n",
      "2115 features (15%) -> Accuracy: 0.755\n",
      "\n",
      "\n",
      "2820 features (20%) -> Accuracy: 0.75875\n",
      "\n",
      "\n",
      "3525 features (25%) -> Accuracy: 0.755625\n",
      "\n",
      "\n",
      "4230 features (30%) -> Accuracy: 0.753125\n",
      "\n",
      "\n",
      "4935 features (35%) -> Accuracy: 0.745625\n",
      "\n",
      "\n",
      "5640 features (40%) -> Accuracy: 0.735\n",
      "\n",
      "\n",
      "6345 features (45%) -> Accuracy: 0.726875\n",
      "\n",
      "\n",
      "7050 features (50%) -> Accuracy: 0.7175\n",
      "\n",
      "\n",
      "7755 features (55%) -> Accuracy: 0.70625\n",
      "\n",
      "\n",
      "8460 features (60%) -> Accuracy: 0.69875\n",
      "\n",
      "\n",
      "9165 features (65%) -> Accuracy: 0.69125\n",
      "\n",
      "\n",
      "9870 features (70%) -> Accuracy: 0.684375\n",
      "\n",
      "\n",
      "10575 features (75%) -> Accuracy: 0.676875\n",
      "\n",
      "\n",
      "11280 features (80%) -> Accuracy: 0.669375\n",
      "\n",
      "\n",
      "11985 features (85%) -> Accuracy: 0.66625\n",
      "\n",
      "\n",
      "12690 features (90%) -> Accuracy: 0.663125\n",
      "\n",
      "\n"
     ]
    },
    {
     "data": {
      "image/png": "[encoded data removed]",
      "text/plain": [
       "<Figure size 432x288 with 1 Axes>"
      ]
     },
     "metadata": {
      "needs_background": "light"
     },
     "output_type": "display_data"
    }
   ],
   "source": [
    "[feature_number,accuracies] = vectorizer_ngram(1,1, TfidfVectorizer)\n",
    "plot_features_vs_accuracy(feature_number, accuracies)"
   ]
  },
  {
   "cell_type": "markdown",
   "id": "124109c3-5350-4943-bc99-6e3120d56a74",
   "metadata": {},
   "source": [
    "worse than for the first vectorizer, let's see with other ngram_values"
   ]
  },
  {
   "cell_type": "code",
   "execution_count": 141,
   "id": "0d784afa-7312-4bff-a42e-9a7f726213da",
   "metadata": {},
   "outputs": [
    {
     "name": "stdout",
     "output_type": "stream",
     "text": [
      "this many features were found:  118489 \n",
      "\n",
      "5924 features (5%) -> Accuracy: 0.694375\n",
      "\n",
      "\n",
      "11848 features (10%) -> Accuracy: 0.689375\n",
      "\n",
      "\n",
      "17773 features (15%) -> Accuracy: 0.66625\n",
      "\n",
      "\n",
      "23697 features (20%) -> Accuracy: 0.644375\n",
      "\n",
      "\n",
      "29622 features (25%) -> Accuracy: 0.638125\n",
      "\n",
      "\n",
      "35546 features (30%) -> Accuracy: 0.623125\n",
      "\n",
      "\n",
      "41471 features (35%) -> Accuracy: 0.609375\n",
      "\n",
      "\n",
      "47395 features (40%) -> Accuracy: 0.5975\n",
      "\n",
      "\n",
      "53320 features (45%) -> Accuracy: 0.5925\n",
      "\n",
      "\n",
      "59244 features (50%) -> Accuracy: 0.584375\n",
      "\n",
      "\n",
      "65168 features (55%) -> Accuracy: 0.578125\n",
      "\n",
      "\n",
      "71093 features (60%) -> Accuracy: 0.57375\n",
      "\n",
      "\n",
      "77017 features (65%) -> Accuracy: 0.57\n",
      "\n",
      "\n",
      "82942 features (70%) -> Accuracy: 0.56625\n",
      "\n",
      "\n",
      "88866 features (75%) -> Accuracy: 0.5625\n",
      "\n",
      "\n",
      "94791 features (80%) -> Accuracy: 0.560625\n",
      "\n",
      "\n",
      "100715 features (85%) -> Accuracy: 0.554375\n",
      "\n",
      "\n",
      "106640 features (90%) -> Accuracy: 0.550625\n",
      "\n",
      "\n"
     ]
    },
    {
     "data": {
      "image/png": "[encoded data removed]",
      "text/plain": [
       "<Figure size 432x288 with 1 Axes>"
      ]
     },
     "metadata": {
      "needs_background": "light"
     },
     "output_type": "display_data"
    }
   ],
   "source": [
    "[feature_number,accuracies] = vectorizer_ngram(1,2, TfidfVectorizer)\n",
    "plot_features_vs_accuracy(feature_number, accuracies)"
   ]
  },
  {
   "cell_type": "code",
   "execution_count": 142,
   "id": "e6210350-1098-41ce-8111-7dc37e3170cd",
   "metadata": {},
   "outputs": [
    {
     "name": "stdout",
     "output_type": "stream",
     "text": [
      "this many features were found:  104388 \n",
      "\n",
      "5219 features (5%) -> Accuracy: 0.474375\n",
      "\n",
      "\n",
      "10438 features (10%) -> Accuracy: 0.518125\n",
      "\n",
      "\n",
      "15658 features (15%) -> Accuracy: 0.5375\n",
      "\n",
      "\n",
      "20877 features (20%) -> Accuracy: 0.535625\n",
      "\n",
      "\n",
      "26097 features (25%) -> Accuracy: 0.539375\n",
      "\n",
      "\n",
      "31316 features (30%) -> Accuracy: 0.530625\n",
      "\n",
      "\n",
      "36535 features (35%) -> Accuracy: 0.5225\n",
      "\n",
      "\n",
      "41755 features (40%) -> Accuracy: 0.52\n",
      "\n",
      "\n",
      "46974 features (45%) -> Accuracy: 0.52125\n",
      "\n",
      "\n",
      "52194 features (50%) -> Accuracy: 0.51875\n",
      "\n",
      "\n",
      "57413 features (55%) -> Accuracy: 0.51625\n",
      "\n",
      "\n",
      "62632 features (60%) -> Accuracy: 0.515\n",
      "\n",
      "\n",
      "67852 features (65%) -> Accuracy: 0.515625\n",
      "\n",
      "\n",
      "73071 features (70%) -> Accuracy: 0.514375\n",
      "\n",
      "\n",
      "78291 features (75%) -> Accuracy: 0.515\n",
      "\n",
      "\n",
      "83510 features (80%) -> Accuracy: 0.51625\n",
      "\n",
      "\n",
      "88729 features (85%) -> Accuracy: 0.513125\n",
      "\n",
      "\n",
      "93949 features (90%) -> Accuracy: 0.51375\n",
      "\n",
      "\n"
     ]
    },
    {
     "data": {
      "image/png": "[encoded data removed]",
      "text/plain": [
       "<Figure size 432x288 with 1 Axes>"
      ]
     },
     "metadata": {
      "needs_background": "light"
     },
     "output_type": "display_data"
    }
   ],
   "source": [
    "[feature_number,accuracies] = vectorizer_ngram(2,2, TfidfVectorizer)\n",
    "plot_features_vs_accuracy(feature_number, accuracies)"
   ]
  },
  {
   "cell_type": "code",
   "execution_count": 143,
   "id": "7e675b80-554c-4640-a2bb-e5f9148fe81e",
   "metadata": {},
   "outputs": [
    {
     "name": "stdout",
     "output_type": "stream",
     "text": [
      "this many features were found:  285115 \n",
      "\n",
      "14255 features (5%) -> Accuracy: 0.49625\n",
      "\n",
      "\n",
      "28511 features (10%) -> Accuracy: 0.51\n",
      "\n",
      "\n",
      "42767 features (15%) -> Accuracy: 0.51875\n",
      "\n",
      "\n",
      "57023 features (20%) -> Accuracy: 0.511875\n",
      "\n",
      "\n",
      "71278 features (25%) -> Accuracy: 0.50625\n",
      "\n",
      "\n",
      "85534 features (30%) -> Accuracy: 0.501875\n",
      "\n",
      "\n",
      "99790 features (35%) -> Accuracy: 0.50375\n",
      "\n",
      "\n",
      "114046 features (40%) -> Accuracy: 0.500625\n",
      "\n",
      "\n",
      "128301 features (45%) -> Accuracy: 0.499375\n",
      "\n",
      "\n",
      "142557 features (50%) -> Accuracy: 0.495625\n",
      "\n",
      "\n",
      "156813 features (55%) -> Accuracy: 0.494375\n",
      "\n",
      "\n",
      "171069 features (60%) -> Accuracy: 0.489375\n",
      "\n",
      "\n",
      "185324 features (65%) -> Accuracy: 0.488125\n",
      "\n",
      "\n",
      "199580 features (70%) -> Accuracy: 0.4875\n",
      "\n",
      "\n",
      "213836 features (75%) -> Accuracy: 0.48875\n",
      "\n",
      "\n",
      "228092 features (80%) -> Accuracy: 0.484375\n",
      "\n",
      "\n",
      "242347 features (85%) -> Accuracy: 0.48375\n",
      "\n",
      "\n",
      "256603 features (90%) -> Accuracy: 0.48375\n",
      "\n",
      "\n"
     ]
    },
    {
     "data": {
      "image/png": "[encoded data removed]",
      "text/plain": [
       "<Figure size 432x288 with 1 Axes>"
      ]
     },
     "metadata": {
      "needs_background": "light"
     },
     "output_type": "display_data"
    }
   ],
   "source": [
    "[feature_number,accuracies] = vectorizer_ngram(2,3, TfidfVectorizer)\n",
    "plot_features_vs_accuracy(feature_number, accuracies)"
   ]
  },
  {
   "cell_type": "markdown",
   "id": "eee1b4d5-120a-4106-8bb4-cc9ffbcdd76d",
   "metadata": {},
   "source": [
    "as we can see, approach with this particular vectorizer is just worse<br>\n",
    "maybe stop_words will change something? <br>only for ngram_range = (1,1) and (1,2) so to have single words"
   ]
  },
  {
   "cell_type": "markdown",
   "id": "6c5a6313-96f8-4933-af9b-0bbea2faeee6",
   "metadata": {},
   "source": [
    "### experimenting with the TfidfVectorizer and stop_words = 'english'"
   ]
  },
  {
   "cell_type": "code",
   "execution_count": 206,
   "id": "5a9a741d-0c78-4296-b97a-1570e83a8583",
   "metadata": {},
   "outputs": [
    {
     "name": "stdout",
     "output_type": "stream",
     "text": [
      "this many features were found:  13807 \n",
      "\n",
      "690 features (5%) -> Accuracy: 0.609375\n",
      "1380 features (10%) -> Accuracy: 0.75125\n",
      "2071 features (15%) -> Accuracy: 0.803125\n",
      "2761 features (20%) -> Accuracy: 0.80875\n",
      "3451 features (25%) -> Accuracy: 0.8125\n",
      "4142 features (30%) -> Accuracy: 0.81125\n",
      "4832 features (35%) -> Accuracy: 0.8125\n",
      "5522 features (40%) -> Accuracy: 0.808125\n",
      "6213 features (45%) -> Accuracy: 0.805\n",
      "6903 features (50%) -> Accuracy: 0.79875\n",
      "7593 features (55%) -> Accuracy: 0.79875\n",
      "8284 features (60%) -> Accuracy: 0.79125\n",
      "8974 features (65%) -> Accuracy: 0.786875\n",
      "9664 features (70%) -> Accuracy: 0.78625\n",
      "10355 features (75%) -> Accuracy: 0.78375\n",
      "11045 features (80%) -> Accuracy: 0.780625\n",
      "11735 features (85%) -> Accuracy: 0.77875\n",
      "12426 features (90%) -> Accuracy: 0.77625\n",
      "13116 features (95%) -> Accuracy: 0.775625\n",
      "13807 features (100%) -> Accuracy: 0.775625\n"
     ]
    },
    {
     "data": {
      "image/png": "[encoded data removed]",
      "text/plain": [
       "<Figure size 432x288 with 1 Axes>"
      ]
     },
     "metadata": {
      "needs_background": "light"
     },
     "output_type": "display_data"
    }
   ],
   "source": [
    "[feature_number,accuracies] = vectorizer_ngram_stopwords(1,1,TfidfVectorizer)\n",
    "plot_features_vs_accuracy(feature_number, accuracies)"
   ]
  },
  {
   "cell_type": "code",
   "execution_count": 145,
   "id": "1cf07a74-8fa9-4264-a022-d6cabc2b1d9b",
   "metadata": {},
   "outputs": [
    {
     "name": "stdout",
     "output_type": "stream",
     "text": [
      "this many features were found:  96401 \n",
      "\n",
      "4820 features (5%) -> Accuracy: 0.815\n",
      "9640 features (10%) -> Accuracy: 0.816875\n",
      "14460 features (15%) -> Accuracy: 0.810625\n",
      "19280 features (20%) -> Accuracy: 0.796875\n",
      "24100 features (25%) -> Accuracy: 0.791875\n",
      "28920 features (30%) -> Accuracy: 0.785\n",
      "33740 features (35%) -> Accuracy: 0.78125\n",
      "38560 features (40%) -> Accuracy: 0.776875\n",
      "43380 features (45%) -> Accuracy: 0.77375\n",
      "48200 features (50%) -> Accuracy: 0.77125\n",
      "53020 features (55%) -> Accuracy: 0.77375\n",
      "57840 features (60%) -> Accuracy: 0.773125\n",
      "62660 features (65%) -> Accuracy: 0.77125\n",
      "67480 features (70%) -> Accuracy: 0.77125\n",
      "72300 features (75%) -> Accuracy: 0.7675\n",
      "77120 features (80%) -> Accuracy: 0.768125\n",
      "81940 features (85%) -> Accuracy: 0.7675\n",
      "86760 features (90%) -> Accuracy: 0.764375\n",
      "91580 features (95%) -> Accuracy: 0.764375\n",
      "96401 features (100%) -> Accuracy: 0.763125\n"
     ]
    },
    {
     "data": {
      "image/png": "[encoded data removed]",
      "text/plain": [
       "<Figure size 432x288 with 1 Axes>"
      ]
     },
     "metadata": {
      "needs_background": "light"
     },
     "output_type": "display_data"
    }
   ],
   "source": [
    "[feature_number,accuracies] = vectorizer_ngram_stopwords(1,2,TfidfVectorizer)\n",
    "plot_features_vs_accuracy(feature_number, accuracies)"
   ]
  },
  {
   "cell_type": "markdown",
   "id": "f16c7333-e8e1-451a-a83c-4896f37958b3",
   "metadata": {},
   "source": [
    "for ngram_range=(1,1) the accuracy score is close to the CountVectorizer, but slightly worse"
   ]
  },
  {
   "cell_type": "markdown",
   "id": "70eaf96b-a618-4c76-b88b-e46019e88441",
   "metadata": {},
   "source": [
    "### experimenting with the TfidfVectorizer and sublinear_tf=True\n",
    "This is called sublinear scaling, and it dampens the effect of very frequent words. Instead of letting the frequency grow linearly, it grows logarithmically."
   ]
  },
  {
   "cell_type": "code",
   "execution_count": 146,
   "id": "0b59b5a2-5be4-45cd-99ad-73bfeca5e345",
   "metadata": {},
   "outputs": [
    {
     "name": "stdout",
     "output_type": "stream",
     "text": [
      "this many features were found:  13807 \n",
      "\n",
      "690 features (5%) -> Accuracy: 0.610625\n",
      "1380 features (10%) -> Accuracy: 0.75125\n",
      "2071 features (15%) -> Accuracy: 0.80625\n",
      "2761 features (20%) -> Accuracy: 0.81\n",
      "3451 features (25%) -> Accuracy: 0.81375\n",
      "4142 features (30%) -> Accuracy: 0.81375\n",
      "4832 features (35%) -> Accuracy: 0.81375\n",
      "5522 features (40%) -> Accuracy: 0.809375\n",
      "6213 features (45%) -> Accuracy: 0.806875\n",
      "6903 features (50%) -> Accuracy: 0.8025\n",
      "7593 features (55%) -> Accuracy: 0.799375\n",
      "8284 features (60%) -> Accuracy: 0.795\n",
      "8974 features (65%) -> Accuracy: 0.793125\n",
      "9664 features (70%) -> Accuracy: 0.788125\n",
      "10355 features (75%) -> Accuracy: 0.785625\n",
      "11045 features (80%) -> Accuracy: 0.783125\n",
      "11735 features (85%) -> Accuracy: 0.780625\n",
      "12426 features (90%) -> Accuracy: 0.78\n",
      "13116 features (95%) -> Accuracy: 0.77875\n",
      "13807 features (100%) -> Accuracy: 0.7775\n"
     ]
    },
    {
     "data": {
      "image/png": "[encoded data removed]",
      "text/plain": [
       "<Figure size 432x288 with 1 Axes>"
      ]
     },
     "metadata": {
      "needs_background": "light"
     },
     "output_type": "display_data"
    }
   ],
   "source": [
    "[feature_number,accuracies] = vectorizer_ngram_stopwords(1,1,TfidfVectorizer, sub_tf = True)\n",
    "plot_features_vs_accuracy(feature_number, accuracies)"
   ]
  },
  {
   "cell_type": "code",
   "execution_count": 185,
   "id": "cd4a27f5-d0a1-4b49-bfca-71d2b1f01432",
   "metadata": {},
   "outputs": [
    {
     "name": "stdout",
     "output_type": "stream",
     "text": [
      "this many features were found:  96401 \n",
      "\n",
      "4820 features (5%) -> Accuracy: 0.81875\n",
      "9640 features (10%) -> Accuracy: 0.819375\n",
      "14460 features (15%) -> Accuracy: 0.813125\n",
      "19280 features (20%) -> Accuracy: 0.801875\n",
      "24100 features (25%) -> Accuracy: 0.793125\n",
      "28920 features (30%) -> Accuracy: 0.7875\n",
      "33740 features (35%) -> Accuracy: 0.78125\n",
      "38560 features (40%) -> Accuracy: 0.77625\n",
      "43380 features (45%) -> Accuracy: 0.775625\n",
      "48200 features (50%) -> Accuracy: 0.77375\n",
      "53020 features (55%) -> Accuracy: 0.774375\n",
      "57840 features (60%) -> Accuracy: 0.775\n",
      "62660 features (65%) -> Accuracy: 0.773125\n",
      "67480 features (70%) -> Accuracy: 0.7725\n",
      "72300 features (75%) -> Accuracy: 0.77\n",
      "77120 features (80%) -> Accuracy: 0.77\n",
      "81940 features (85%) -> Accuracy: 0.77\n",
      "86760 features (90%) -> Accuracy: 0.768125\n",
      "91580 features (95%) -> Accuracy: 0.768125\n",
      "96401 features (100%) -> Accuracy: 0.765625\n"
     ]
    },
    {
     "data": {
      "image/png": "[encoded data removed]",
      "text/plain": [
       "<Figure size 432x288 with 1 Axes>"
      ]
     },
     "metadata": {
      "needs_background": "light"
     },
     "output_type": "display_data"
    }
   ],
   "source": [
    "[feature_number,accuracies] = vectorizer_ngram_stopwords(1,2,TfidfVectorizer, sub_tf = True)\n",
    "plot_features_vs_accuracy(feature_number, accuracies)"
   ]
  },
  {
   "cell_type": "markdown",
   "id": "774f68f0-261c-4022-8466-c5d1f86757c4",
   "metadata": {},
   "source": [
    "improves the performance a little bit but it's still worse than CountVectorizer"
   ]
  },
  {
   "cell_type": "markdown",
   "id": "e79daf1c-081b-4fd1-82db-ed1b26aed1e6",
   "metadata": {},
   "source": [
    "### experimenting with arguments of the MultinomialNB itself"
   ]
  },
  {
   "cell_type": "markdown",
   "id": "c5b9f641-2fbb-4e9c-839e-a94f19adb0e5",
   "metadata": {},
   "source": [
    "MultinomialNB(alfa = [0.8, 0.5, 0.1, 0.01, 0.001]) "
   ]
  },
  {
   "cell_type": "code",
   "execution_count": 148,
   "id": "7a2e419b-98f1-4bde-a915-a16b3492d432",
   "metadata": {},
   "outputs": [],
   "source": [
    "def alfa_arg_vectorizer(from_, to_, vectorizer, alpha = [1.0,0.9,0.8, 0.5, 0.1, 0.01, 0.001]):\n",
    "    for a in alpha:\n",
    "        print(f\"vectorizer: {vectorizer}\")\n",
    "        print(f\"range: {from_} - {to_}\")\n",
    "        print(f\"alpha = {a}\")\n",
    "        print(\"\")\n",
    "        [feature_number,accuracies] = vectorizer_ngram_stopwords(from_,to_, vectorizer, sub_tf=True, model = MultinomialNB(alpha=a))\n",
    "        plot_features_vs_accuracy(feature_number, accuracies)\n",
    "        print(max(accuracies))\n",
    "        print(\"\")\n",
    "        print(\"\")\n",
    "        print(\"\")        "
   ]
  },
  {
   "cell_type": "code",
   "execution_count": 149,
   "id": "02be7ad0-20c5-4d33-a3f1-bd5fbb0a325b",
   "metadata": {},
   "outputs": [
    {
     "name": "stdout",
     "output_type": "stream",
     "text": [
      "vectorizer: <class 'sklearn.feature_extraction.text.CountVectorizer'>\n",
      "range: 1 - 1\n",
      "alpha = 1.0\n",
      "\n",
      "this many features were found:  13807 \n",
      "\n",
      "690 features (5%) -> Accuracy: 0.5975\n",
      "1380 features (10%) -> Accuracy: 0.7625\n",
      "2071 features (15%) -> Accuracy: 0.810625\n",
      "2761 features (20%) -> Accuracy: 0.816875\n",
      "3451 features (25%) -> Accuracy: 0.81875\n",
      "4142 features (30%) -> Accuracy: 0.8225\n",
      "4832 features (35%) -> Accuracy: 0.8225\n",
      "5522 features (40%) -> Accuracy: 0.816875\n",
      "6213 features (45%) -> Accuracy: 0.813125\n",
      "6903 features (50%) -> Accuracy: 0.81125\n",
      "7593 features (55%) -> Accuracy: 0.80875\n",
      "8284 features (60%) -> Accuracy: 0.805\n",
      "8974 features (65%) -> Accuracy: 0.805\n",
      "9664 features (70%) -> Accuracy: 0.803125\n",
      "10355 features (75%) -> Accuracy: 0.800625\n",
      "11045 features (80%) -> Accuracy: 0.8\n",
      "11735 features (85%) -> Accuracy: 0.798125\n",
      "12426 features (90%) -> Accuracy: 0.794375\n",
      "13116 features (95%) -> Accuracy: 0.793125\n",
      "13807 features (100%) -> Accuracy: 0.7925\n",
      "0.8225\n",
      "\n",
      "\n",
      "\n",
      "vectorizer: <class 'sklearn.feature_extraction.text.CountVectorizer'>\n",
      "range: 1 - 1\n",
      "alpha = 0.9\n",
      "\n",
      "this many features were found:  13807 \n",
      "\n",
      "690 features (5%) -> Accuracy: 0.5975\n",
      "1380 features (10%) -> Accuracy: 0.7625\n",
      "2071 features (15%) -> Accuracy: 0.810625\n",
      "2761 features (20%) -> Accuracy: 0.8175\n",
      "3451 features (25%) -> Accuracy: 0.820625\n",
      "4142 features (30%) -> Accuracy: 0.8225\n",
      "4832 features (35%) -> Accuracy: 0.8225\n",
      "5522 features (40%) -> Accuracy: 0.821875\n",
      "6213 features (45%) -> Accuracy: 0.815625\n",
      "6903 features (50%) -> Accuracy: 0.8125\n",
      "7593 features (55%) -> Accuracy: 0.811875\n",
      "8284 features (60%) -> Accuracy: 0.809375\n",
      "8974 features (65%) -> Accuracy: 0.80625\n",
      "9664 features (70%) -> Accuracy: 0.803125\n",
      "10355 features (75%) -> Accuracy: 0.80125\n",
      "11045 features (80%) -> Accuracy: 0.80125\n",
      "11735 features (85%) -> Accuracy: 0.79875\n",
      "12426 features (90%) -> Accuracy: 0.795625\n",
      "13116 features (95%) -> Accuracy: 0.795\n",
      "13807 features (100%) -> Accuracy: 0.7925\n",
      "0.8225\n",
      "\n",
      "\n",
      "\n",
      "vectorizer: <class 'sklearn.feature_extraction.text.CountVectorizer'>\n",
      "range: 1 - 1\n",
      "alpha = 0.8\n",
      "\n",
      "this many features were found:  13807 \n",
      "\n",
      "690 features (5%) -> Accuracy: 0.59625\n",
      "1380 features (10%) -> Accuracy: 0.763125\n",
      "2071 features (15%) -> Accuracy: 0.810625\n",
      "2761 features (20%) -> Accuracy: 0.815\n",
      "3451 features (25%) -> Accuracy: 0.81875\n",
      "4142 features (30%) -> Accuracy: 0.820625\n",
      "4832 features (35%) -> Accuracy: 0.82375\n",
      "5522 features (40%) -> Accuracy: 0.821875\n",
      "6213 features (45%) -> Accuracy: 0.820625\n",
      "6903 features (50%) -> Accuracy: 0.816875\n",
      "7593 features (55%) -> Accuracy: 0.810625\n",
      "8284 features (60%) -> Accuracy: 0.80875\n",
      "8974 features (65%) -> Accuracy: 0.8075\n",
      "9664 features (70%) -> Accuracy: 0.805625\n",
      "10355 features (75%) -> Accuracy: 0.805\n",
      "11045 features (80%) -> Accuracy: 0.800625\n",
      "11735 features (85%) -> Accuracy: 0.800625\n",
      "12426 features (90%) -> Accuracy: 0.8\n",
      "13116 features (95%) -> Accuracy: 0.79875\n",
      "13807 features (100%) -> Accuracy: 0.7975\n",
      "0.82375\n",
      "\n",
      "\n",
      "\n",
      "vectorizer: <class 'sklearn.feature_extraction.text.CountVectorizer'>\n",
      "range: 1 - 1\n",
      "alpha = 0.5\n",
      "\n",
      "this many features were found:  13807 \n",
      "\n",
      "690 features (5%) -> Accuracy: 0.594375\n",
      "1380 features (10%) -> Accuracy: 0.76\n",
      "2071 features (15%) -> Accuracy: 0.808125\n",
      "2761 features (20%) -> Accuracy: 0.8125\n",
      "3451 features (25%) -> Accuracy: 0.814375\n",
      "4142 features (30%) -> Accuracy: 0.815\n",
      "4832 features (35%) -> Accuracy: 0.818125\n",
      "5522 features (40%) -> Accuracy: 0.816875\n",
      "6213 features (45%) -> Accuracy: 0.815625\n",
      "6903 features (50%) -> Accuracy: 0.81375\n",
      "7593 features (55%) -> Accuracy: 0.813125\n",
      "8284 features (60%) -> Accuracy: 0.811875\n",
      "8974 features (65%) -> Accuracy: 0.8125\n",
      "9664 features (70%) -> Accuracy: 0.8125\n",
      "10355 features (75%) -> Accuracy: 0.80875\n",
      "11045 features (80%) -> Accuracy: 0.805\n",
      "11735 features (85%) -> Accuracy: 0.80375\n",
      "12426 features (90%) -> Accuracy: 0.801875\n",
      "13116 features (95%) -> Accuracy: 0.801875\n",
      "13807 features (100%) -> Accuracy: 0.801875\n",
      "0.818125\n",
      "\n",
      "\n",
      "\n",
      "vectorizer: <class 'sklearn.feature_extraction.text.CountVectorizer'>\n",
      "range: 1 - 1\n",
      "alpha = 0.1\n",
      "\n",
      "this many features were found:  13807 \n",
      "\n",
      "690 features (5%) -> Accuracy: 0.585\n",
      "1380 features (10%) -> Accuracy: 0.738125\n",
      "2071 features (15%) -> Accuracy: 0.781875\n",
      "2761 features (20%) -> Accuracy: 0.778125\n",
      "3451 features (25%) -> Accuracy: 0.77625\n",
      "4142 features (30%) -> Accuracy: 0.7775\n",
      "4832 features (35%) -> Accuracy: 0.778125\n",
      "5522 features (40%) -> Accuracy: 0.775625\n",
      "6213 features (45%) -> Accuracy: 0.773125\n",
      "6903 features (50%) -> Accuracy: 0.7675\n",
      "7593 features (55%) -> Accuracy: 0.769375\n",
      "8284 features (60%) -> Accuracy: 0.769375\n",
      "8974 features (65%) -> Accuracy: 0.768125\n",
      "9664 features (70%) -> Accuracy: 0.769375\n",
      "10355 features (75%) -> Accuracy: 0.76875\n",
      "11045 features (80%) -> Accuracy: 0.7675\n",
      "11735 features (85%) -> Accuracy: 0.76875\n",
      "12426 features (90%) -> Accuracy: 0.764375\n",
      "13116 features (95%) -> Accuracy: 0.76375\n",
      "13807 features (100%) -> Accuracy: 0.763125\n",
      "0.781875\n",
      "\n",
      "\n",
      "\n",
      "vectorizer: <class 'sklearn.feature_extraction.text.CountVectorizer'>\n",
      "range: 1 - 1\n",
      "alpha = 0.01\n",
      "\n",
      "this many features were found:  13807 \n",
      "\n",
      "690 features (5%) -> Accuracy: 0.57875\n",
      "1380 features (10%) -> Accuracy: 0.72\n",
      "2071 features (15%) -> Accuracy: 0.75875\n",
      "2761 features (20%) -> Accuracy: 0.745\n",
      "3451 features (25%) -> Accuracy: 0.739375\n",
      "4142 features (30%) -> Accuracy: 0.741875\n",
      "4832 features (35%) -> Accuracy: 0.744375\n",
      "5522 features (40%) -> Accuracy: 0.738125\n",
      "6213 features (45%) -> Accuracy: 0.733125\n",
      "6903 features (50%) -> Accuracy: 0.726875\n",
      "7593 features (55%) -> Accuracy: 0.7275\n",
      "8284 features (60%) -> Accuracy: 0.728125\n",
      "8974 features (65%) -> Accuracy: 0.7275\n",
      "9664 features (70%) -> Accuracy: 0.72875\n",
      "10355 features (75%) -> Accuracy: 0.726875\n",
      "11045 features (80%) -> Accuracy: 0.724375\n",
      "11735 features (85%) -> Accuracy: 0.725625\n",
      "12426 features (90%) -> Accuracy: 0.721875\n",
      "13116 features (95%) -> Accuracy: 0.720625\n",
      "13807 features (100%) -> Accuracy: 0.719375\n",
      "0.75875\n",
      "\n",
      "\n",
      "\n",
      "vectorizer: <class 'sklearn.feature_extraction.text.CountVectorizer'>\n",
      "range: 1 - 1\n",
      "alpha = 0.001\n",
      "\n",
      "this many features were found:  13807 \n",
      "\n",
      "690 features (5%) -> Accuracy: 0.57625\n",
      "1380 features (10%) -> Accuracy: 0.714375\n",
      "2071 features (15%) -> Accuracy: 0.749375\n",
      "2761 features (20%) -> Accuracy: 0.734375\n",
      "3451 features (25%) -> Accuracy: 0.729375\n",
      "4142 features (30%) -> Accuracy: 0.72875\n",
      "4832 features (35%) -> Accuracy: 0.729375\n",
      "5522 features (40%) -> Accuracy: 0.7225\n",
      "6213 features (45%) -> Accuracy: 0.71875\n",
      "6903 features (50%) -> Accuracy: 0.7125\n",
      "7593 features (55%) -> Accuracy: 0.7125\n",
      "8284 features (60%) -> Accuracy: 0.71375\n",
      "8974 features (65%) -> Accuracy: 0.71125\n",
      "9664 features (70%) -> Accuracy: 0.711875\n",
      "10355 features (75%) -> Accuracy: 0.70875\n",
      "11045 features (80%) -> Accuracy: 0.705625\n",
      "11735 features (85%) -> Accuracy: 0.70625\n",
      "12426 features (90%) -> Accuracy: 0.70125\n",
      "13116 features (95%) -> Accuracy: 0.70125\n",
      "13807 features (100%) -> Accuracy: 0.699375\n",
      "0.749375\n",
      "\n",
      "\n",
      "\n"
     ]
    },
    {
     "data": {
      "image/png": "[encoded data removed]",
      "text/plain": [
       "<Figure size 432x288 with 1 Axes>"
      ]
     },
     "metadata": {
      "needs_background": "light"
     },
     "output_type": "display_data"
    }
   ],
   "source": [
    "alfa_arg_vectorizer(1,1,CountVectorizer)"
   ]
  },
  {
   "cell_type": "markdown",
   "id": "1658beba-91e3-48ad-a913-57bdc33dc65b",
   "metadata": {},
   "source": [
    "looks the best for alpha = 0.8 but the margin is too small to say that it improves the model "
   ]
  },
  {
   "cell_type": "code",
   "execution_count": 150,
   "id": "593f160a-f42c-48c0-a25e-3a23123f72ed",
   "metadata": {},
   "outputs": [
    {
     "name": "stdout",
     "output_type": "stream",
     "text": [
      "vectorizer: <class 'sklearn.feature_extraction.text.CountVectorizer'>\n",
      "range: 1 - 2\n",
      "alpha = 1.0\n",
      "\n",
      "this many features were found:  96401 \n",
      "\n",
      "4820 features (5%) -> Accuracy: 0.82625\n",
      "9640 features (10%) -> Accuracy: 0.82\n",
      "14460 features (15%) -> Accuracy: 0.819375\n",
      "19280 features (20%) -> Accuracy: 0.819375\n",
      "24100 features (25%) -> Accuracy: 0.81625\n",
      "28920 features (30%) -> Accuracy: 0.8075\n",
      "33740 features (35%) -> Accuracy: 0.8\n",
      "38560 features (40%) -> Accuracy: 0.7975\n",
      "43380 features (45%) -> Accuracy: 0.791875\n",
      "48200 features (50%) -> Accuracy: 0.786875\n",
      "53020 features (55%) -> Accuracy: 0.78375\n",
      "57840 features (60%) -> Accuracy: 0.780625\n",
      "62660 features (65%) -> Accuracy: 0.780625\n",
      "67480 features (70%) -> Accuracy: 0.78\n",
      "72300 features (75%) -> Accuracy: 0.778125\n",
      "77120 features (80%) -> Accuracy: 0.775625\n",
      "81940 features (85%) -> Accuracy: 0.775\n",
      "86760 features (90%) -> Accuracy: 0.779375\n",
      "91580 features (95%) -> Accuracy: 0.78\n",
      "96401 features (100%) -> Accuracy: 0.779375\n",
      "0.82625\n",
      "\n",
      "\n",
      "\n",
      "vectorizer: <class 'sklearn.feature_extraction.text.CountVectorizer'>\n",
      "range: 1 - 2\n",
      "alpha = 0.9\n",
      "\n",
      "this many features were found:  96401 \n",
      "\n",
      "4820 features (5%) -> Accuracy: 0.824375\n",
      "9640 features (10%) -> Accuracy: 0.820625\n",
      "14460 features (15%) -> Accuracy: 0.820625\n",
      "19280 features (20%) -> Accuracy: 0.819375\n",
      "24100 features (25%) -> Accuracy: 0.816875\n",
      "28920 features (30%) -> Accuracy: 0.81125\n",
      "33740 features (35%) -> Accuracy: 0.803125\n",
      "38560 features (40%) -> Accuracy: 0.80125\n",
      "43380 features (45%) -> Accuracy: 0.796875\n",
      "48200 features (50%) -> Accuracy: 0.7925\n",
      "53020 features (55%) -> Accuracy: 0.79125\n",
      "57840 features (60%) -> Accuracy: 0.78875\n",
      "62660 features (65%) -> Accuracy: 0.785625\n",
      "67480 features (70%) -> Accuracy: 0.783125\n",
      "72300 features (75%) -> Accuracy: 0.781875\n",
      "77120 features (80%) -> Accuracy: 0.7825\n",
      "81940 features (85%) -> Accuracy: 0.780625\n",
      "86760 features (90%) -> Accuracy: 0.783125\n",
      "91580 features (95%) -> Accuracy: 0.781875\n",
      "96401 features (100%) -> Accuracy: 0.7825\n",
      "0.824375\n",
      "\n",
      "\n",
      "\n",
      "vectorizer: <class 'sklearn.feature_extraction.text.CountVectorizer'>\n",
      "range: 1 - 2\n",
      "alpha = 0.8\n",
      "\n",
      "this many features were found:  96401 \n",
      "\n",
      "4820 features (5%) -> Accuracy: 0.821875\n",
      "9640 features (10%) -> Accuracy: 0.824375\n",
      "14460 features (15%) -> Accuracy: 0.82125\n",
      "19280 features (20%) -> Accuracy: 0.818125\n",
      "24100 features (25%) -> Accuracy: 0.81875\n",
      "28920 features (30%) -> Accuracy: 0.81375\n",
      "33740 features (35%) -> Accuracy: 0.810625\n",
      "38560 features (40%) -> Accuracy: 0.805\n",
      "43380 features (45%) -> Accuracy: 0.80125\n",
      "48200 features (50%) -> Accuracy: 0.79875\n",
      "53020 features (55%) -> Accuracy: 0.79875\n",
      "57840 features (60%) -> Accuracy: 0.794375\n",
      "62660 features (65%) -> Accuracy: 0.79\n",
      "67480 features (70%) -> Accuracy: 0.7875\n",
      "72300 features (75%) -> Accuracy: 0.78625\n",
      "77120 features (80%) -> Accuracy: 0.784375\n",
      "81940 features (85%) -> Accuracy: 0.783125\n",
      "86760 features (90%) -> Accuracy: 0.785625\n",
      "91580 features (95%) -> Accuracy: 0.785625\n",
      "96401 features (100%) -> Accuracy: 0.784375\n",
      "0.824375\n",
      "\n",
      "\n",
      "\n",
      "vectorizer: <class 'sklearn.feature_extraction.text.CountVectorizer'>\n",
      "range: 1 - 2\n",
      "alpha = 0.5\n",
      "\n",
      "this many features were found:  96401 \n",
      "\n",
      "4820 features (5%) -> Accuracy: 0.82125\n",
      "9640 features (10%) -> Accuracy: 0.831875\n",
      "14460 features (15%) -> Accuracy: 0.829375\n",
      "19280 features (20%) -> Accuracy: 0.825625\n",
      "24100 features (25%) -> Accuracy: 0.82125\n",
      "28920 features (30%) -> Accuracy: 0.816875\n",
      "33740 features (35%) -> Accuracy: 0.815625\n",
      "38560 features (40%) -> Accuracy: 0.810625\n",
      "43380 features (45%) -> Accuracy: 0.809375\n",
      "48200 features (50%) -> Accuracy: 0.809375\n",
      "53020 features (55%) -> Accuracy: 0.806875\n",
      "57840 features (60%) -> Accuracy: 0.80625\n",
      "62660 features (65%) -> Accuracy: 0.804375\n",
      "67480 features (70%) -> Accuracy: 0.804375\n",
      "72300 features (75%) -> Accuracy: 0.805\n",
      "77120 features (80%) -> Accuracy: 0.805625\n",
      "81940 features (85%) -> Accuracy: 0.80375\n",
      "86760 features (90%) -> Accuracy: 0.80375\n",
      "91580 features (95%) -> Accuracy: 0.80125\n",
      "96401 features (100%) -> Accuracy: 0.801875\n",
      "0.831875\n",
      "\n",
      "\n",
      "\n",
      "vectorizer: <class 'sklearn.feature_extraction.text.CountVectorizer'>\n",
      "range: 1 - 2\n",
      "alpha = 0.1\n",
      "\n",
      "this many features were found:  96401 \n",
      "\n",
      "4820 features (5%) -> Accuracy: 0.804375\n",
      "9640 features (10%) -> Accuracy: 0.815\n",
      "14460 features (15%) -> Accuracy: 0.816875\n",
      "19280 features (20%) -> Accuracy: 0.819375\n",
      "24100 features (25%) -> Accuracy: 0.816875\n",
      "28920 features (30%) -> Accuracy: 0.818125\n",
      "33740 features (35%) -> Accuracy: 0.81875\n",
      "38560 features (40%) -> Accuracy: 0.8175\n",
      "43380 features (45%) -> Accuracy: 0.815\n",
      "48200 features (50%) -> Accuracy: 0.81125\n",
      "53020 features (55%) -> Accuracy: 0.8125\n",
      "57840 features (60%) -> Accuracy: 0.8125\n",
      "62660 features (65%) -> Accuracy: 0.81125\n",
      "67480 features (70%) -> Accuracy: 0.811875\n",
      "72300 features (75%) -> Accuracy: 0.813125\n",
      "77120 features (80%) -> Accuracy: 0.81125\n",
      "81940 features (85%) -> Accuracy: 0.809375\n",
      "86760 features (90%) -> Accuracy: 0.8125\n",
      "91580 features (95%) -> Accuracy: 0.809375\n",
      "96401 features (100%) -> Accuracy: 0.81\n",
      "0.819375\n",
      "\n",
      "\n",
      "\n",
      "vectorizer: <class 'sklearn.feature_extraction.text.CountVectorizer'>\n",
      "range: 1 - 2\n",
      "alpha = 0.01\n",
      "\n",
      "this many features were found:  96401 \n",
      "\n",
      "4820 features (5%) -> Accuracy: 0.768125\n",
      "9640 features (10%) -> Accuracy: 0.78625\n",
      "14460 features (15%) -> Accuracy: 0.7825\n",
      "19280 features (20%) -> Accuracy: 0.784375\n",
      "24100 features (25%) -> Accuracy: 0.783125\n",
      "28920 features (30%) -> Accuracy: 0.7825\n",
      "33740 features (35%) -> Accuracy: 0.78625\n",
      "38560 features (40%) -> Accuracy: 0.785\n",
      "43380 features (45%) -> Accuracy: 0.78125\n",
      "48200 features (50%) -> Accuracy: 0.780625\n",
      "53020 features (55%) -> Accuracy: 0.78125\n",
      "57840 features (60%) -> Accuracy: 0.780625\n",
      "62660 features (65%) -> Accuracy: 0.778125\n",
      "67480 features (70%) -> Accuracy: 0.7775\n",
      "72300 features (75%) -> Accuracy: 0.7775\n",
      "77120 features (80%) -> Accuracy: 0.778125\n",
      "81940 features (85%) -> Accuracy: 0.7775\n",
      "86760 features (90%) -> Accuracy: 0.77875\n",
      "91580 features (95%) -> Accuracy: 0.778125\n",
      "96401 features (100%) -> Accuracy: 0.778125\n",
      "0.78625\n",
      "\n",
      "\n",
      "\n",
      "vectorizer: <class 'sklearn.feature_extraction.text.CountVectorizer'>\n",
      "range: 1 - 2\n",
      "alpha = 0.001\n",
      "\n",
      "this many features were found:  96401 \n",
      "\n",
      "4820 features (5%) -> Accuracy: 0.755625\n",
      "9640 features (10%) -> Accuracy: 0.765\n",
      "14460 features (15%) -> Accuracy: 0.7625\n",
      "19280 features (20%) -> Accuracy: 0.76625\n",
      "24100 features (25%) -> Accuracy: 0.76375\n",
      "28920 features (30%) -> Accuracy: 0.76125\n",
      "33740 features (35%) -> Accuracy: 0.76375\n",
      "38560 features (40%) -> Accuracy: 0.763125\n",
      "43380 features (45%) -> Accuracy: 0.76\n",
      "48200 features (50%) -> Accuracy: 0.76125\n",
      "53020 features (55%) -> Accuracy: 0.76\n",
      "57840 features (60%) -> Accuracy: 0.76\n",
      "62660 features (65%) -> Accuracy: 0.758125\n",
      "67480 features (70%) -> Accuracy: 0.758125\n",
      "72300 features (75%) -> Accuracy: 0.758125\n",
      "77120 features (80%) -> Accuracy: 0.7575\n",
      "81940 features (85%) -> Accuracy: 0.756875\n",
      "86760 features (90%) -> Accuracy: 0.763125\n",
      "91580 features (95%) -> Accuracy: 0.7625\n",
      "96401 features (100%) -> Accuracy: 0.764375\n",
      "0.76625\n",
      "\n",
      "\n",
      "\n"
     ]
    },
    {
     "data": {
      "image/png": "[encoded data removed]",
      "text/plain": [
       "<Figure size 432x288 with 1 Axes>"
      ]
     },
     "metadata": {
      "needs_background": "light"
     },
     "output_type": "display_data"
    }
   ],
   "source": [
    "alfa_arg_vectorizer(1,2,CountVectorizer)"
   ]
  },
  {
   "cell_type": "markdown",
   "id": "940177ef-b4bb-4721-9265-034e5cdc5efe",
   "metadata": {},
   "source": [
    "here for the other range (1,2) we got a slightly better performance for alpha = 0.5 "
   ]
  },
  {
   "cell_type": "code",
   "execution_count": 192,
   "id": "5090b84d-8808-4beb-b509-7f0e0f38173d",
   "metadata": {},
   "outputs": [
    {
     "name": "stdout",
     "output_type": "stream",
     "text": [
      "vectorizer: <class 'sklearn.feature_extraction.text.CountVectorizer'>\n",
      "range: 1 - 2\n",
      "alpha = 0.5\n",
      "\n",
      "this many features were found:  96401 \n",
      "\n",
      "4820 features (5%) -> Accuracy: 0.82125\n",
      "9640 features (10%) -> Accuracy: 0.831875\n",
      "14460 features (15%) -> Accuracy: 0.829375\n",
      "19280 features (20%) -> Accuracy: 0.825625\n",
      "24100 features (25%) -> Accuracy: 0.82125\n",
      "28920 features (30%) -> Accuracy: 0.816875\n",
      "33740 features (35%) -> Accuracy: 0.815625\n",
      "38560 features (40%) -> Accuracy: 0.810625\n",
      "43380 features (45%) -> Accuracy: 0.809375\n",
      "48200 features (50%) -> Accuracy: 0.809375\n",
      "53020 features (55%) -> Accuracy: 0.806875\n",
      "57840 features (60%) -> Accuracy: 0.80625\n",
      "62660 features (65%) -> Accuracy: 0.804375\n",
      "67480 features (70%) -> Accuracy: 0.804375\n",
      "72300 features (75%) -> Accuracy: 0.805\n",
      "77120 features (80%) -> Accuracy: 0.805625\n",
      "81940 features (85%) -> Accuracy: 0.80375\n",
      "86760 features (90%) -> Accuracy: 0.80375\n",
      "91580 features (95%) -> Accuracy: 0.80125\n",
      "96401 features (100%) -> Accuracy: 0.801875\n",
      "0.831875\n",
      "\n",
      "\n",
      "\n"
     ]
    },
    {
     "data": {
      "image/png": "[encoded data removed]",
      "text/plain": [
       "<Figure size 432x288 with 1 Axes>"
      ]
     },
     "metadata": {
      "needs_background": "light"
     },
     "output_type": "display_data"
    }
   ],
   "source": [
    "alfa_arg_vectorizer(1,2,CountVectorizer, [0.5])"
   ]
  },
  {
   "cell_type": "markdown",
   "id": "10262ff0-9163-4238-90e3-0d53abd1de35",
   "metadata": {},
   "source": [
    "the best performance so for 10% of all features (9640) while range = (1,2) and alpha = 0.5 -> accuracy = 0.832"
   ]
  },
  {
   "cell_type": "markdown",
   "id": "ca9c6e79",
   "metadata": {},
   "source": [
    "## More complex, pretrained methods - for fun :)"
   ]
  },
  {
   "cell_type": "markdown",
   "id": "f10a15bc",
   "metadata": {},
   "source": [
    "## BERT (Deep Contextual Embeddings) - way more computationally intensive\n",
    "(Bidirectional Encoder Representations from Transformers)<br>\n",
    "Uses transformer layers to capture word meaning in context.\n",
    "<li>State-of-the-art for many NLP tasks, handles context well.\n",
    "<li>Computationally expensive."
   ]
  },
  {
   "cell_type": "code",
   "execution_count": 180,
   "id": "5a4bee41",
   "metadata": {
    "scrolled": true
   },
   "outputs": [],
   "source": [
    "# from transformers import BertTokenizer, BertModel\n",
    "# import torch\n",
    "\n",
    "# tokenizer = BertTokenizer.from_pretrained('bert-base-uncased')\n",
    "# model = BertModel.from_pretrained('bert-base-uncased')\n",
    "\n",
    "# def bert_embed(texts):\n",
    "#     inputs = tokenizer(texts, return_tensors=\"pt\", padding=True, truncation=True, max_length=128)\n",
    "#     with torch.no_grad():\n",
    "#         outputs = model(**inputs)\n",
    "#     return outputs.last_hidden_state.mean(dim=1).numpy()\n",
    "\n",
    "# X_train_vec = bert_embed(list(X_train))\n",
    "# X_test_vec = bert_embed(list(X_test))\n",
    "\n",
    "# # Train and evaluate\n",
    "# model = GaussianNB()\n",
    "# model.fit(X_train_vec, y_train_enc)\n",
    "# y_pred = model.predict(X_test_vec)\n",
    "\n",
    "# print(\"\\nBERT Model Performance:\")\n",
    "# print(classification_report(y_test_enc, y_pred, target_names=label_encoder.classes_))\n",
    "# print(\"Accuracy:\", accuracy_score(y_test_enc, y_pred))\n"
   ]
  },
  {
   "cell_type": "markdown",
   "id": "aacd2e22",
   "metadata": {},
   "source": [
    "## For further investigation we will use the more simple method, BOW\n",
    "BOW is very easy to understand and work with. Further in this document we will test other models than MultinominalNB. We will try to find a few models that conquer this task and try to ensamble than using various ensambling method (for example model voting). We will test Logistic Regression, Support Vector Machines (SVM), K-Nearest Neighbors (KNN) and some simple Neural Networks."
   ]
  },
  {
   "cell_type": "markdown",
   "id": "5792a8d4-fe25-4d4a-b307-e5b387e5a518",
   "metadata": {},
   "source": [
    "# SVM"
   ]
  },
  {
   "cell_type": "code",
   "execution_count": 153,
   "id": "376993e6-e330-4f4b-b1ed-4d941af0a2b3",
   "metadata": {},
   "outputs": [],
   "source": [
    "from sklearn.svm import LinearSVC"
   ]
  },
  {
   "cell_type": "markdown",
   "id": "c956fbd4-9a5a-4c6d-9984-dd2dff940f98",
   "metadata": {},
   "source": [
    "we will use Linear version of SVM as it is optimized for high dimensional input<br><br>\n",
    "let's use for now use the basic pipeline with both vectorizers"
   ]
  },
  {
   "cell_type": "code",
   "execution_count": 154,
   "id": "354a277f-2a4e-4b59-a400-b355df45f68d",
   "metadata": {},
   "outputs": [
    {
     "name": "stdout",
     "output_type": "stream",
     "text": [
      "this many features were found:  13807 \n",
      "\n",
      "690 features (5%) -> Accuracy: 0.64125\n",
      "1380 features (10%) -> Accuracy: 0.799375\n",
      "2071 features (15%) -> Accuracy: 0.86125\n",
      "2761 features (20%) -> Accuracy: 0.868125\n",
      "3451 features (25%) -> Accuracy: 0.878125\n",
      "4142 features (30%) -> Accuracy: 0.8875\n",
      "4832 features (35%) -> Accuracy: 0.888125\n",
      "5522 features (40%) -> Accuracy: 0.888125\n",
      "6213 features (45%) -> Accuracy: 0.89125\n",
      "6903 features (50%) -> Accuracy: 0.8925\n",
      "7593 features (55%) -> Accuracy: 0.893125\n",
      "8284 features (60%) -> Accuracy: 0.89625\n",
      "8974 features (65%) -> Accuracy: 0.895625\n",
      "9664 features (70%) -> Accuracy: 0.89375\n",
      "10355 features (75%) -> Accuracy: 0.8925\n",
      "11045 features (80%) -> Accuracy: 0.894375\n",
      "11735 features (85%) -> Accuracy: 0.894375\n",
      "12426 features (90%) -> Accuracy: 0.894375\n",
      "13116 features (95%) -> Accuracy: 0.8925\n",
      "13807 features (100%) -> Accuracy: 0.89375\n"
     ]
    },
    {
     "data": {
      "image/png": "[encoded data removed]",
      "text/plain": [
       "<Figure size 432x288 with 1 Axes>"
      ]
     },
     "metadata": {
      "needs_background": "light"
     },
     "output_type": "display_data"
    }
   ],
   "source": [
    "[feature_number,accuracies] = vectorizer_ngram_stopwords(1,1, CountVectorizer, model = LinearSVC(dual=True)) \n",
    "plot_features_vs_accuracy(feature_number, accuracies)\n",
    "\n",
    "# dual parameter controls which optimization problem to solve:\n",
    "# dual=True: Solves the dual problem (better when n_features > n_samples)\n",
    "# dual=False: Solves the primal problem (better when n_samples > n_features)"
   ]
  },
  {
   "cell_type": "code",
   "execution_count": 155,
   "id": "50a12a97-d1a0-4e10-9d57-60114faf151d",
   "metadata": {},
   "outputs": [
    {
     "name": "stdout",
     "output_type": "stream",
     "text": [
      "this many features were found:  13807 \n",
      "\n",
      "690 features (5%) -> Accuracy: 0.64125\n",
      "1380 features (10%) -> Accuracy: 0.799375\n",
      "2071 features (15%) -> Accuracy: 0.86125\n",
      "2761 features (20%) -> Accuracy: 0.868125\n",
      "3451 features (25%) -> Accuracy: 0.878125\n",
      "4142 features (30%) -> Accuracy: 0.8875\n",
      "4832 features (35%) -> Accuracy: 0.8875\n",
      "5522 features (40%) -> Accuracy: 0.888125\n",
      "6213 features (45%) -> Accuracy: 0.89125\n",
      "6903 features (50%) -> Accuracy: 0.8925\n",
      "7593 features (55%) -> Accuracy: 0.893125\n",
      "8284 features (60%) -> Accuracy: 0.89625\n",
      "8974 features (65%) -> Accuracy: 0.895625\n",
      "9664 features (70%) -> Accuracy: 0.89375\n",
      "10355 features (75%) -> Accuracy: 0.8925\n",
      "11045 features (80%) -> Accuracy: 0.894375\n",
      "11735 features (85%) -> Accuracy: 0.894375\n",
      "12426 features (90%) -> Accuracy: 0.894375\n",
      "13116 features (95%) -> Accuracy: 0.8925\n",
      "13807 features (100%) -> Accuracy: 0.89375\n"
     ]
    },
    {
     "data": {
      "image/png": "[encoded data removed]",
      "text/plain": [
       "<Figure size 432x288 with 1 Axes>"
      ]
     },
     "metadata": {
      "needs_background": "light"
     },
     "output_type": "display_data"
    }
   ],
   "source": [
    "[feature_number,accuracies] = vectorizer_ngram_stopwords(1,1, CountVectorizer, model = LinearSVC(dual='auto')) \n",
    "plot_features_vs_accuracy(feature_number, accuracies)\n",
    "#adding dual='auto' to surpress the warning and choose automatically"
   ]
  },
  {
   "cell_type": "markdown",
   "id": "25088a43-de59-44f9-8d7d-d95b7f1145d6",
   "metadata": {},
   "source": [
    "we can see that the SVM instantly works A LOT better without too much work, <br>\n",
    "the difference is that the more features it gets the better it works<br>\n",
    "now let's experiment a bit"
   ]
  },
  {
   "cell_type": "markdown",
   "id": "0cf060d8-a54e-470e-8897-ef9acd9527ce",
   "metadata": {},
   "source": [
    "let's see how does the other vectorizer manage our data"
   ]
  },
  {
   "cell_type": "code",
   "execution_count": 156,
   "id": "f3a7b542-59c4-4a47-ac51-60878690f6f3",
   "metadata": {},
   "outputs": [
    {
     "name": "stdout",
     "output_type": "stream",
     "text": [
      "this many features were found:  13807 \n",
      "\n",
      "690 features (5%) -> Accuracy: 0.639375\n",
      "1380 features (10%) -> Accuracy: 0.808125\n",
      "2071 features (15%) -> Accuracy: 0.869375\n",
      "2761 features (20%) -> Accuracy: 0.88125\n",
      "3451 features (25%) -> Accuracy: 0.88625\n",
      "4142 features (30%) -> Accuracy: 0.889375\n",
      "4832 features (35%) -> Accuracy: 0.891875\n",
      "5522 features (40%) -> Accuracy: 0.89125\n",
      "6213 features (45%) -> Accuracy: 0.8925\n",
      "6903 features (50%) -> Accuracy: 0.895\n",
      "7593 features (55%) -> Accuracy: 0.895\n",
      "8284 features (60%) -> Accuracy: 0.898125\n",
      "8974 features (65%) -> Accuracy: 0.898125\n",
      "9664 features (70%) -> Accuracy: 0.89875\n",
      "10355 features (75%) -> Accuracy: 0.899375\n",
      "11045 features (80%) -> Accuracy: 0.899375\n",
      "11735 features (85%) -> Accuracy: 0.89875\n",
      "12426 features (90%) -> Accuracy: 0.900625\n",
      "13116 features (95%) -> Accuracy: 0.899375\n",
      "13807 features (100%) -> Accuracy: 0.9\n"
     ]
    },
    {
     "data": {
      "image/png": "[encoded data removed]",
      "text/plain": [
       "<Figure size 432x288 with 1 Axes>"
      ]
     },
     "metadata": {
      "needs_background": "light"
     },
     "output_type": "display_data"
    }
   ],
   "source": [
    "[feature_number,accuracies] = vectorizer_ngram_stopwords(1,1, TfidfVectorizer, model = LinearSVC(dual='auto')) \n",
    "plot_features_vs_accuracy(feature_number, accuracies)"
   ]
  },
  {
   "cell_type": "markdown",
   "id": "da56ba9c-4162-4122-a8bc-54f563ea0a31",
   "metadata": {},
   "source": [
    "### the first time we got accuracy > 0.9 !!!!\n",
    "the TfidfVectorizer might be better with this model"
   ]
  },
  {
   "cell_type": "markdown",
   "id": "bf495cc2-123c-4c44-827f-ac9c24d8d896",
   "metadata": {},
   "source": [
    "let's check other ranges and the sublinear_tf argument"
   ]
  },
  {
   "cell_type": "code",
   "execution_count": 157,
   "id": "ac08a070-36c8-4bbf-95c5-11e6304ef42d",
   "metadata": {},
   "outputs": [
    {
     "name": "stdout",
     "output_type": "stream",
     "text": [
      "this many features were found:  13807 \n",
      "\n",
      "690 features (5%) -> Accuracy: 0.639375\n",
      "1380 features (10%) -> Accuracy: 0.810625\n",
      "2071 features (15%) -> Accuracy: 0.868125\n",
      "2761 features (20%) -> Accuracy: 0.88125\n",
      "3451 features (25%) -> Accuracy: 0.886875\n",
      "4142 features (30%) -> Accuracy: 0.893125\n",
      "4832 features (35%) -> Accuracy: 0.895625\n",
      "5522 features (40%) -> Accuracy: 0.895\n",
      "6213 features (45%) -> Accuracy: 0.895\n",
      "6903 features (50%) -> Accuracy: 0.899375\n",
      "7593 features (55%) -> Accuracy: 0.8975\n",
      "8284 features (60%) -> Accuracy: 0.89875\n",
      "8974 features (65%) -> Accuracy: 0.900625\n",
      "9664 features (70%) -> Accuracy: 0.90125\n",
      "10355 features (75%) -> Accuracy: 0.901875\n",
      "11045 features (80%) -> Accuracy: 0.900625\n",
      "11735 features (85%) -> Accuracy: 0.90125\n",
      "12426 features (90%) -> Accuracy: 0.90125\n",
      "13116 features (95%) -> Accuracy: 0.903125\n",
      "13807 features (100%) -> Accuracy: 0.903125\n"
     ]
    },
    {
     "data": {
      "image/png": "[encoded data removed]",
      "text/plain": [
       "<Figure size 432x288 with 1 Axes>"
      ]
     },
     "metadata": {
      "needs_background": "light"
     },
     "output_type": "display_data"
    }
   ],
   "source": [
    "[feature_number,accuracies] = vectorizer_ngram_stopwords(1,1, TfidfVectorizer,sub_tf=True, model = LinearSVC(dual='auto')) \n",
    "plot_features_vs_accuracy(feature_number, accuracies)"
   ]
  },
  {
   "cell_type": "markdown",
   "id": "bb419bfe-d9d3-4032-afe3-27797d7ef6b1",
   "metadata": {},
   "source": [
    "doesn't change much"
   ]
  },
  {
   "cell_type": "code",
   "execution_count": 158,
   "id": "d4f966d2-408a-4f8e-8399-a70ad0e0ecad",
   "metadata": {},
   "outputs": [
    {
     "name": "stdout",
     "output_type": "stream",
     "text": [
      "this many features were found:  96401 \n",
      "\n",
      "4820 features (5%) -> Accuracy: 0.894375\n",
      "9640 features (10%) -> Accuracy: 0.903125\n",
      "14460 features (15%) -> Accuracy: 0.905625\n",
      "19280 features (20%) -> Accuracy: 0.905625\n",
      "24100 features (25%) -> Accuracy: 0.91\n",
      "28920 features (30%) -> Accuracy: 0.908125\n",
      "33740 features (35%) -> Accuracy: 0.910625\n",
      "38560 features (40%) -> Accuracy: 0.91\n",
      "43380 features (45%) -> Accuracy: 0.910625\n",
      "48200 features (50%) -> Accuracy: 0.91125\n",
      "53020 features (55%) -> Accuracy: 0.9125\n",
      "57840 features (60%) -> Accuracy: 0.91\n",
      "62660 features (65%) -> Accuracy: 0.9075\n",
      "67480 features (70%) -> Accuracy: 0.90625\n",
      "72300 features (75%) -> Accuracy: 0.90625\n",
      "77120 features (80%) -> Accuracy: 0.906875\n",
      "81940 features (85%) -> Accuracy: 0.908125\n",
      "86760 features (90%) -> Accuracy: 0.91\n",
      "91580 features (95%) -> Accuracy: 0.90875\n",
      "96401 features (100%) -> Accuracy: 0.90625\n"
     ]
    },
    {
     "data": {
      "image/png": "[encoded data removed]",
      "text/plain": [
       "<Figure size 432x288 with 1 Axes>"
      ]
     },
     "metadata": {
      "needs_background": "light"
     },
     "output_type": "display_data"
    }
   ],
   "source": [
    "[feature_number,accuracies] = vectorizer_ngram_stopwords(1,2, TfidfVectorizer, model = LinearSVC(dual='auto')) \n",
    "plot_features_vs_accuracy(feature_number, accuracies)"
   ]
  },
  {
   "cell_type": "markdown",
   "id": "363bb76c-e4f5-4817-aeed-fb3e646296d9",
   "metadata": {},
   "source": [
    "surprisingly with the range (1,2) it's better again, but we have to specify max_features"
   ]
  },
  {
   "cell_type": "code",
   "execution_count": 159,
   "id": "387fe307-527c-4443-93a4-716a0aa1de11",
   "metadata": {},
   "outputs": [
    {
     "name": "stdout",
     "output_type": "stream",
     "text": [
      "this many features were found:  96401 \n",
      "\n",
      "4820 features (5%) -> Accuracy: 0.896875\n",
      "9640 features (10%) -> Accuracy: 0.90625\n",
      "14460 features (15%) -> Accuracy: 0.906875\n",
      "19280 features (20%) -> Accuracy: 0.909375\n",
      "24100 features (25%) -> Accuracy: 0.910625\n",
      "28920 features (30%) -> Accuracy: 0.91125\n",
      "33740 features (35%) -> Accuracy: 0.91125\n",
      "38560 features (40%) -> Accuracy: 0.91\n",
      "43380 features (45%) -> Accuracy: 0.9125\n",
      "48200 features (50%) -> Accuracy: 0.9125\n",
      "53020 features (55%) -> Accuracy: 0.91375\n",
      "57840 features (60%) -> Accuracy: 0.910625\n",
      "62660 features (65%) -> Accuracy: 0.908125\n",
      "67480 features (70%) -> Accuracy: 0.9075\n",
      "72300 features (75%) -> Accuracy: 0.90625\n",
      "77120 features (80%) -> Accuracy: 0.908125\n",
      "81940 features (85%) -> Accuracy: 0.90875\n",
      "86760 features (90%) -> Accuracy: 0.91\n",
      "91580 features (95%) -> Accuracy: 0.90875\n",
      "96401 features (100%) -> Accuracy: 0.9075\n"
     ]
    },
    {
     "data": {
      "image/png": "[encoded data removed]",
      "text/plain": [
       "<Figure size 432x288 with 1 Axes>"
      ]
     },
     "metadata": {
      "needs_background": "light"
     },
     "output_type": "display_data"
    }
   ],
   "source": [
    "[feature_number,accuracies] = vectorizer_ngram_stopwords(1,2, TfidfVectorizer,sub_tf=True, model = LinearSVC(dual='auto')) \n",
    "plot_features_vs_accuracy(feature_number, accuracies)"
   ]
  },
  {
   "cell_type": "markdown",
   "id": "3146b919-d48e-4b1d-89fe-9a5fd948bf62",
   "metadata": {},
   "source": [
    "a little better again with the sublinear_tf=True"
   ]
  },
  {
   "cell_type": "markdown",
   "id": "5c111c8e-d3e9-40df-9fc5-b60b837daefe",
   "metadata": {},
   "source": [
    "range(2,2)???"
   ]
  },
  {
   "cell_type": "code",
   "execution_count": 160,
   "id": "2d0e40b4-87b1-4ec9-89ac-c89f1810a2ac",
   "metadata": {},
   "outputs": [
    {
     "name": "stdout",
     "output_type": "stream",
     "text": [
      "this many features were found:  82594 \n",
      "\n",
      "4129 features (5%) -> Accuracy: 0.62375\n",
      "8259 features (10%) -> Accuracy: 0.655\n",
      "12389 features (15%) -> Accuracy: 0.661875\n",
      "16518 features (20%) -> Accuracy: 0.63875\n",
      "20648 features (25%) -> Accuracy: 0.645\n",
      "24778 features (30%) -> Accuracy: 0.6425\n",
      "28907 features (35%) -> Accuracy: 0.6425\n",
      "33037 features (40%) -> Accuracy: 0.6375\n",
      "37167 features (45%) -> Accuracy: 0.64125\n",
      "41297 features (50%) -> Accuracy: 0.6425\n",
      "45426 features (55%) -> Accuracy: 0.64875\n",
      "49556 features (60%) -> Accuracy: 0.65\n",
      "53686 features (65%) -> Accuracy: 0.6575\n",
      "57815 features (70%) -> Accuracy: 0.66125\n",
      "61945 features (75%) -> Accuracy: 0.660625\n",
      "66075 features (80%) -> Accuracy: 0.665\n",
      "70204 features (85%) -> Accuracy: 0.664375\n",
      "74334 features (90%) -> Accuracy: 0.684375\n",
      "78464 features (95%) -> Accuracy: 0.691875\n",
      "82594 features (100%) -> Accuracy: 0.694375\n"
     ]
    },
    {
     "data": {
      "image/png": "[encoded data removed]",
      "text/plain": [
       "<Figure size 432x288 with 1 Axes>"
      ]
     },
     "metadata": {
      "needs_background": "light"
     },
     "output_type": "display_data"
    }
   ],
   "source": [
    "[feature_number,accuracies] = vectorizer_ngram_stopwords(2,2, TfidfVectorizer,sub_tf=True, model = LinearSVC(dual='auto')) \n",
    "plot_features_vs_accuracy(feature_number, accuracies)"
   ]
  },
  {
   "cell_type": "markdown",
   "id": "38c762bd-7a7f-4fe8-b756-45ff8a059528",
   "metadata": {},
   "source": [
    "NOPE, sticking with single + double features"
   ]
  },
  {
   "cell_type": "markdown",
   "id": "0f10726c-12bf-4918-b28e-61df4a908276",
   "metadata": {},
   "source": [
    "CountVectorizer with range=(1,2)"
   ]
  },
  {
   "cell_type": "code",
   "execution_count": 161,
   "id": "6f66db08-7767-49ee-b2bc-ba8b54d35ce6",
   "metadata": {},
   "outputs": [
    {
     "name": "stdout",
     "output_type": "stream",
     "text": [
      "this many features were found:  96401 \n",
      "\n",
      "4820 features (5%) -> Accuracy: 0.879375\n",
      "9640 features (10%) -> Accuracy: 0.894375\n",
      "14460 features (15%) -> Accuracy: 0.896875\n",
      "19280 features (20%) -> Accuracy: 0.9\n",
      "24100 features (25%) -> Accuracy: 0.900625\n",
      "28920 features (30%) -> Accuracy: 0.89875\n",
      "33740 features (35%) -> Accuracy: 0.9\n",
      "38560 features (40%) -> Accuracy: 0.9025\n",
      "43380 features (45%) -> Accuracy: 0.905\n",
      "48200 features (50%) -> Accuracy: 0.90625\n",
      "53020 features (55%) -> Accuracy: 0.905\n",
      "57840 features (60%) -> Accuracy: 0.9075\n",
      "62660 features (65%) -> Accuracy: 0.90625\n",
      "67480 features (70%) -> Accuracy: 0.90375\n",
      "72300 features (75%) -> Accuracy: 0.9025\n",
      "77120 features (80%) -> Accuracy: 0.90625\n",
      "81940 features (85%) -> Accuracy: 0.90625\n",
      "86760 features (90%) -> Accuracy: 0.91\n",
      "91580 features (95%) -> Accuracy: 0.909375\n",
      "96401 features (100%) -> Accuracy: 0.9125\n"
     ]
    },
    {
     "data": {
      "image/png": "[encoded data removed]",
      "text/plain": [
       "<Figure size 432x288 with 1 Axes>"
      ]
     },
     "metadata": {
      "needs_background": "light"
     },
     "output_type": "display_data"
    }
   ],
   "source": [
    "[feature_number,accuracies] = vectorizer_ngram_stopwords(1,2, CountVectorizer, model = LinearSVC(dual='auto')) \n",
    "plot_features_vs_accuracy(feature_number, accuracies)"
   ]
  },
  {
   "cell_type": "markdown",
   "id": "57c0aaa5-66fd-4441-ac6a-a82f0395bae2",
   "metadata": {},
   "source": [
    "good as well"
   ]
  },
  {
   "cell_type": "markdown",
   "id": "9ffae957-a237-45f1-8fec-fd246816ac25",
   "metadata": {},
   "source": [
    "### experimenting with arguments of the model itself, using GridSearchCV"
   ]
  },
  {
   "cell_type": "code",
   "execution_count": null,
   "id": "b93f7ab4-a87b-45d8-9c0e-6c7e0aafbb35",
   "metadata": {},
   "outputs": [],
   "source": []
  },
  {
   "cell_type": "code",
   "execution_count": 162,
   "id": "865e8328-a268-4b4a-8dc7-5f908d0af271",
   "metadata": {},
   "outputs": [],
   "source": [
    "from sklearn.model_selection import GridSearchCV, RandomizedSearchCV"
   ]
  },
  {
   "cell_type": "markdown",
   "id": "71a39633-dec6-479a-8bcb-1ba0d00a9999",
   "metadata": {},
   "source": [
    "we also want the percents of all features possible for ranges (1,1) and (1,2), we have printed the numbers out before several times<br><br>\n",
    "we cant check all percentages as it will take too much time"
   ]
  },
  {
   "cell_type": "code",
   "execution_count": 163,
   "id": "b2b4fafa-5271-4e48-b01d-3596ae7517d6",
   "metadata": {},
   "outputs": [],
   "source": [
    "features_1_1 = [13807*k//100 for k in [15,30,50,55,95]]\n",
    "features_1_2 = [96401*k//100 for k in [5,10,15,20,25,30,35,40,45,50,55,60,65,70,75,80,85,90,95,100]]"
   ]
  },
  {
   "cell_type": "markdown",
   "id": "9069b2c6-59c2-4758-a6ed-2eb30f9469fe",
   "metadata": {},
   "source": [
    "first CountVectorizer range (1,1) "
   ]
  },
  {
   "cell_type": "code",
   "execution_count": 164,
   "id": "b48604e1-69f6-4961-9ec5-1cd8519ba74e",
   "metadata": {},
   "outputs": [],
   "source": [
    "pipeline = Pipeline([\n",
    "    ('vectorizer', CountVectorizer(ngram_range = (1,1), stop_words='english')),\n",
    "    ('classifier', LinearSVC(dual='auto'))\n",
    "])\n",
    "\n",
    "param_grid = {\n",
    "    # 'vectorizer__max_features': features_1_1,\n",
    "    'classifier__C': [0.01, 0.1, 1, 10],\n",
    "    'classifier__penalty': ['l1','l2'],\n",
    "    'classifier__loss': ['hinge','squared_hinge'],\n",
    "    'classifier__max_iter': [1000, 3000,5000, 10000]\n",
    "}"
   ]
  },
  {
   "cell_type": "code",
   "execution_count": 165,
   "id": "51293ca9-5a31-4a5c-8cf1-dfcaf8644c9f",
   "metadata": {},
   "outputs": [
    {
     "name": "stdout",
     "output_type": "stream",
     "text": [
      "Fitting 3 folds for each of 64 candidates, totalling 192 fits\n"
     ]
    },
    {
     "name": "stderr",
     "output_type": "stream",
     "text": [
      "/Users/michalwietecki/opt/anaconda3/lib/python3.9/site-packages/sklearn/svm/_base.py:1237: ConvergenceWarning: Liblinear failed to converge, increase the number of iterations.\n",
      "  warnings.warn(\n",
      "/Users/michalwietecki/opt/anaconda3/lib/python3.9/site-packages/sklearn/svm/_base.py:1237: ConvergenceWarning: Liblinear failed to converge, increase the number of iterations.\n",
      "  warnings.warn(\n",
      "/Users/michalwietecki/opt/anaconda3/lib/python3.9/site-packages/sklearn/svm/_base.py:1237: ConvergenceWarning: Liblinear failed to converge, increase the number of iterations.\n",
      "  warnings.warn(\n",
      "/Users/michalwietecki/opt/anaconda3/lib/python3.9/site-packages/sklearn/svm/_base.py:1237: ConvergenceWarning: Liblinear failed to converge, increase the number of iterations.\n",
      "  warnings.warn(\n",
      "/Users/michalwietecki/opt/anaconda3/lib/python3.9/site-packages/sklearn/svm/_base.py:1237: ConvergenceWarning: Liblinear failed to converge, increase the number of iterations.\n",
      "  warnings.warn(\n",
      "/Users/michalwietecki/opt/anaconda3/lib/python3.9/site-packages/sklearn/svm/_base.py:1237: ConvergenceWarning: Liblinear failed to converge, increase the number of iterations.\n",
      "  warnings.warn(\n",
      "/Users/michalwietecki/opt/anaconda3/lib/python3.9/site-packages/sklearn/svm/_base.py:1237: ConvergenceWarning: Liblinear failed to converge, increase the number of iterations.\n",
      "  warnings.warn(\n",
      "/Users/michalwietecki/opt/anaconda3/lib/python3.9/site-packages/sklearn/svm/_base.py:1237: ConvergenceWarning: Liblinear failed to converge, increase the number of iterations.\n",
      "  warnings.warn(\n",
      "/Users/michalwietecki/opt/anaconda3/lib/python3.9/site-packages/sklearn/svm/_base.py:1237: ConvergenceWarning: Liblinear failed to converge, increase the number of iterations.\n",
      "  warnings.warn(\n",
      "/Users/michalwietecki/opt/anaconda3/lib/python3.9/site-packages/sklearn/svm/_base.py:1237: ConvergenceWarning: Liblinear failed to converge, increase the number of iterations.\n",
      "  warnings.warn(\n",
      "/Users/michalwietecki/opt/anaconda3/lib/python3.9/site-packages/sklearn/svm/_base.py:1237: ConvergenceWarning: Liblinear failed to converge, increase the number of iterations.\n",
      "  warnings.warn(\n",
      "/Users/michalwietecki/opt/anaconda3/lib/python3.9/site-packages/sklearn/svm/_base.py:1237: ConvergenceWarning: Liblinear failed to converge, increase the number of iterations.\n",
      "  warnings.warn(\n",
      "/Users/michalwietecki/opt/anaconda3/lib/python3.9/site-packages/sklearn/svm/_base.py:1237: ConvergenceWarning: Liblinear failed to converge, increase the number of iterations.\n",
      "  warnings.warn(\n",
      "/Users/michalwietecki/opt/anaconda3/lib/python3.9/site-packages/sklearn/svm/_base.py:1237: ConvergenceWarning: Liblinear failed to converge, increase the number of iterations.\n",
      "  warnings.warn(\n",
      "/Users/michalwietecki/opt/anaconda3/lib/python3.9/site-packages/sklearn/svm/_base.py:1237: ConvergenceWarning: Liblinear failed to converge, increase the number of iterations.\n",
      "  warnings.warn(\n",
      "/Users/michalwietecki/opt/anaconda3/lib/python3.9/site-packages/sklearn/svm/_base.py:1237: ConvergenceWarning: Liblinear failed to converge, increase the number of iterations.\n",
      "  warnings.warn(\n",
      "/Users/michalwietecki/opt/anaconda3/lib/python3.9/site-packages/sklearn/svm/_base.py:1237: ConvergenceWarning: Liblinear failed to converge, increase the number of iterations.\n",
      "  warnings.warn(\n",
      "/Users/michalwietecki/opt/anaconda3/lib/python3.9/site-packages/sklearn/svm/_base.py:1237: ConvergenceWarning: Liblinear failed to converge, increase the number of iterations.\n",
      "  warnings.warn(\n",
      "/Users/michalwietecki/opt/anaconda3/lib/python3.9/site-packages/sklearn/svm/_base.py:1237: ConvergenceWarning: Liblinear failed to converge, increase the number of iterations.\n",
      "  warnings.warn(\n",
      "/Users/michalwietecki/opt/anaconda3/lib/python3.9/site-packages/sklearn/svm/_base.py:1237: ConvergenceWarning: Liblinear failed to converge, increase the number of iterations.\n",
      "  warnings.warn(\n",
      "/Users/michalwietecki/opt/anaconda3/lib/python3.9/site-packages/sklearn/svm/_base.py:1237: ConvergenceWarning: Liblinear failed to converge, increase the number of iterations.\n",
      "  warnings.warn(\n",
      "/Users/michalwietecki/opt/anaconda3/lib/python3.9/site-packages/sklearn/svm/_base.py:1237: ConvergenceWarning: Liblinear failed to converge, increase the number of iterations.\n",
      "  warnings.warn(\n",
      "/Users/michalwietecki/opt/anaconda3/lib/python3.9/site-packages/sklearn/svm/_base.py:1237: ConvergenceWarning: Liblinear failed to converge, increase the number of iterations.\n",
      "  warnings.warn(\n",
      "/Users/michalwietecki/opt/anaconda3/lib/python3.9/site-packages/sklearn/svm/_base.py:1237: ConvergenceWarning: Liblinear failed to converge, increase the number of iterations.\n",
      "  warnings.warn(\n",
      "/Users/michalwietecki/opt/anaconda3/lib/python3.9/site-packages/sklearn/model_selection/_validation.py:547: FitFailedWarning: \n",
      "48 fits failed out of a total of 192.\n",
      "The score on these train-test partitions for these parameters will be set to nan.\n",
      "If these failures are not expected, you can try to debug them by setting error_score='raise'.\n",
      "\n",
      "Below are more details about the failures:\n",
      "--------------------------------------------------------------------------------\n",
      "48 fits failed with the following error:\n",
      "Traceback (most recent call last):\n",
      "  File \"/Users/michalwietecki/opt/anaconda3/lib/python3.9/site-packages/sklearn/model_selection/_validation.py\", line 895, in _fit_and_score\n",
      "    estimator.fit(X_train, y_train, **fit_params)\n",
      "  File \"/Users/michalwietecki/opt/anaconda3/lib/python3.9/site-packages/sklearn/base.py\", line 1474, in wrapper\n",
      "    return fit_method(estimator, *args, **kwargs)\n",
      "  File \"/Users/michalwietecki/opt/anaconda3/lib/python3.9/site-packages/sklearn/pipeline.py\", line 475, in fit\n",
      "    self._final_estimator.fit(Xt, y, **last_step_params[\"fit\"])\n",
      "  File \"/Users/michalwietecki/opt/anaconda3/lib/python3.9/site-packages/sklearn/base.py\", line 1474, in wrapper\n",
      "    return fit_method(estimator, *args, **kwargs)\n",
      "  File \"/Users/michalwietecki/opt/anaconda3/lib/python3.9/site-packages/sklearn/svm/_classes.py\", line 325, in fit\n",
      "    self.coef_, self.intercept_, n_iter_ = _fit_liblinear(\n",
      "  File \"/Users/michalwietecki/opt/anaconda3/lib/python3.9/site-packages/sklearn/svm/_base.py\", line 1216, in _fit_liblinear\n",
      "    solver_type = _get_liblinear_solver_type(multi_class, penalty, loss, dual)\n",
      "  File \"/Users/michalwietecki/opt/anaconda3/lib/python3.9/site-packages/sklearn/svm/_base.py\", line 1047, in _get_liblinear_solver_type\n",
      "    raise ValueError(\n",
      "ValueError: Unsupported set of arguments: The combination of penalty='l1' and loss='hinge' is not supported, Parameters: penalty='l1', loss='hinge', dual=False\n",
      "\n",
      "  warnings.warn(some_fits_failed_message, FitFailedWarning)\n",
      "/Users/michalwietecki/opt/anaconda3/lib/python3.9/site-packages/sklearn/model_selection/_search.py:1051: UserWarning: One or more of the test scores are non-finite: [       nan 0.84890563        nan 0.84890563        nan 0.84906191\n",
      "        nan 0.84890563 0.35781188 0.83875007 0.35781188 0.83875007\n",
      " 0.35781188 0.83875007 0.35781188 0.83875007        nan 0.88484326\n",
      "        nan 0.88484326        nan 0.88484326        nan 0.88484326\n",
      " 0.88249907 0.88468727 0.88249907 0.88468727 0.88249907 0.88468727\n",
      " 0.88249907 0.88468727        nan 0.87687509        nan 0.87687509\n",
      "        nan 0.87687509        nan 0.87687509 0.8942187  0.8712498\n",
      " 0.8943746  0.8712498  0.8943746  0.8712498  0.89406235 0.8712498\n",
      "        nan 0.82999914        nan 0.82999906        nan 0.82999906\n",
      "        nan 0.82999906 0.86843613 0.83078058 0.86796694 0.83093686\n",
      " 0.86656135 0.83093686 0.86640507 0.83093686]\n",
      "  warnings.warn(\n"
     ]
    },
    {
     "name": "stdout",
     "output_type": "stream",
     "text": [
      "Best Parameters: {'classifier__C': 1, 'classifier__loss': 'squared_hinge', 'classifier__max_iter': 3000, 'classifier__penalty': 'l1'}\n",
      "Best Score: 0.8943746042793413\n"
     ]
    }
   ],
   "source": [
    "grid = GridSearchCV(pipeline, param_grid, cv=3, verbose=1, n_jobs=-1)\n",
    "grid.fit(X_train, y_train)\n",
    "print(\"Best Parameters:\", grid.best_params_)\n",
    "print(\"Best Score:\", grid.best_score_)"
   ]
  },
  {
   "cell_type": "code",
   "execution_count": 166,
   "id": "f4ed1b19-9c4c-474b-9386-c667cc2ee3e8",
   "metadata": {},
   "outputs": [],
   "source": [
    "best_model_1_1 = LinearSVC(C=1,\n",
    "                           loss = 'squared_hinge',\n",
    "                           max_iter = 5000,\n",
    "                           penalty = 'l1',\n",
    "                          dual = 'auto')"
   ]
  },
  {
   "cell_type": "code",
   "execution_count": 167,
   "id": "639cb5dd-5cd2-4870-8942-b04782f545d0",
   "metadata": {},
   "outputs": [
    {
     "name": "stdout",
     "output_type": "stream",
     "text": [
      "this many features were found:  13807 \n",
      "\n",
      "690 features (5%) -> Accuracy: 0.6425\n",
      "1380 features (10%) -> Accuracy: 0.81375\n",
      "2071 features (15%) -> Accuracy: 0.86875\n",
      "2761 features (20%) -> Accuracy: 0.884375\n",
      "3451 features (25%) -> Accuracy: 0.8925\n",
      "4142 features (30%) -> Accuracy: 0.90375\n",
      "4832 features (35%) -> Accuracy: 0.90375\n",
      "5522 features (40%) -> Accuracy: 0.90625\n",
      "6213 features (45%) -> Accuracy: 0.90625\n",
      "6903 features (50%) -> Accuracy: 0.906875\n",
      "7593 features (55%) -> Accuracy: 0.9075\n",
      "8284 features (60%) -> Accuracy: 0.9075\n",
      "8974 features (65%) -> Accuracy: 0.90875\n",
      "9664 features (70%) -> Accuracy: 0.909375\n"
     ]
    },
    {
     "name": "stderr",
     "output_type": "stream",
     "text": [
      "/Users/michalwietecki/opt/anaconda3/lib/python3.9/site-packages/sklearn/svm/_base.py:1237: ConvergenceWarning: Liblinear failed to converge, increase the number of iterations.\n",
      "  warnings.warn(\n"
     ]
    },
    {
     "name": "stdout",
     "output_type": "stream",
     "text": [
      "10355 features (75%) -> Accuracy: 0.910625\n",
      "11045 features (80%) -> Accuracy: 0.9075\n",
      "11735 features (85%) -> Accuracy: 0.90875\n",
      "12426 features (90%) -> Accuracy: 0.9075\n",
      "13116 features (95%) -> Accuracy: 0.906875\n",
      "13807 features (100%) -> Accuracy: 0.905625\n"
     ]
    },
    {
     "name": "stderr",
     "output_type": "stream",
     "text": [
      "/Users/michalwietecki/opt/anaconda3/lib/python3.9/site-packages/sklearn/svm/_base.py:1237: ConvergenceWarning: Liblinear failed to converge, increase the number of iterations.\n",
      "  warnings.warn(\n"
     ]
    },
    {
     "data": {
      "image/png": "[encoded data removed]",
      "text/plain": [
       "<Figure size 432x288 with 1 Axes>"
      ]
     },
     "metadata": {
      "needs_background": "light"
     },
     "output_type": "display_data"
    }
   ],
   "source": [
    "[feature_number,accuracies] = vectorizer_ngram_stopwords(1,1, CountVectorizer, model = best_model_1_1) \n",
    "plot_features_vs_accuracy(feature_number, accuracies)"
   ]
  },
  {
   "cell_type": "markdown",
   "id": "cefa5015-73cb-4a9d-b7c1-ef39a3ae88c0",
   "metadata": {},
   "source": [
    "compared to previous scores it is even lower so we will not use GridSearch"
   ]
  },
  {
   "cell_type": "markdown",
   "id": "14451b2a-d516-4682-825d-438c7ade715e",
   "metadata": {},
   "source": [
    "let's at least try and use this model with TfidfVectorizer and different ranges"
   ]
  },
  {
   "cell_type": "code",
   "execution_count": 168,
   "id": "48c56d29-cb9b-4981-ad6c-397149c8e10b",
   "metadata": {},
   "outputs": [
    {
     "name": "stderr",
     "output_type": "stream",
     "text": [
      "/Users/michalwietecki/opt/anaconda3/lib/python3.9/site-packages/sklearn/svm/_base.py:1237: ConvergenceWarning: Liblinear failed to converge, increase the number of iterations.\n",
      "  warnings.warn(\n"
     ]
    },
    {
     "name": "stdout",
     "output_type": "stream",
     "text": [
      "this many features were found:  96401 \n",
      "\n",
      "4820 features (5%) -> Accuracy: 0.900625\n",
      "9640 features (10%) -> Accuracy: 0.910625\n",
      "14460 features (15%) -> Accuracy: 0.91125\n"
     ]
    },
    {
     "name": "stderr",
     "output_type": "stream",
     "text": [
      "/Users/michalwietecki/opt/anaconda3/lib/python3.9/site-packages/sklearn/svm/_base.py:1237: ConvergenceWarning: Liblinear failed to converge, increase the number of iterations.\n",
      "  warnings.warn(\n"
     ]
    },
    {
     "name": "stdout",
     "output_type": "stream",
     "text": [
      "19280 features (20%) -> Accuracy: 0.91375\n",
      "24100 features (25%) -> Accuracy: 0.913125\n",
      "28920 features (30%) -> Accuracy: 0.914375\n",
      "33740 features (35%) -> Accuracy: 0.9125\n",
      "38560 features (40%) -> Accuracy: 0.91125\n"
     ]
    },
    {
     "name": "stderr",
     "output_type": "stream",
     "text": [
      "/Users/michalwietecki/opt/anaconda3/lib/python3.9/site-packages/sklearn/svm/_base.py:1237: ConvergenceWarning: Liblinear failed to converge, increase the number of iterations.\n",
      "  warnings.warn(\n"
     ]
    },
    {
     "name": "stdout",
     "output_type": "stream",
     "text": [
      "43380 features (45%) -> Accuracy: 0.910625\n"
     ]
    },
    {
     "name": "stderr",
     "output_type": "stream",
     "text": [
      "/Users/michalwietecki/opt/anaconda3/lib/python3.9/site-packages/sklearn/svm/_base.py:1237: ConvergenceWarning: Liblinear failed to converge, increase the number of iterations.\n",
      "  warnings.warn(\n"
     ]
    },
    {
     "name": "stdout",
     "output_type": "stream",
     "text": [
      "48200 features (50%) -> Accuracy: 0.91125\n",
      "53020 features (55%) -> Accuracy: 0.91125\n",
      "57840 features (60%) -> Accuracy: 0.910625\n",
      "62660 features (65%) -> Accuracy: 0.913125\n",
      "67480 features (70%) -> Accuracy: 0.91375\n"
     ]
    },
    {
     "name": "stderr",
     "output_type": "stream",
     "text": [
      "/Users/michalwietecki/opt/anaconda3/lib/python3.9/site-packages/sklearn/svm/_base.py:1237: ConvergenceWarning: Liblinear failed to converge, increase the number of iterations.\n",
      "  warnings.warn(\n"
     ]
    },
    {
     "name": "stdout",
     "output_type": "stream",
     "text": [
      "72300 features (75%) -> Accuracy: 0.915625\n",
      "77120 features (80%) -> Accuracy: 0.914375\n"
     ]
    },
    {
     "name": "stderr",
     "output_type": "stream",
     "text": [
      "/Users/michalwietecki/opt/anaconda3/lib/python3.9/site-packages/sklearn/svm/_base.py:1237: ConvergenceWarning: Liblinear failed to converge, increase the number of iterations.\n",
      "  warnings.warn(\n"
     ]
    },
    {
     "name": "stdout",
     "output_type": "stream",
     "text": [
      "81940 features (85%) -> Accuracy: 0.915\n",
      "86760 features (90%) -> Accuracy: 0.915\n"
     ]
    },
    {
     "name": "stderr",
     "output_type": "stream",
     "text": [
      "/Users/michalwietecki/opt/anaconda3/lib/python3.9/site-packages/sklearn/svm/_base.py:1237: ConvergenceWarning: Liblinear failed to converge, increase the number of iterations.\n",
      "  warnings.warn(\n"
     ]
    },
    {
     "name": "stdout",
     "output_type": "stream",
     "text": [
      "91580 features (95%) -> Accuracy: 0.91625\n",
      "96401 features (100%) -> Accuracy: 0.914375\n"
     ]
    },
    {
     "name": "stderr",
     "output_type": "stream",
     "text": [
      "/Users/michalwietecki/opt/anaconda3/lib/python3.9/site-packages/sklearn/svm/_base.py:1237: ConvergenceWarning: Liblinear failed to converge, increase the number of iterations.\n",
      "  warnings.warn(\n"
     ]
    },
    {
     "data": {
      "image/png": "[encoded data removed]",
      "text/plain": [
       "<Figure size 432x288 with 1 Axes>"
      ]
     },
     "metadata": {
      "needs_background": "light"
     },
     "output_type": "display_data"
    }
   ],
   "source": [
    "[feature_number,accuracies] = vectorizer_ngram_stopwords(1,2, CountVectorizer, model = best_model_1_1) \n",
    "plot_features_vs_accuracy(feature_number, accuracies)"
   ]
  },
  {
   "cell_type": "markdown",
   "id": "86a4cd48-a307-4865-9fdb-99c9b2c75207",
   "metadata": {},
   "source": [
    "failed to converge in many iterations let's increase the max_iter"
   ]
  },
  {
   "cell_type": "code",
   "execution_count": 169,
   "id": "f6e86a66-742d-4251-bae6-3eac1cbe8f7f",
   "metadata": {},
   "outputs": [],
   "source": [
    "best_model_1_1 = LinearSVC(C=1,\n",
    "                           loss = 'squared_hinge',\n",
    "                           max_iter = 10000,\n",
    "                           penalty = 'l1',\n",
    "                          dual = 'auto')"
   ]
  },
  {
   "cell_type": "code",
   "execution_count": 170,
   "id": "d1c71f3c-5774-4daa-8f86-2f29408522f3",
   "metadata": {},
   "outputs": [
    {
     "name": "stdout",
     "output_type": "stream",
     "text": [
      "this many features were found:  96401 \n",
      "\n",
      "4820 features (5%) -> Accuracy: 0.89875\n",
      "9640 features (10%) -> Accuracy: 0.910625\n",
      "14460 features (15%) -> Accuracy: 0.91\n",
      "19280 features (20%) -> Accuracy: 0.913125\n",
      "24100 features (25%) -> Accuracy: 0.913125\n",
      "28920 features (30%) -> Accuracy: 0.913125\n",
      "33740 features (35%) -> Accuracy: 0.911875\n"
     ]
    },
    {
     "name": "stderr",
     "output_type": "stream",
     "text": [
      "/Users/michalwietecki/opt/anaconda3/lib/python3.9/site-packages/sklearn/svm/_base.py:1237: ConvergenceWarning: Liblinear failed to converge, increase the number of iterations.\n",
      "  warnings.warn(\n"
     ]
    },
    {
     "name": "stdout",
     "output_type": "stream",
     "text": [
      "38560 features (40%) -> Accuracy: 0.9125\n",
      "43380 features (45%) -> Accuracy: 0.910625\n",
      "48200 features (50%) -> Accuracy: 0.911875\n"
     ]
    },
    {
     "name": "stderr",
     "output_type": "stream",
     "text": [
      "/Users/michalwietecki/opt/anaconda3/lib/python3.9/site-packages/sklearn/svm/_base.py:1237: ConvergenceWarning: Liblinear failed to converge, increase the number of iterations.\n",
      "  warnings.warn(\n"
     ]
    },
    {
     "name": "stdout",
     "output_type": "stream",
     "text": [
      "53020 features (55%) -> Accuracy: 0.913125\n",
      "57840 features (60%) -> Accuracy: 0.9125\n",
      "62660 features (65%) -> Accuracy: 0.913125\n",
      "67480 features (70%) -> Accuracy: 0.91375\n"
     ]
    },
    {
     "name": "stderr",
     "output_type": "stream",
     "text": [
      "/Users/michalwietecki/opt/anaconda3/lib/python3.9/site-packages/sklearn/svm/_base.py:1237: ConvergenceWarning: Liblinear failed to converge, increase the number of iterations.\n",
      "  warnings.warn(\n"
     ]
    },
    {
     "name": "stdout",
     "output_type": "stream",
     "text": [
      "72300 features (75%) -> Accuracy: 0.914375\n"
     ]
    },
    {
     "name": "stderr",
     "output_type": "stream",
     "text": [
      "/Users/michalwietecki/opt/anaconda3/lib/python3.9/site-packages/sklearn/svm/_base.py:1237: ConvergenceWarning: Liblinear failed to converge, increase the number of iterations.\n",
      "  warnings.warn(\n"
     ]
    },
    {
     "name": "stdout",
     "output_type": "stream",
     "text": [
      "77120 features (80%) -> Accuracy: 0.915\n"
     ]
    },
    {
     "name": "stderr",
     "output_type": "stream",
     "text": [
      "/Users/michalwietecki/opt/anaconda3/lib/python3.9/site-packages/sklearn/svm/_base.py:1237: ConvergenceWarning: Liblinear failed to converge, increase the number of iterations.\n",
      "  warnings.warn(\n"
     ]
    },
    {
     "name": "stdout",
     "output_type": "stream",
     "text": [
      "81940 features (85%) -> Accuracy: 0.911875\n"
     ]
    },
    {
     "name": "stderr",
     "output_type": "stream",
     "text": [
      "/Users/michalwietecki/opt/anaconda3/lib/python3.9/site-packages/sklearn/svm/_base.py:1237: ConvergenceWarning: Liblinear failed to converge, increase the number of iterations.\n",
      "  warnings.warn(\n"
     ]
    },
    {
     "name": "stdout",
     "output_type": "stream",
     "text": [
      "86760 features (90%) -> Accuracy: 0.914375\n"
     ]
    },
    {
     "name": "stderr",
     "output_type": "stream",
     "text": [
      "/Users/michalwietecki/opt/anaconda3/lib/python3.9/site-packages/sklearn/svm/_base.py:1237: ConvergenceWarning: Liblinear failed to converge, increase the number of iterations.\n",
      "  warnings.warn(\n"
     ]
    },
    {
     "name": "stdout",
     "output_type": "stream",
     "text": [
      "91580 features (95%) -> Accuracy: 0.916875\n",
      "96401 features (100%) -> Accuracy: 0.913125\n"
     ]
    },
    {
     "data": {
      "image/png": "[encoded data removed]",
      "text/plain": [
       "<Figure size 432x288 with 1 Axes>"
      ]
     },
     "metadata": {
      "needs_background": "light"
     },
     "output_type": "display_data"
    }
   ],
   "source": [
    "[feature_number,accuracies] = vectorizer_ngram_stopwords(1,2, CountVectorizer, model = best_model_1_1) \n",
    "plot_features_vs_accuracy(feature_number, accuracies)"
   ]
  },
  {
   "cell_type": "markdown",
   "id": "0c930d66-3f03-4551-947e-4de27281bcda",
   "metadata": {},
   "source": [
    "still cant converge, maybe we will try with the TfidfVectorizer"
   ]
  },
  {
   "cell_type": "code",
   "execution_count": 171,
   "id": "ad5c5ae1-af5a-43ef-9da9-57a4826afc1f",
   "metadata": {},
   "outputs": [
    {
     "name": "stdout",
     "output_type": "stream",
     "text": [
      "this many features were found:  13807 \n",
      "\n",
      "690 features (5%) -> Accuracy: 0.644375\n",
      "1380 features (10%) -> Accuracy: 0.82125\n",
      "2071 features (15%) -> Accuracy: 0.87\n",
      "2761 features (20%) -> Accuracy: 0.895625\n",
      "3451 features (25%) -> Accuracy: 0.906875\n",
      "4142 features (30%) -> Accuracy: 0.91125\n",
      "4832 features (35%) -> Accuracy: 0.913125\n",
      "5522 features (40%) -> Accuracy: 0.915\n",
      "6213 features (45%) -> Accuracy: 0.915625\n",
      "6903 features (50%) -> Accuracy: 0.91875\n",
      "7593 features (55%) -> Accuracy: 0.918125\n",
      "8284 features (60%) -> Accuracy: 0.916875\n",
      "8974 features (65%) -> Accuracy: 0.91625\n",
      "9664 features (70%) -> Accuracy: 0.9175\n",
      "10355 features (75%) -> Accuracy: 0.9175\n",
      "11045 features (80%) -> Accuracy: 0.916875\n",
      "11735 features (85%) -> Accuracy: 0.91875\n",
      "12426 features (90%) -> Accuracy: 0.918125\n",
      "13116 features (95%) -> Accuracy: 0.918125\n",
      "13807 features (100%) -> Accuracy: 0.916875\n"
     ]
    },
    {
     "data": {
      "image/png": "[encoded data removed]",
      "text/plain": [
       "<Figure size 432x288 with 1 Axes>"
      ]
     },
     "metadata": {
      "needs_background": "light"
     },
     "output_type": "display_data"
    }
   ],
   "source": [
    "[feature_number,accuracies] = vectorizer_ngram_stopwords(1,1, TfidfVectorizer, model = best_model_1_1) \n",
    "plot_features_vs_accuracy(feature_number, accuracies)"
   ]
  },
  {
   "cell_type": "code",
   "execution_count": 172,
   "id": "73a6f64d-a7ce-407a-baa9-e6f42fd2d8a2",
   "metadata": {},
   "outputs": [
    {
     "name": "stdout",
     "output_type": "stream",
     "text": [
      "this many features were found:  96401 \n",
      "\n",
      "4820 features (5%) -> Accuracy: 0.91\n",
      "9640 features (10%) -> Accuracy: 0.916875\n",
      "14460 features (15%) -> Accuracy: 0.920625\n",
      "19280 features (20%) -> Accuracy: 0.919375\n",
      "24100 features (25%) -> Accuracy: 0.91875\n",
      "28920 features (30%) -> Accuracy: 0.920625\n",
      "33740 features (35%) -> Accuracy: 0.921875\n",
      "38560 features (40%) -> Accuracy: 0.920625\n",
      "43380 features (45%) -> Accuracy: 0.920625\n",
      "48200 features (50%) -> Accuracy: 0.920625\n"
     ]
    },
    {
     "name": "stderr",
     "output_type": "stream",
     "text": [
      "/Users/michalwietecki/opt/anaconda3/lib/python3.9/site-packages/sklearn/svm/_base.py:1237: ConvergenceWarning: Liblinear failed to converge, increase the number of iterations.\n",
      "  warnings.warn(\n"
     ]
    },
    {
     "name": "stdout",
     "output_type": "stream",
     "text": [
      "53020 features (55%) -> Accuracy: 0.921875\n",
      "57840 features (60%) -> Accuracy: 0.9225\n",
      "62660 features (65%) -> Accuracy: 0.923125\n",
      "67480 features (70%) -> Accuracy: 0.921875\n",
      "72300 features (75%) -> Accuracy: 0.920625\n",
      "77120 features (80%) -> Accuracy: 0.92125\n",
      "81940 features (85%) -> Accuracy: 0.92375\n",
      "86760 features (90%) -> Accuracy: 0.92375\n",
      "91580 features (95%) -> Accuracy: 0.923125\n",
      "96401 features (100%) -> Accuracy: 0.924375\n"
     ]
    },
    {
     "data": {
      "image/png": "[encoded data removed]",
      "text/plain": [
       "<Figure size 432x288 with 1 Axes>"
      ]
     },
     "metadata": {
      "needs_background": "light"
     },
     "output_type": "display_data"
    }
   ],
   "source": [
    "[feature_number,accuracies] = vectorizer_ngram_stopwords(1,2, TfidfVectorizer, model = best_model_1_1) \n",
    "plot_features_vs_accuracy(feature_number, accuracies)"
   ]
  },
  {
   "cell_type": "markdown",
   "id": "10994777-f668-4cf9-ab41-db181882369a",
   "metadata": {},
   "source": [
    "### accuracy = 0.924,  let's change a few args using this vectorizer and this range"
   ]
  },
  {
   "cell_type": "code",
   "execution_count": 173,
   "id": "9a1450e4-ebb5-4bd8-ba22-78c218e8f5d8",
   "metadata": {},
   "outputs": [],
   "source": [
    "model = LinearSVC(C=1,\n",
    "                loss = 'squared_hinge',\n",
    "                max_iter = 15000,\n",
    "                penalty = 'l1',\n",
    "                dual = 'auto')"
   ]
  },
  {
   "cell_type": "code",
   "execution_count": 174,
   "id": "725da96b-e10c-4371-86a8-d8e90cc79be7",
   "metadata": {},
   "outputs": [
    {
     "name": "stdout",
     "output_type": "stream",
     "text": [
      "this many features were found:  96401 \n",
      "\n",
      "4820 features (5%) -> Accuracy: 0.91\n",
      "9640 features (10%) -> Accuracy: 0.916875\n",
      "14460 features (15%) -> Accuracy: 0.920625\n",
      "19280 features (20%) -> Accuracy: 0.92\n",
      "24100 features (25%) -> Accuracy: 0.919375\n",
      "28920 features (30%) -> Accuracy: 0.920625\n",
      "33740 features (35%) -> Accuracy: 0.921875\n",
      "38560 features (40%) -> Accuracy: 0.920625\n",
      "43380 features (45%) -> Accuracy: 0.920625\n",
      "48200 features (50%) -> Accuracy: 0.92125\n",
      "53020 features (55%) -> Accuracy: 0.9225\n",
      "57840 features (60%) -> Accuracy: 0.921875\n",
      "62660 features (65%) -> Accuracy: 0.923125\n",
      "67480 features (70%) -> Accuracy: 0.921875\n",
      "72300 features (75%) -> Accuracy: 0.92\n",
      "77120 features (80%) -> Accuracy: 0.92125\n",
      "81940 features (85%) -> Accuracy: 0.92375\n",
      "86760 features (90%) -> Accuracy: 0.924375\n",
      "91580 features (95%) -> Accuracy: 0.923125\n",
      "96401 features (100%) -> Accuracy: 0.924375\n"
     ]
    },
    {
     "data": {
      "image/png": "[encoded data removed]",
      "text/plain": [
       "<Figure size 432x288 with 1 Axes>"
      ]
     },
     "metadata": {
      "needs_background": "light"
     },
     "output_type": "display_data"
    }
   ],
   "source": [
    "[feature_number,accuracies] = vectorizer_ngram_stopwords(1,2, TfidfVectorizer, model = model) \n",
    "plot_features_vs_accuracy(feature_number, accuracies)"
   ]
  },
  {
   "cell_type": "code",
   "execution_count": 207,
   "id": "3c837160-bc6f-4d23-b7c8-75651cee338a",
   "metadata": {},
   "outputs": [
    {
     "name": "stdout",
     "output_type": "stream",
     "text": [
      "this many features were found:  96401 \n",
      "\n",
      "4820 features (5%) -> Accuracy: 0.90125\n",
      "9640 features (10%) -> Accuracy: 0.91125\n",
      "14460 features (15%) -> Accuracy: 0.913125\n",
      "19280 features (20%) -> Accuracy: 0.91\n",
      "24100 features (25%) -> Accuracy: 0.910625\n",
      "28920 features (30%) -> Accuracy: 0.91125\n",
      "33740 features (35%) -> Accuracy: 0.911875\n",
      "38560 features (40%) -> Accuracy: 0.911875\n",
      "43380 features (45%) -> Accuracy: 0.910625\n",
      "48200 features (50%) -> Accuracy: 0.911875\n",
      "53020 features (55%) -> Accuracy: 0.91125\n",
      "57840 features (60%) -> Accuracy: 0.910625\n",
      "62660 features (65%) -> Accuracy: 0.908125\n",
      "67480 features (70%) -> Accuracy: 0.908125\n",
      "72300 features (75%) -> Accuracy: 0.906875\n",
      "77120 features (80%) -> Accuracy: 0.9075\n",
      "81940 features (85%) -> Accuracy: 0.9075\n",
      "86760 features (90%) -> Accuracy: 0.91\n",
      "91580 features (95%) -> Accuracy: 0.909375\n",
      "96401 features (100%) -> Accuracy: 0.910625\n"
     ]
    },
    {
     "data": {
      "image/png": "[encoded data removed]",
      "text/plain": [
       "<Figure size 432x288 with 1 Axes>"
      ]
     },
     "metadata": {
      "needs_background": "light"
     },
     "output_type": "display_data"
    }
   ],
   "source": [
    "model = LinearSVC(C=1,\n",
    "                loss = 'hinge',\n",
    "                max_iter = 15000,\n",
    "                penalty = 'l2',\n",
    "                dual = 'auto')\n",
    "\n",
    "[feature_number,accuracies] = vectorizer_ngram_stopwords(1,2, TfidfVectorizer, model = model) \n",
    "plot_features_vs_accuracy(feature_number, accuracies)"
   ]
  },
  {
   "cell_type": "code",
   "execution_count": 176,
   "id": "749cd739-c2fb-42f5-8689-fb3f6666c1f3",
   "metadata": {},
   "outputs": [
    {
     "name": "stdout",
     "output_type": "stream",
     "text": [
      "this many features were found:  96401 \n",
      "\n",
      "4820 features (5%) -> Accuracy: 0.891875\n",
      "9640 features (10%) -> Accuracy: 0.904375\n",
      "14460 features (15%) -> Accuracy: 0.91125\n",
      "19280 features (20%) -> Accuracy: 0.914375\n",
      "24100 features (25%) -> Accuracy: 0.909375\n",
      "28920 features (30%) -> Accuracy: 0.910625\n",
      "33740 features (35%) -> Accuracy: 0.909375\n"
     ]
    },
    {
     "name": "stderr",
     "output_type": "stream",
     "text": [
      "/Users/michalwietecki/opt/anaconda3/lib/python3.9/site-packages/sklearn/svm/_base.py:1237: ConvergenceWarning: Liblinear failed to converge, increase the number of iterations.\n",
      "  warnings.warn(\n"
     ]
    },
    {
     "name": "stdout",
     "output_type": "stream",
     "text": [
      "38560 features (40%) -> Accuracy: 0.91375\n"
     ]
    },
    {
     "name": "stderr",
     "output_type": "stream",
     "text": [
      "/Users/michalwietecki/opt/anaconda3/lib/python3.9/site-packages/sklearn/svm/_base.py:1237: ConvergenceWarning: Liblinear failed to converge, increase the number of iterations.\n",
      "  warnings.warn(\n"
     ]
    },
    {
     "name": "stdout",
     "output_type": "stream",
     "text": [
      "43380 features (45%) -> Accuracy: 0.91625\n"
     ]
    },
    {
     "name": "stderr",
     "output_type": "stream",
     "text": [
      "/Users/michalwietecki/opt/anaconda3/lib/python3.9/site-packages/sklearn/svm/_base.py:1237: ConvergenceWarning: Liblinear failed to converge, increase the number of iterations.\n",
      "  warnings.warn(\n"
     ]
    },
    {
     "name": "stdout",
     "output_type": "stream",
     "text": [
      "48200 features (50%) -> Accuracy: 0.91375\n",
      "53020 features (55%) -> Accuracy: 0.915625\n",
      "57840 features (60%) -> Accuracy: 0.914375\n",
      "62660 features (65%) -> Accuracy: 0.914375\n",
      "67480 features (70%) -> Accuracy: 0.918125\n"
     ]
    },
    {
     "name": "stderr",
     "output_type": "stream",
     "text": [
      "/Users/michalwietecki/opt/anaconda3/lib/python3.9/site-packages/sklearn/svm/_base.py:1237: ConvergenceWarning: Liblinear failed to converge, increase the number of iterations.\n",
      "  warnings.warn(\n"
     ]
    },
    {
     "name": "stdout",
     "output_type": "stream",
     "text": [
      "72300 features (75%) -> Accuracy: 0.91875\n",
      "77120 features (80%) -> Accuracy: 0.918125\n",
      "81940 features (85%) -> Accuracy: 0.91875\n",
      "86760 features (90%) -> Accuracy: 0.915625\n"
     ]
    },
    {
     "name": "stderr",
     "output_type": "stream",
     "text": [
      "/Users/michalwietecki/opt/anaconda3/lib/python3.9/site-packages/sklearn/svm/_base.py:1237: ConvergenceWarning: Liblinear failed to converge, increase the number of iterations.\n",
      "  warnings.warn(\n"
     ]
    },
    {
     "name": "stdout",
     "output_type": "stream",
     "text": [
      "91580 features (95%) -> Accuracy: 0.9175\n",
      "96401 features (100%) -> Accuracy: 0.915625\n"
     ]
    },
    {
     "name": "stderr",
     "output_type": "stream",
     "text": [
      "/Users/michalwietecki/opt/anaconda3/lib/python3.9/site-packages/sklearn/svm/_base.py:1237: ConvergenceWarning: Liblinear failed to converge, increase the number of iterations.\n",
      "  warnings.warn(\n"
     ]
    },
    {
     "data": {
      "image/png": "[encoded data removed]",
      "text/plain": [
       "<Figure size 432x288 with 1 Axes>"
      ]
     },
     "metadata": {
      "needs_background": "light"
     },
     "output_type": "display_data"
    }
   ],
   "source": [
    "model = LinearSVC(C=3,\n",
    "                loss = 'squared_hinge',\n",
    "                max_iter = 15000,\n",
    "                penalty = 'l1',\n",
    "                dual = 'auto')\n",
    "\n",
    "[feature_number,accuracies] = vectorizer_ngram_stopwords(1,2, TfidfVectorizer, model = model) \n",
    "plot_features_vs_accuracy(feature_number, accuracies)"
   ]
  },
  {
   "cell_type": "code",
   "execution_count": 177,
   "id": "845fd295-058c-4ef3-8463-172a45e8725b",
   "metadata": {},
   "outputs": [
    {
     "name": "stdout",
     "output_type": "stream",
     "text": [
      "this many features were found:  96401 \n",
      "\n",
      "4820 features (5%) -> Accuracy: 0.886875\n",
      "9640 features (10%) -> Accuracy: 0.8975\n",
      "14460 features (15%) -> Accuracy: 0.898125\n",
      "19280 features (20%) -> Accuracy: 0.90375\n",
      "24100 features (25%) -> Accuracy: 0.905\n",
      "28920 features (30%) -> Accuracy: 0.906875\n",
      "33740 features (35%) -> Accuracy: 0.908125\n",
      "38560 features (40%) -> Accuracy: 0.9075\n",
      "43380 features (45%) -> Accuracy: 0.90875\n",
      "48200 features (50%) -> Accuracy: 0.90875\n",
      "53020 features (55%) -> Accuracy: 0.909375\n",
      "57840 features (60%) -> Accuracy: 0.9075\n",
      "62660 features (65%) -> Accuracy: 0.906875\n",
      "67480 features (70%) -> Accuracy: 0.908125\n",
      "72300 features (75%) -> Accuracy: 0.908125\n",
      "77120 features (80%) -> Accuracy: 0.90875\n",
      "81940 features (85%) -> Accuracy: 0.9075\n",
      "86760 features (90%) -> Accuracy: 0.909375\n",
      "91580 features (95%) -> Accuracy: 0.906875\n",
      "96401 features (100%) -> Accuracy: 0.9075\n"
     ]
    },
    {
     "data": {
      "image/png": "[encoded data removed]",
      "text/plain": [
       "<Figure size 432x288 with 1 Axes>"
      ]
     },
     "metadata": {
      "needs_background": "light"
     },
     "output_type": "display_data"
    }
   ],
   "source": [
    "model = LinearSVC(C=2,\n",
    "                loss = 'squared_hinge',\n",
    "                max_iter = 15000,\n",
    "                penalty = 'l2',\n",
    "                dual = 'auto')\n",
    "\n",
    "[feature_number,accuracies] = vectorizer_ngram_stopwords(1,2, TfidfVectorizer, model = model) \n",
    "plot_features_vs_accuracy(feature_number, accuracies)"
   ]
  },
  {
   "cell_type": "markdown",
   "id": "9d50d766-4e38-4fc8-b6e5-cac76801cc0e",
   "metadata": {},
   "source": [
    "maybe sublinear_tf = True?"
   ]
  },
  {
   "cell_type": "code",
   "execution_count": 178,
   "id": "89012aff-f06d-4052-b95e-787176f888f3",
   "metadata": {},
   "outputs": [
    {
     "name": "stdout",
     "output_type": "stream",
     "text": [
      "this many features were found:  96401 \n",
      "\n",
      "4820 features (5%) -> Accuracy: 0.908125\n",
      "9640 features (10%) -> Accuracy: 0.9175\n",
      "14460 features (15%) -> Accuracy: 0.921875\n",
      "19280 features (20%) -> Accuracy: 0.92\n",
      "24100 features (25%) -> Accuracy: 0.918125\n",
      "28920 features (30%) -> Accuracy: 0.92\n",
      "33740 features (35%) -> Accuracy: 0.92125\n",
      "38560 features (40%) -> Accuracy: 0.923125\n",
      "43380 features (45%) -> Accuracy: 0.9225\n",
      "48200 features (50%) -> Accuracy: 0.921875\n",
      "53020 features (55%) -> Accuracy: 0.92375\n",
      "57840 features (60%) -> Accuracy: 0.925\n",
      "62660 features (65%) -> Accuracy: 0.925\n",
      "67480 features (70%) -> Accuracy: 0.924375\n",
      "72300 features (75%) -> Accuracy: 0.923125\n",
      "77120 features (80%) -> Accuracy: 0.921875\n",
      "81940 features (85%) -> Accuracy: 0.925\n",
      "86760 features (90%) -> Accuracy: 0.92375\n",
      "91580 features (95%) -> Accuracy: 0.924375\n",
      "96401 features (100%) -> Accuracy: 0.925\n"
     ]
    },
    {
     "data": {
      "image/png": "[encoded data removed]",
      "text/plain": [
       "<Figure size 432x288 with 1 Axes>"
      ]
     },
     "metadata": {
      "needs_background": "light"
     },
     "output_type": "display_data"
    }
   ],
   "source": [
    "model = LinearSVC(C=1,\n",
    "                loss = 'squared_hinge',\n",
    "                max_iter = 15000,\n",
    "                penalty = 'l1',\n",
    "                dual = 'auto')\n",
    "\n",
    "[feature_number,accuracies] = vectorizer_ngram_stopwords(1,2, TfidfVectorizer, model = model, sub_tf=True) \n",
    "plot_features_vs_accuracy(feature_number, accuracies)"
   ]
  },
  {
   "cell_type": "markdown",
   "id": "98b4542f-5a2b-46f7-8409-d7d7114ffdf6",
   "metadata": {},
   "source": [
    "a little bit better, we will take 100% of the features as we have a tie"
   ]
  },
  {
   "cell_type": "markdown",
   "id": "1f872849-2996-40f8-af28-adda6bc620d0",
   "metadata": {},
   "source": [
    "### for now the best model is:\n",
    "for now the best one is:<br>\n",
    "BEST_model = Pipeline([\n",
    "                ('vectorizer', TfidfVectorizer(ngram_range=(1, 2), stop_words='english', sublinear_tf=True)), <br>\n",
    "                ('classifier', LinearSVC(C=1,<br>\n",
    "                loss = 'squared_hinge',<br>\n",
    "                max_iter = 15000,<br>\n",
    "                penalty = 'l1',<br>\n",
    "                dual = 'auto'))<br>\n",
    "                ])"
   ]
  },
  {
   "cell_type": "code",
   "execution_count": 179,
   "id": "9fe1d5a9-19cf-44a9-92b3-6dfcececab15",
   "metadata": {},
   "outputs": [],
   "source": [
    "BEST_model = Pipeline([\n",
    "                ('vectorizer', TfidfVectorizer(ngram_range=(1, 2), stop_words='english', sublinear_tf=True)), \n",
    "                ('classifier', LinearSVC(C=1,\n",
    "                loss = 'squared_hinge',\n",
    "                max_iter = 15000,\n",
    "                penalty = 'l1',\n",
    "                dual = 'auto'))\n",
    "                ])"
   ]
  },
  {
   "cell_type": "code",
   "execution_count": 188,
   "id": "9bcf082e-631d-4d72-80d7-40f6ec32adf2",
   "metadata": {},
   "outputs": [],
   "source": [
    "best_Multinomial = Pipeline([\n",
    "            ('vectorizer', CountVectorizer(ngram_range=(1, 2), stop_words='english', max_features = 9640)),\n",
    "            ('classifier', MultinomialNB(alpha = 0.5))\n",
    "        ])"
   ]
  },
  {
   "cell_type": "markdown",
   "id": "4181cc6b-7e1c-4784-bb42-9ba0c7ee3bb6",
   "metadata": {},
   "source": [
    "# XGBClassifier"
   ]
  },
  {
   "cell_type": "code",
   "execution_count": 217,
   "id": "b049b62d-4e60-42a0-add7-e139aef6ff01",
   "metadata": {
    "scrolled": true
   },
   "outputs": [
    {
     "name": "stdout",
     "output_type": "stream",
     "text": [
      "this many features were found:  96401 \n",
      "\n",
      "4820 features (5%) -> Accuracy: 0.9\n",
      "9640 features (10%) -> Accuracy: 0.901875\n",
      "14460 features (15%) -> Accuracy: 0.901875\n",
      "19280 features (20%) -> Accuracy: 0.901875\n",
      "24100 features (25%) -> Accuracy: 0.901875\n",
      "28920 features (30%) -> Accuracy: 0.901875\n",
      "33740 features (35%) -> Accuracy: 0.901875\n",
      "38560 features (40%) -> Accuracy: 0.901875\n",
      "43380 features (45%) -> Accuracy: 0.901875\n",
      "48200 features (50%) -> Accuracy: 0.901875\n",
      "53020 features (55%) -> Accuracy: 0.901875\n",
      "57840 features (60%) -> Accuracy: 0.901875\n",
      "62660 features (65%) -> Accuracy: 0.901875\n",
      "67480 features (70%) -> Accuracy: 0.901875\n",
      "72300 features (75%) -> Accuracy: 0.901875\n",
      "77120 features (80%) -> Accuracy: 0.901875\n",
      "81940 features (85%) -> Accuracy: 0.901875\n",
      "86760 features (90%) -> Accuracy: 0.901875\n",
      "91580 features (95%) -> Accuracy: 0.901875\n",
      "96401 features (100%) -> Accuracy: 0.901875\n"
     ]
    },
    {
     "data": {
      "image/png": "[encoded data removed]",
      "text/plain": [
       "<Figure size 432x288 with 1 Axes>"
      ]
     },
     "metadata": {
      "needs_background": "light"
     },
     "output_type": "display_data"
    }
   ],
   "source": [
    "model = XGBClassifier(use_label_encoder=False, eval_metric='mlogloss', max_depth=6)\n",
    "\n",
    "[feature_number,accuracies] = vectorizer_ngram_stopwords(1,2, CountVectorizer, model = model, sub_tf=True) \n",
    "plot_features_vs_accuracy(feature_number, accuracies)"
   ]
  },
  {
   "cell_type": "code",
   "execution_count": null,
   "id": "916f3ae8-c50d-43eb-b3c2-01f534605e11",
   "metadata": {},
   "outputs": [],
   "source": [
    "# param_dist = {\n",
    "#     'n_estimators': [100, 300, 500],\n",
    "#     'max_depth': [3, 5, 7],\n",
    "#     'learning_rate': [0.01, 0.1, 0.3],\n",
    "#     'subsample': [0.7, 1.0],\n",
    "#     'colsample_bytree': [0.7, 1.0],\n",
    "#     'gamma': [0, 1],\n",
    "#     'reg_alpha': [0, 0.5, 1],\n",
    "#     'reg_lambda': [0.1, 1, 10]\n",
    "# }\n",
    "\n",
    "# search = RandomizedSearchCV(XGBClassifier(use_label_encoder=False, eval_metric='mlogloss'),\n",
    "#                             param_distributions=param_dist,\n",
    "#                             n_iter=20, scoring='accuracy', cv=3, verbose=1, n_jobs=-1)\n",
    "\n",
    "# search.fit(X_train_vec, y_train_enc)\n",
    "\n",
    "# print(\"Best Parameters:\", search.best_params_)"
   ]
  },
  {
   "cell_type": "code",
   "execution_count": 211,
   "id": "9f6db19d-476d-4682-9d31-4cbb78e57d0c",
   "metadata": {},
   "outputs": [
    {
     "name": "stdout",
     "output_type": "stream",
     "text": [
      "this many features were found:  13807 \n",
      "\n",
      "690 features (5%) -> Accuracy: 0.66\n",
      "1380 features (10%) -> Accuracy: 0.82125\n",
      "2071 features (15%) -> Accuracy: 0.87375\n",
      "2761 features (20%) -> Accuracy: 0.8875\n",
      "3451 features (25%) -> Accuracy: 0.89375\n",
      "4142 features (30%) -> Accuracy: 0.898125\n",
      "4832 features (35%) -> Accuracy: 0.89625\n",
      "5522 features (40%) -> Accuracy: 0.89625\n",
      "6213 features (45%) -> Accuracy: 0.89625\n",
      "6903 features (50%) -> Accuracy: 0.89625\n",
      "7593 features (55%) -> Accuracy: 0.89625\n",
      "8284 features (60%) -> Accuracy: 0.89625\n",
      "8974 features (65%) -> Accuracy: 0.89625\n",
      "9664 features (70%) -> Accuracy: 0.89625\n",
      "10355 features (75%) -> Accuracy: 0.89625\n",
      "11045 features (80%) -> Accuracy: 0.89625\n",
      "11735 features (85%) -> Accuracy: 0.89625\n",
      "12426 features (90%) -> Accuracy: 0.89625\n",
      "13116 features (95%) -> Accuracy: 0.89625\n",
      "13807 features (100%) -> Accuracy: 0.89625\n"
     ]
    },
    {
     "data": {
      "image/png": "[encoded data removed]",
      "text/plain": [
       "<Figure size 432x288 with 1 Axes>"
      ]
     },
     "metadata": {
      "needs_background": "light"
     },
     "output_type": "display_data"
    }
   ],
   "source": [
    "model = XGBClassifier(use_label_encoder=False, eval_metric='mlogloss', max_depth=5)\n",
    "\n",
    "[feature_number,accuracies] = vectorizer_ngram_stopwords(1,1, CountVectorizer, model = model, sub_tf=True) \n",
    "plot_features_vs_accuracy(feature_number, accuracies)"
   ]
  },
  {
   "cell_type": "code",
   "execution_count": 219,
   "id": "12a0f354-eb4b-4a1b-8dc0-d02aaba65ccb",
   "metadata": {},
   "outputs": [
    {
     "name": "stdout",
     "output_type": "stream",
     "text": [
      "this many features were found:  13807 \n",
      "\n",
      "690 features (5%) -> Accuracy: 0.64125\n",
      "1380 features (10%) -> Accuracy: 0.81\n",
      "2071 features (15%) -> Accuracy: 0.875\n",
      "2761 features (20%) -> Accuracy: 0.881875\n",
      "3451 features (25%) -> Accuracy: 0.894375\n",
      "4142 features (30%) -> Accuracy: 0.893125\n",
      "4832 features (35%) -> Accuracy: 0.890625\n",
      "5522 features (40%) -> Accuracy: 0.889375\n",
      "6213 features (45%) -> Accuracy: 0.8925\n",
      "6903 features (50%) -> Accuracy: 0.8975\n",
      "7593 features (55%) -> Accuracy: 0.895\n",
      "8284 features (60%) -> Accuracy: 0.89875\n",
      "8974 features (65%) -> Accuracy: 0.895625\n",
      "9664 features (70%) -> Accuracy: 0.895625\n",
      "10355 features (75%) -> Accuracy: 0.9\n",
      "11045 features (80%) -> Accuracy: 0.89875\n",
      "11735 features (85%) -> Accuracy: 0.894375\n",
      "12426 features (90%) -> Accuracy: 0.891875\n",
      "13116 features (95%) -> Accuracy: 0.894375\n",
      "13807 features (100%) -> Accuracy: 0.895\n"
     ]
    },
    {
     "data": {
      "image/png": "[encoded data removed]",
      "text/plain": [
       "<Figure size 432x288 with 1 Axes>"
      ]
     },
     "metadata": {
      "needs_background": "light"
     },
     "output_type": "display_data"
    }
   ],
   "source": [
    "model = XGBClassifier(use_label_encoder=False, eval_metric='mlogloss', max_depth=6)\n",
    "\n",
    "[feature_number,accuracies] = vectorizer_ngram_stopwords(1,1, TfidfVectorizer, model = model, sub_tf=True) \n",
    "plot_features_vs_accuracy(feature_number, accuracies)"
   ]
  },
  {
   "cell_type": "code",
   "execution_count": 220,
   "id": "3dba9c7a-e36b-4a22-acdb-5afd03479c8f",
   "metadata": {},
   "outputs": [
    {
     "name": "stdout",
     "output_type": "stream",
     "text": [
      "this many features were found:  96401 \n",
      "\n",
      "4820 features (5%) -> Accuracy: 0.891875\n",
      "9640 features (10%) -> Accuracy: 0.8975\n",
      "14460 features (15%) -> Accuracy: 0.904375\n",
      "19280 features (20%) -> Accuracy: 0.899375\n",
      "24100 features (25%) -> Accuracy: 0.9\n",
      "28920 features (30%) -> Accuracy: 0.89875\n",
      "33740 features (35%) -> Accuracy: 0.898125\n",
      "38560 features (40%) -> Accuracy: 0.901875\n",
      "43380 features (45%) -> Accuracy: 0.901875\n",
      "48200 features (50%) -> Accuracy: 0.899375\n",
      "53020 features (55%) -> Accuracy: 0.89875\n",
      "57840 features (60%) -> Accuracy: 0.9025\n",
      "62660 features (65%) -> Accuracy: 0.90375\n",
      "67480 features (70%) -> Accuracy: 0.899375\n",
      "72300 features (75%) -> Accuracy: 0.904375\n",
      "77120 features (80%) -> Accuracy: 0.901875\n",
      "81940 features (85%) -> Accuracy: 0.89125\n",
      "86760 features (90%) -> Accuracy: 0.895625\n",
      "91580 features (95%) -> Accuracy: 0.89125\n",
      "96401 features (100%) -> Accuracy: 0.896875\n"
     ]
    },
    {
     "data": {
      "image/png": "[encoded data removed]",
      "text/plain": [
       "<Figure size 432x288 with 1 Axes>"
      ]
     },
     "metadata": {
      "needs_background": "light"
     },
     "output_type": "display_data"
    }
   ],
   "source": [
    "model = XGBClassifier(use_label_encoder=False, eval_metric='mlogloss', max_depth=6)\n",
    "\n",
    "[feature_number,accuracies] = vectorizer_ngram_stopwords(1,2, TfidfVectorizer, model = model, sub_tf=True) \n",
    "plot_features_vs_accuracy(feature_number, accuracies)"
   ]
  },
  {
   "cell_type": "code",
   "execution_count": 222,
   "id": "6c02e757-aa99-4328-8a9d-581317a7a93a",
   "metadata": {},
   "outputs": [
    {
     "name": "stdout",
     "output_type": "stream",
     "text": [
      "this many features were found:  96401 \n",
      "\n",
      "4820 features (5%) -> Accuracy: 0.895625\n",
      "9640 features (10%) -> Accuracy: 0.901875\n",
      "14460 features (15%) -> Accuracy: 0.90125\n",
      "19280 features (20%) -> Accuracy: 0.9025\n",
      "24100 features (25%) -> Accuracy: 0.905\n",
      "28920 features (30%) -> Accuracy: 0.904375\n",
      "33740 features (35%) -> Accuracy: 0.9075\n",
      "38560 features (40%) -> Accuracy: 0.9075\n",
      "43380 features (45%) -> Accuracy: 0.90875\n",
      "48200 features (50%) -> Accuracy: 0.90375\n",
      "53020 features (55%) -> Accuracy: 0.903125\n",
      "57840 features (60%) -> Accuracy: 0.901875\n",
      "62660 features (65%) -> Accuracy: 0.903125\n",
      "67480 features (70%) -> Accuracy: 0.904375\n",
      "72300 features (75%) -> Accuracy: 0.903125\n",
      "77120 features (80%) -> Accuracy: 0.896875\n",
      "81940 features (85%) -> Accuracy: 0.903125\n",
      "86760 features (90%) -> Accuracy: 0.895\n",
      "91580 features (95%) -> Accuracy: 0.900625\n",
      "96401 features (100%) -> Accuracy: 0.899375\n"
     ]
    },
    {
     "data": {
      "image/png": "[encoded data removed]",
      "text/plain": [
       "<Figure size 432x288 with 1 Axes>"
      ]
     },
     "metadata": {
      "needs_background": "light"
     },
     "output_type": "display_data"
    }
   ],
   "source": [
    "model = XGBClassifier(use_label_encoder=False, eval_metric='mlogloss', max_depth=6)\n",
    "\n",
    "[feature_number,accuracies] = vectorizer_ngram_stopwords(1,2, TfidfVectorizer, model = model, sub_tf=False) \n",
    "plot_features_vs_accuracy(feature_number, accuracies)"
   ]
  },
  {
   "cell_type": "markdown",
   "id": "ce401b01-1469-44f2-a49d-2a8382fd0c6c",
   "metadata": {},
   "source": [
    "best model is the one specified below"
   ]
  },
  {
   "cell_type": "code",
   "execution_count": 234,
   "id": "2fddc6d1-bd16-4062-9995-d9c6864dcb6c",
   "metadata": {},
   "outputs": [],
   "source": [
    "best_xgb = Pipeline([\n",
    "            ('vectorizer', TfidfVectorizer(ngram_range=(1, 2), stop_words='english', max_features = 43380)),\n",
    "            ('classifier', XGBClassifier(use_label_encoder=False, eval_metric='mlogloss', max_depth=6))\n",
    "        ])"
   ]
  },
  {
   "cell_type": "markdown",
   "id": "d88787ee-7773-4a0b-9638-c6f3c7d13b79",
   "metadata": {},
   "source": [
    "## voting classifier\n",
    "creating a voting classifier out of the 3 best models, each one is a different model type"
   ]
  },
  {
   "cell_type": "code",
   "execution_count": 232,
   "id": "342d0e57-7151-4b78-bee3-dcc872b17cb8",
   "metadata": {},
   "outputs": [],
   "source": [
    "BEST_model = Pipeline([\n",
    "                ('vectorizer', TfidfVectorizer(ngram_range=(1, 2), stop_words='english', sublinear_tf=True)), \n",
    "                ('classifier', LinearSVC(C=1,\n",
    "                loss = 'squared_hinge',\n",
    "                max_iter = 15000,\n",
    "                penalty = 'l1',\n",
    "                dual = 'auto'))\n",
    "                ])\n",
    "\n",
    "best_Multinomial = Pipeline([\n",
    "            ('vectorizer', CountVectorizer(ngram_range=(1, 2), stop_words='english', max_features = 9640)),\n",
    "            ('classifier', MultinomialNB(alpha = 0.5))\n",
    "        ])\n",
    "\n",
    "best_xgb = Pipeline([\n",
    "            ('vectorizer', TfidfVectorizer(ngram_range=(1, 2), stop_words='english', max_features = 43380)),\n",
    "            ('classifier', XGBClassifier(use_label_encoder=False, eval_metric='mlogloss', max_depth=6))\n",
    "        ])"
   ]
  },
  {
   "cell_type": "code",
   "execution_count": 235,
   "id": "b8e48675-ae3d-4665-bd0a-80c227189f94",
   "metadata": {},
   "outputs": [
    {
     "name": "stdout",
     "output_type": "stream",
     "text": [
      "Voting accuracy: 0.9175\n"
     ]
    }
   ],
   "source": [
    "from sklearn.linear_model import LogisticRegression\n",
    "\n",
    "voting_clf = VotingClassifier(estimators=[\n",
    "    ('multi', best_Multinomial),\n",
    "    ('svm', BEST_model),\n",
    "    ('xgb', best_xgb)\n",
    "    \n",
    "], voting='hard')\n",
    "voting_clf.fit(X_train, y_train)\n",
    "\n",
    "y_pred = voting_clf.predict(X_test)\n",
    "\n",
    "acc = accuracy_score(y_test, y_pred)\n",
    "print(\"Voting accuracy:\", acc)\n"
   ]
  },
  {
   "cell_type": "markdown",
   "id": "4a898979-2187-4072-bd64-b244c36b9049",
   "metadata": {},
   "source": [
    "cross validation score on the voting classifier:"
   ]
  },
  {
   "cell_type": "code",
   "execution_count": 236,
   "id": "0d3868d0-6804-4963-bbc7-9fe0c3f0dbc3",
   "metadata": {
    "scrolled": true
   },
   "outputs": [
    {
     "name": "stdout",
     "output_type": "stream",
     "text": [
      "Cross-validated accuracies: [0.91484375 0.90546875 0.91953125 0.896875   0.89375   ]\n",
      "Mean accuracy: 0.9061\n"
     ]
    }
   ],
   "source": [
    "scores = cross_val_score(voting_clf, X_train, y_train, cv=5, scoring='accuracy')\n",
    "\n",
    "print(\"Cross-validated accuracies:\", scores)\n",
    "print(\"Mean accuracy: {:.4f}\".format(np.mean(scores)))"
   ]
  },
  {
   "cell_type": "markdown",
   "id": "e18c3910-f97c-460b-9d67-01864a9d4527",
   "metadata": {},
   "source": [
    "maybe lower max_features by 1/5 in each one a little bit to adapt to cross validation"
   ]
  },
  {
   "cell_type": "code",
   "execution_count": 240,
   "id": "ecb26706-c60d-4ecc-ab5e-eecfca2baf5d",
   "metadata": {},
   "outputs": [
    {
     "name": "stdout",
     "output_type": "stream",
     "text": [
      "Voting accuracy: 0.9175\n"
     ]
    }
   ],
   "source": [
    "BEST_model_1 = Pipeline([\n",
    "                ('vectorizer', TfidfVectorizer(ngram_range=(1, 2), stop_words='english', sublinear_tf=True, max_features = 77120)), \n",
    "                ('classifier', LinearSVC(C=1,\n",
    "                loss = 'squared_hinge',\n",
    "                max_iter = 15000,\n",
    "                penalty = 'l1',\n",
    "                dual = 'auto'))\n",
    "                ])\n",
    "\n",
    "best_Multinomial_1 = Pipeline([\n",
    "            ('vectorizer', CountVectorizer(ngram_range=(1, 2), stop_words='english', max_features = 7712)),\n",
    "            ('classifier', MultinomialNB(alpha = 0.5))\n",
    "        ])\n",
    "\n",
    "best_xgb_1 = Pipeline([\n",
    "            ('vectorizer', TfidfVectorizer(ngram_range=(1, 2), stop_words='english', max_features = 34704)),\n",
    "            ('classifier', XGBClassifier(use_label_encoder=False, eval_metric='mlogloss', max_depth=6))\n",
    "        ])\n",
    "\n",
    "\n",
    "voting_clf_1 = VotingClassifier(estimators=[\n",
    "    ('multi', best_Multinomial_1),\n",
    "    ('svm', BEST_model_1),\n",
    "    ('xgb', best_xgb_1)\n",
    "    \n",
    "], voting='hard')\n",
    "voting_clf_1.fit(X_train, y_train)\n",
    "\n",
    "y_pred = voting_clf_1.predict(X_test)\n",
    "\n",
    "acc = accuracy_score(y_test, y_pred)\n",
    "print(\"Voting accuracy:\", acc)\n"
   ]
  },
  {
   "cell_type": "code",
   "execution_count": 241,
   "id": "16deb55b-4eed-4326-9d4e-d88a4722bb5f",
   "metadata": {},
   "outputs": [
    {
     "name": "stdout",
     "output_type": "stream",
     "text": [
      "Cross-validated accuracies: [0.9078125  0.903125   0.9125     0.89765625 0.89296875]\n",
      "Mean accuracy: 0.9028\n"
     ]
    }
   ],
   "source": [
    "scores = cross_val_score(voting_clf_1, X_train, y_train, cv=5, scoring='accuracy')\n",
    "\n",
    "print(\"Cross-validated accuracies:\", scores)\n",
    "print(\"Mean accuracy: {:.4f}\".format(np.mean(scores)))"
   ]
  },
  {
   "cell_type": "markdown",
   "id": "d1c87c31-26fe-4a60-9995-87e4a1d23a96",
   "metadata": {},
   "source": [
    "# final model:\n",
    "\n",
    "voting_clf = VotingClassifier(estimators=[<br>\n",
    "    ('multi', best_Multinomial),<br>\n",
    "    ('svm', BEST_model),<br>\n",
    "    ('xgb', best_xgb)<br>\n",
    "], voting='hard')<br><br>\n",
    "\n",
    "where:<br><br>\n",
    "\n",
    "BEST_model = Pipeline([<br>\n",
    "                ('vectorizer', TfidfVectorizer(ngram_range=(1, 2), stop_words='english', sublinear_tf=True)), <br>\n",
    "                ('classifier', LinearSVC(C=1,<br>\n",
    "                loss = 'squared_hinge',<br>\n",
    "                max_iter = 15000,<br>\n",
    "                penalty = 'l1',<br>\n",
    "                dual = 'auto'))<br>\n",
    "                ])<br><br>\n",
    "\n",
    "best_Multinomial = Pipeline([<br>\n",
    "            ('vectorizer', CountVectorizer(ngram_range=(1, 2), stop_words='english', max_features = 9640)),<br>\n",
    "            ('classifier', MultinomialNB(alpha = 0.5))<br>\n",
    "        ])<br><br>\n",
    "\n",
    "best_xgb = Pipeline([<br>\n",
    "            ('vectorizer', TfidfVectorizer(ngram_range=(1, 2), stop_words='english', max_features = 43380)),<br>\n",
    "            ('classifier', XGBClassifier(use_label_encoder=False, eval_metric='mlogloss', max_depth=6))<br>\n",
    "        ])<br>"
   ]
  }
 ],
 "metadata": {
  "kernelspec": {
   "display_name": "Python 3 (ipykernel)",
   "language": "python",
   "name": "python3"
  },
  "language_info": {
   "codemirror_mode": {
    "name": "ipython",
    "version": 3
   },
   "file_extension": ".py",
   "mimetype": "text/x-python",
   "name": "python",
   "nbconvert_exporter": "python",
   "pygments_lexer": "ipython3",
   "version": "3.9.12"
  }
 },
 "nbformat": 4,
 "nbformat_minor": 5
}
