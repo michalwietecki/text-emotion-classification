{
 "cells": [
  {
   "cell_type": "markdown",
   "id": "bfed54bf",
   "metadata": {},
   "source": [
    "## Data importing and splitting"
   ]
  },
  {
   "cell_type": "code",
   "execution_count": 2,
   "id": "913b2500",
   "metadata": {},
   "outputs": [],
   "source": [
    "import pandas as pd\n",
    "import numpy as np\n",
    "import matplotlib.pyplot as plt"
   ]
  },
  {
   "cell_type": "code",
   "execution_count": 3,
   "id": "bb618add",
   "metadata": {},
   "outputs": [],
   "source": [
    "data = pd.read_csv(\"train_emotion.csv\")"
   ]
  },
  {
   "cell_type": "code",
   "execution_count": 4,
   "id": "de053f86",
   "metadata": {},
   "outputs": [
    {
     "data": {
      "text/html": [
       "<div>\n",
       "<style scoped>\n",
       "    .dataframe tbody tr th:only-of-type {\n",
       "        vertical-align: middle;\n",
       "    }\n",
       "\n",
       "    .dataframe tbody tr th {\n",
       "        vertical-align: top;\n",
       "    }\n",
       "\n",
       "    .dataframe thead th {\n",
       "        text-align: right;\n",
       "    }\n",
       "</style>\n",
       "<table border=\"1\" class=\"dataframe\">\n",
       "  <thead>\n",
       "    <tr style=\"text-align: right;\">\n",
       "      <th></th>\n",
       "      <th>text</th>\n",
       "      <th>emotion</th>\n",
       "    </tr>\n",
       "  </thead>\n",
       "  <tbody>\n",
       "    <tr>\n",
       "      <th>0</th>\n",
       "      <td>Yeah for coupons!   Found this place randomly ...</td>\n",
       "      <td>neutral</td>\n",
       "    </tr>\n",
       "    <tr>\n",
       "      <th>1</th>\n",
       "      <td>i still love to feel a gentle breeze and hear ...</td>\n",
       "      <td>happiness</td>\n",
       "    </tr>\n",
       "    <tr>\n",
       "      <th>2</th>\n",
       "      <td>Normal, fama devido ao programa de tv. A sobre...</td>\n",
       "      <td>neutral</td>\n",
       "    </tr>\n",
       "    <tr>\n",
       "      <th>3</th>\n",
       "      <td>im feeling a little less jaded</td>\n",
       "      <td>sadness</td>\n",
       "    </tr>\n",
       "    <tr>\n",
       "      <th>4</th>\n",
       "      <td>i have never shaken the feeling of ferocious p...</td>\n",
       "      <td>hate</td>\n",
       "    </tr>\n",
       "    <tr>\n",
       "      <th>5</th>\n",
       "      <td>i figure my family loves us no matter what but...</td>\n",
       "      <td>sadness</td>\n",
       "    </tr>\n",
       "    <tr>\n",
       "      <th>6</th>\n",
       "      <td>i feel uncertain i will raise my</td>\n",
       "      <td>worry</td>\n",
       "    </tr>\n",
       "    <tr>\n",
       "      <th>7</th>\n",
       "      <td>i was feeling relaxed and quite comfortable at...</td>\n",
       "      <td>fun</td>\n",
       "    </tr>\n",
       "    <tr>\n",
       "      <th>8</th>\n",
       "      <td>i feel like ive lost everything and everyone</td>\n",
       "      <td>sadness</td>\n",
       "    </tr>\n",
       "    <tr>\n",
       "      <th>9</th>\n",
       "      <td>i feel this way is probably because i am dumb ...</td>\n",
       "      <td>sadness</td>\n",
       "    </tr>\n",
       "  </tbody>\n",
       "</table>\n",
       "</div>"
      ],
      "text/plain": [
       "                                                text    emotion\n",
       "0  Yeah for coupons!   Found this place randomly ...    neutral\n",
       "1  i still love to feel a gentle breeze and hear ...  happiness\n",
       "2  Normal, fama devido ao programa de tv. A sobre...    neutral\n",
       "3                     im feeling a little less jaded    sadness\n",
       "4  i have never shaken the feeling of ferocious p...       hate\n",
       "5  i figure my family loves us no matter what but...    sadness\n",
       "6                   i feel uncertain i will raise my      worry\n",
       "7  i was feeling relaxed and quite comfortable at...        fun\n",
       "8       i feel like ive lost everything and everyone    sadness\n",
       "9  i feel this way is probably because i am dumb ...    sadness"
      ]
     },
     "execution_count": 4,
     "metadata": {},
     "output_type": "execute_result"
    }
   ],
   "source": [
    "data.head(10)"
   ]
  },
  {
   "cell_type": "code",
   "execution_count": 5,
   "id": "cbfb338e",
   "metadata": {},
   "outputs": [],
   "source": [
    "X = data[\"text\"]\n",
    "y = data[\"emotion\"]"
   ]
  },
  {
   "cell_type": "code",
   "execution_count": 6,
   "id": "fc124150",
   "metadata": {
    "scrolled": true
   },
   "outputs": [
    {
     "data": {
      "text/plain": [
       "happiness    1468\n",
       "neutral      1292\n",
       "worry        1222\n",
       "fun          1157\n",
       "sadness      1146\n",
       "hate         1143\n",
       "surprise      572\n",
       "Name: emotion, dtype: int64"
      ]
     },
     "execution_count": 6,
     "metadata": {},
     "output_type": "execute_result"
    }
   ],
   "source": [
    "y.value_counts() #relatively balanced dataset, the surpise emotion is the least populated one"
   ]
  },
  {
   "cell_type": "code",
   "execution_count": 7,
   "id": "3870362f",
   "metadata": {},
   "outputs": [],
   "source": [
    "from sklearn.model_selection import train_test_split\n",
    "\n",
    "X_train, X_test, y_train, y_test = train_test_split(\n",
    "    X, y, stratify=y, test_size=0.2, random_state=52\n",
    ")"
   ]
  },
  {
   "cell_type": "code",
   "execution_count": 8,
   "id": "49c230e6",
   "metadata": {},
   "outputs": [
    {
     "data": {
      "text/plain": [
       "6400"
      ]
     },
     "execution_count": 8,
     "metadata": {},
     "output_type": "execute_result"
    }
   ],
   "source": [
    "len(X_train)"
   ]
  },
  {
   "cell_type": "code",
   "execution_count": 9,
   "id": "68e6c379",
   "metadata": {},
   "outputs": [
    {
     "data": {
      "text/plain": [
       "1600"
      ]
     },
     "execution_count": 9,
     "metadata": {},
     "output_type": "execute_result"
    }
   ],
   "source": [
    "len(X_test)"
   ]
  },
  {
   "cell_type": "markdown",
   "id": "7c1a48f1",
   "metadata": {},
   "source": [
    "### Label encoding"
   ]
  },
  {
   "cell_type": "code",
   "execution_count": 10,
   "id": "4ce19160",
   "metadata": {},
   "outputs": [],
   "source": [
    "from sklearn.preprocessing import LabelEncoder\n",
    "\n",
    "label_encoder = LabelEncoder()\n",
    "y_train_enc = label_encoder.fit_transform(y_train)\n",
    "y_test_enc = label_encoder.transform(y_test)"
   ]
  },
  {
   "cell_type": "code",
   "execution_count": 11,
   "id": "45077313-ba62-4c08-8797-3b963f0e949c",
   "metadata": {},
   "outputs": [
    {
     "data": {
      "text/plain": [
       "7011          fun\n",
       "5480    happiness\n",
       "3940    happiness\n",
       "6642      sadness\n",
       "823       neutral\n",
       "          ...    \n",
       "3519          fun\n",
       "819           fun\n",
       "2335    happiness\n",
       "330     happiness\n",
       "886       neutral\n",
       "Name: emotion, Length: 6400, dtype: object"
      ]
     },
     "execution_count": 11,
     "metadata": {},
     "output_type": "execute_result"
    }
   ],
   "source": [
    "#y_train = y_train_enc\n",
    "#y_test = y_test_enc\n",
    "y_train"
   ]
  },
  {
   "cell_type": "markdown",
   "id": "ece0335d",
   "metadata": {},
   "source": [
    "## First vectorization methods and models"
   ]
  },
  {
   "cell_type": "code",
   "execution_count": 12,
   "id": "b336f59f",
   "metadata": {},
   "outputs": [],
   "source": [
    "from sklearn.metrics import accuracy_score, recall_score, classification_report"
   ]
  },
  {
   "cell_type": "code",
   "execution_count": 13,
   "id": "32df3d43",
   "metadata": {},
   "outputs": [],
   "source": [
    "from sklearn.pipeline import Pipeline\n",
    "from sklearn.naive_bayes import MultinomialNB\n",
    "from sklearn.feature_extraction.text import TfidfVectorizer, CountVectorizer\n",
    "from sklearn.preprocessing import FunctionTransformer"
   ]
  },
  {
   "cell_type": "code",
   "execution_count": 14,
   "id": "0930fb51",
   "metadata": {},
   "outputs": [],
   "source": [
    "def model_evaluation(pipeline):\n",
    "    y_pred = pipeline.predict(X_test)\n",
    "    print(\"\\n Model Performance:\")\n",
    "    # print(classification_report(y_test, y_pred))\n",
    "    accuracy = accuracy_score(y_test, y_pred)\n",
    "    print(\"Accuracy:\", accuracy)\n",
    "    return accuracy"
   ]
  },
  {
   "cell_type": "markdown",
   "id": "b16a70ea",
   "metadata": {},
   "source": [
    "# Multinomial Naive Bayes with various vectorization techniques"
   ]
  },
  {
   "cell_type": "markdown",
   "id": "99422bb1",
   "metadata": {},
   "source": [
    "## BOW - bag of words\n",
    "Counts the number of times each word appears in a document.\n",
    "<li>lots of dimensions</li>\n",
    "<li>Simple, easy to understand.</li>\n",
    "<li>ignores word order, context, and meaning</li>"
   ]
  },
  {
   "cell_type": "code",
   "execution_count": 15,
   "id": "b807f380",
   "metadata": {},
   "outputs": [
    {
     "name": "stdout",
     "output_type": "stream",
     "text": [
      "Number of features:  14101\n",
      "\n",
      " Model Performance:\n",
      "Accuracy: 0.724375\n"
     ]
    },
    {
     "data": {
      "text/plain": [
       "0.724375"
      ]
     },
     "execution_count": 15,
     "metadata": {},
     "output_type": "execute_result"
    }
   ],
   "source": [
    "bow_pipeline = Pipeline([\n",
    "    ('vectorizer', CountVectorizer()),\n",
    "    ('classifier', MultinomialNB())\n",
    "])\n",
    "\n",
    "bow_pipeline.fit(X_train, y_train)\n",
    "num_features = len(bow_pipeline.named_steps['vectorizer'].vocabulary_)\n",
    "print(\"Number of features: \", num_features)\n",
    "\n",
    "model_evaluation(bow_pipeline)"
   ]
  },
  {
   "cell_type": "markdown",
   "id": "54a2827f",
   "metadata": {},
   "source": [
    "## N-grams\n",
    "Considers sequences of n words to capture more context.\n",
    "<li>Captures simple word combinations\n",
    "<li>High dimensionality"
   ]
  },
  {
   "cell_type": "code",
   "execution_count": 16,
   "id": "97a6cea9",
   "metadata": {
    "scrolled": true
   },
   "outputs": [
    {
     "name": "stdout",
     "output_type": "stream",
     "text": [
      "Number of features:  285115\n",
      "\n",
      " Model Performance:\n",
      "Accuracy: 0.514375\n"
     ]
    },
    {
     "data": {
      "text/plain": [
       "0.514375"
      ]
     },
     "execution_count": 16,
     "metadata": {},
     "output_type": "execute_result"
    }
   ],
   "source": [
    "bow_pipeline = Pipeline([\n",
    "    ('vectorizer', CountVectorizer(ngram_range=(2, 3))),\n",
    "    ('classifier', MultinomialNB())\n",
    "])\n",
    "\n",
    "bow_pipeline.fit(X_train, y_train)\n",
    "\n",
    "num_features = len(bow_pipeline.named_steps['vectorizer'].vocabulary_)\n",
    "print(\"Number of features: \", num_features)\n",
    "\n",
    "model_evaluation(bow_pipeline)"
   ]
  },
  {
   "cell_type": "markdown",
   "id": "3709be5d-5a17-4745-8903-c7a622329a72",
   "metadata": {},
   "source": [
    "## Experimenting with ngram_ranges"
   ]
  },
  {
   "cell_type": "code",
   "execution_count": 17,
   "id": "9977d151-bfda-4a8e-99f8-a1431e0bd6db",
   "metadata": {},
   "outputs": [
    {
     "name": "stdout",
     "output_type": "stream",
     "text": [
      "for ngram_range=(1,1)\n",
      "\n",
      " Model Performance:\n",
      "Accuracy: 0.724375\n",
      "\n",
      "\n",
      "\n",
      "for ngram_range=(1,2)\n",
      "\n",
      " Model Performance:\n",
      "Accuracy: 0.57125\n",
      "\n",
      "\n",
      "\n",
      "for ngram_range=(1,3)\n",
      "\n",
      " Model Performance:\n",
      "Accuracy: 0.508125\n",
      "\n",
      "\n",
      "\n",
      "for ngram_range=(1,4)\n",
      "\n",
      " Model Performance:\n",
      "Accuracy: 0.473125\n",
      "\n",
      "\n",
      "\n",
      "for ngram_range=(1,5)\n",
      "\n",
      " Model Performance:\n",
      "Accuracy: 0.46375\n",
      "\n",
      "\n",
      "\n",
      "for ngram_range=(2,2)\n",
      "\n",
      " Model Performance:\n",
      "Accuracy: 0.526875\n",
      "\n",
      "\n",
      "\n",
      "for ngram_range=(2,3)\n",
      "\n",
      " Model Performance:\n",
      "Accuracy: 0.514375\n",
      "\n",
      "\n",
      "\n",
      "for ngram_range=(2,4)\n",
      "\n",
      " Model Performance:\n",
      "Accuracy: 0.51\n",
      "\n",
      "\n",
      "\n",
      "for ngram_range=(2,5)\n",
      "\n",
      " Model Performance:\n",
      "Accuracy: 0.50625\n",
      "\n",
      "\n",
      "\n",
      "for ngram_range=(3,3)\n",
      "\n",
      " Model Performance:\n",
      "Accuracy: 0.418125\n",
      "\n",
      "\n",
      "\n",
      "for ngram_range=(3,4)\n",
      "\n",
      " Model Performance:\n",
      "Accuracy: 0.418125\n",
      "\n",
      "\n",
      "\n",
      "for ngram_range=(3,5)\n",
      "\n",
      " Model Performance:\n",
      "Accuracy: 0.4175\n",
      "\n",
      "\n",
      "\n",
      "for ngram_range=(4,4)\n",
      "\n",
      " Model Performance:\n",
      "Accuracy: 0.321875\n",
      "\n",
      "\n",
      "\n",
      "for ngram_range=(4,5)\n",
      "\n",
      " Model Performance:\n",
      "Accuracy: 0.321875\n",
      "\n",
      "\n",
      "\n"
     ]
    }
   ],
   "source": [
    "for i in range (1,5):\n",
    "    for j in range(1,6):\n",
    "        if i > j:\n",
    "            continue\n",
    "        bow_pipeline = Pipeline([\n",
    "            ('vectorizer', CountVectorizer(ngram_range=(i, j))),\n",
    "            ('classifier', MultinomialNB())\n",
    "        ])\n",
    "        \n",
    "        bow_pipeline.fit(X_train, y_train)\n",
    "        \n",
    "        print(f\"for ngram_range=({i},{j})\")\n",
    "        model_evaluation(bow_pipeline)\n",
    "        print(\"\")\n",
    "        print(\"\")\n",
    "        print(\"\")\n"
   ]
  },
  {
   "cell_type": "markdown",
   "id": "da2baf07-f106-4e9e-b509-5ab6b67cc227",
   "metadata": {},
   "source": [
    "### The longer the sequence the worse the accuracy, the best performance is for simple BOW"
   ]
  },
  {
   "cell_type": "markdown",
   "id": "a4ef4af4-1b33-4a1a-8e66-198aef9f8857",
   "metadata": {},
   "source": [
    "## Experimenting with max_df/min_df argument \n",
    "ignore terms that have a document frequency strictly higher/lower than the given threshold"
   ]
  },
  {
   "cell_type": "code",
   "execution_count": 18,
   "id": "514693a1-a7fc-4112-bc3e-2acbc82d8850",
   "metadata": {},
   "outputs": [
    {
     "name": "stdout",
     "output_type": "stream",
     "text": [
      "for min_df,max_df=(0.1,0.5)\n",
      "\n",
      " Model Performance:\n",
      "Accuracy: 0.30625\n",
      "\n",
      "\n",
      "\n",
      "for min_df,max_df=(0.2,0.5)\n",
      "\n",
      " Model Performance:\n",
      "Accuracy: 0.30375\n",
      "\n",
      "\n",
      "\n",
      "for min_df,max_df=(0.3,0.5)\n",
      "\n",
      " Model Performance:\n",
      "Accuracy: 0.250625\n",
      "\n",
      "\n",
      "\n",
      "for min_df,max_df=(0.4,0.5)\n",
      "\n",
      " Model Performance:\n",
      "Accuracy: 0.246875\n",
      "\n",
      "\n",
      "\n",
      "for min_df,max_df=(0.1,0.6)\n",
      "\n",
      " Model Performance:\n",
      "Accuracy: 0.340625\n",
      "\n",
      "\n",
      "\n",
      "for min_df,max_df=(0.2,0.6)\n",
      "\n",
      " Model Performance:\n",
      "Accuracy: 0.340625\n",
      "\n",
      "\n",
      "\n",
      "for min_df,max_df=(0.3,0.6)\n",
      "\n",
      " Model Performance:\n",
      "Accuracy: 0.291875\n",
      "\n",
      "\n",
      "\n",
      "for min_df,max_df=(0.4,0.6)\n",
      "\n",
      " Model Performance:\n",
      "Accuracy: 0.300625\n",
      "\n",
      "\n",
      "\n",
      "for min_df,max_df=(0.1,0.7)\n",
      "\n",
      " Model Performance:\n",
      "Accuracy: 0.340625\n",
      "\n",
      "\n",
      "\n",
      "for min_df,max_df=(0.2,0.7)\n",
      "\n",
      " Model Performance:\n",
      "Accuracy: 0.340625\n",
      "\n",
      "\n",
      "\n",
      "for min_df,max_df=(0.3,0.7)\n",
      "\n",
      " Model Performance:\n",
      "Accuracy: 0.291875\n",
      "\n",
      "\n",
      "\n",
      "for min_df,max_df=(0.4,0.7)\n",
      "\n",
      " Model Performance:\n",
      "Accuracy: 0.300625\n",
      "\n",
      "\n",
      "\n",
      "for min_df,max_df=(0.1,0.8)\n",
      "\n",
      " Model Performance:\n",
      "Accuracy: 0.340625\n",
      "\n",
      "\n",
      "\n",
      "for min_df,max_df=(0.2,0.8)\n",
      "\n",
      " Model Performance:\n",
      "Accuracy: 0.340625\n",
      "\n",
      "\n",
      "\n",
      "for min_df,max_df=(0.3,0.8)\n",
      "\n",
      " Model Performance:\n",
      "Accuracy: 0.291875\n",
      "\n",
      "\n",
      "\n",
      "for min_df,max_df=(0.4,0.8)\n",
      "\n",
      " Model Performance:\n",
      "Accuracy: 0.300625\n",
      "\n",
      "\n",
      "\n",
      "for min_df,max_df=(0.1,0.9)\n",
      "\n",
      " Model Performance:\n",
      "Accuracy: 0.340625\n",
      "\n",
      "\n",
      "\n",
      "for min_df,max_df=(0.2,0.9)\n",
      "\n",
      " Model Performance:\n",
      "Accuracy: 0.340625\n",
      "\n",
      "\n",
      "\n",
      "for min_df,max_df=(0.3,0.9)\n",
      "\n",
      " Model Performance:\n",
      "Accuracy: 0.291875\n",
      "\n",
      "\n",
      "\n",
      "for min_df,max_df=(0.4,0.9)\n",
      "\n",
      " Model Performance:\n",
      "Accuracy: 0.300625\n",
      "\n",
      "\n",
      "\n"
     ]
    }
   ],
   "source": [
    "for max_ in [0.5,0.6,0.7,0.8,0.9]:\n",
    "    for min_ in [0.1,0.2,0.3,0.4]:\n",
    "        bow_pipeline = Pipeline([\n",
    "            ('vectorizer', CountVectorizer(ngram_range=(1, 1), min_df=min_, max_df=max_)),\n",
    "            ('classifier', MultinomialNB())\n",
    "        ])\n",
    "        \n",
    "        bow_pipeline.fit(X_train, y_train)\n",
    "        \n",
    "        print(f\"for min_df,max_df=({min_},{max_})\")\n",
    "        model_evaluation(bow_pipeline)\n",
    "        print(\"\")\n",
    "        print(\"\")\n",
    "        print(\"\")"
   ]
  },
  {
   "cell_type": "markdown",
   "id": "bf80dea7-7c2e-4256-8663-6c6c4a02d97d",
   "metadata": {},
   "source": [
    "### Changing those parameters decreases the performance as well"
   ]
  },
  {
   "cell_type": "markdown",
   "id": "7abd990c-5562-4fe0-acf4-ee6bedb8a12e",
   "metadata": {},
   "source": [
    "## Experimenting with max_features argument\n",
    "only consider the top max_features ordered by term frequency <br>\n",
    "for ngram_range(1,1) we found 14101 features"
   ]
  },
  {
   "cell_type": "code",
   "execution_count": 19,
   "id": "1c7827b3-93f3-455d-a67d-a7d6cea80466",
   "metadata": {},
   "outputs": [
    {
     "name": "stdout",
     "output_type": "stream",
     "text": [
      "\n",
      " Model Performance:\n",
      "Accuracy: 0.461875\n",
      "for max_fearures=500\n",
      "\n",
      "\n",
      "\n",
      "\n",
      " Model Performance:\n",
      "Accuracy: 0.653125\n",
      "for max_fearures=1000\n",
      "\n",
      "\n",
      "\n",
      "\n",
      " Model Performance:\n",
      "Accuracy: 0.720625\n",
      "for max_fearures=1500\n",
      "\n",
      "\n",
      "\n",
      "\n",
      " Model Performance:\n",
      "Accuracy: 0.77125\n",
      "for max_fearures=2000\n",
      "\n",
      "\n",
      "\n",
      "\n",
      " Model Performance:\n",
      "Accuracy: 0.790625\n",
      "for max_fearures=2500\n",
      "\n",
      "\n",
      "\n",
      "\n",
      " Model Performance:\n",
      "Accuracy: 0.790625\n",
      "for max_fearures=3000\n",
      "\n",
      "\n",
      "\n",
      "\n",
      " Model Performance:\n",
      "Accuracy: 0.78875\n",
      "for max_fearures=3500\n",
      "\n",
      "\n",
      "\n",
      "\n",
      " Model Performance:\n",
      "Accuracy: 0.7875\n",
      "for max_fearures=4000\n",
      "\n",
      "\n",
      "\n",
      "\n",
      " Model Performance:\n",
      "Accuracy: 0.79\n",
      "for max_fearures=4500\n",
      "\n",
      "\n",
      "\n",
      "\n",
      " Model Performance:\n",
      "Accuracy: 0.78375\n",
      "for max_fearures=5000\n",
      "\n",
      "\n",
      "\n",
      "\n",
      " Model Performance:\n",
      "Accuracy: 0.785\n",
      "for max_fearures=5500\n",
      "\n",
      "\n",
      "\n",
      "\n",
      " Model Performance:\n",
      "Accuracy: 0.779375\n",
      "for max_fearures=6000\n",
      "\n",
      "\n",
      "\n",
      "\n",
      " Model Performance:\n",
      "Accuracy: 0.771875\n",
      "for max_fearures=6500\n",
      "\n",
      "\n",
      "\n",
      "\n",
      " Model Performance:\n",
      "Accuracy: 0.76875\n",
      "for max_fearures=7000\n",
      "\n",
      "\n",
      "\n",
      "\n",
      " Model Performance:\n",
      "Accuracy: 0.76875\n",
      "for max_fearures=7500\n",
      "\n",
      "\n",
      "\n",
      "\n",
      " Model Performance:\n",
      "Accuracy: 0.765625\n",
      "for max_fearures=8000\n",
      "\n",
      "\n",
      "\n",
      "\n",
      " Model Performance:\n",
      "Accuracy: 0.76\n",
      "for max_fearures=8500\n",
      "\n",
      "\n",
      "\n",
      "\n",
      " Model Performance:\n",
      "Accuracy: 0.75625\n",
      "for max_fearures=9000\n",
      "\n",
      "\n",
      "\n",
      "\n",
      " Model Performance:\n",
      "Accuracy: 0.75375\n",
      "for max_fearures=9500\n",
      "\n",
      "\n",
      "\n",
      "\n",
      " Model Performance:\n",
      "Accuracy: 0.75125\n",
      "for max_fearures=10000\n",
      "\n",
      "\n",
      "\n",
      "\n",
      " Model Performance:\n",
      "Accuracy: 0.749375\n",
      "for max_fearures=10500\n",
      "\n",
      "\n",
      "\n",
      "\n",
      " Model Performance:\n",
      "Accuracy: 0.74375\n",
      "for max_fearures=11000\n",
      "\n",
      "\n",
      "\n",
      "\n",
      " Model Performance:\n",
      "Accuracy: 0.741875\n",
      "for max_fearures=11500\n",
      "\n",
      "\n",
      "\n",
      "\n",
      " Model Performance:\n",
      "Accuracy: 0.739375\n",
      "for max_fearures=12000\n",
      "\n",
      "\n",
      "\n",
      "\n",
      " Model Performance:\n",
      "Accuracy: 0.7325\n",
      "for max_fearures=12500\n",
      "\n",
      "\n",
      "\n",
      "\n",
      " Model Performance:\n",
      "Accuracy: 0.729375\n",
      "for max_fearures=13000\n",
      "\n",
      "\n",
      "\n",
      "\n",
      " Model Performance:\n",
      "Accuracy: 0.7275\n",
      "for max_fearures=13500\n",
      "\n",
      "\n",
      "\n",
      "\n",
      " Model Performance:\n",
      "Accuracy: 0.725\n",
      "for max_fearures=14000\n",
      "\n",
      "\n",
      "\n",
      "\n",
      " Model Performance:\n",
      "Accuracy: 0.724375\n",
      "for max_fearures=14500\n",
      "\n",
      "\n",
      "\n"
     ]
    },
    {
     "name": "stdout",
     "output_type": "stream",
     "text": [
      "\n",
      " Model Performance:\n",
      "              precision    recall  f1-score   support\n",
      "\n",
      "           0       0.84      0.55      0.67       231\n",
      "           1       0.58      0.95      0.72       294\n",
      "           2       0.79      0.68      0.73       229\n",
      "           3       0.80      1.00      0.89       258\n",
      "           4       0.86      0.59      0.70       229\n",
      "           5       0.93      0.12      0.22       115\n",
      "           6       0.71      0.80      0.75       244\n",
      "\n",
      "    accuracy                           0.73      1600\n",
      "   macro avg       0.79      0.67      0.67      1600\n",
      "weighted avg       0.77      0.73      0.71      1600\n",
      "\n",
      "Accuracy: 0.7275\n",
      "for max_fearures=13500\n",
      "\n",
      "\n",
      "\n",
      "\n",
      " Model Performance:\n",
      "              precision    recall  f1-score   support\n",
      "\n",
      "           0       0.84      0.55      0.66       231\n",
      "           1       0.57      0.95      0.72       294\n",
      "           2       0.80      0.68      0.73       229\n",
      "           3       0.79      1.00      0.88       258\n",
      "           4       0.85      0.59      0.70       229\n",
      "           5       0.93      0.12      0.22       115\n",
      "           6       0.71      0.79      0.75       244\n",
      "\n",
      "    accuracy                           0.72      1600\n",
      "   macro avg       0.79      0.67      0.67      1600\n",
      "weighted avg       0.77      0.72      0.70      1600\n",
      "\n",
      "Accuracy: 0.725\n",
      "for max_fearures=14000\n",
      "\n",
      "\n",
      "\n",
      "\n",
      " Model Performance:\n",
      "              precision    recall  f1-score   support\n",
      "\n",
      "           0       0.84      0.55      0.66       231\n",
      "           1       0.58      0.95      0.72       294\n",
      "           2       0.80      0.68      0.73       229\n",
      "           3       0.78      1.00      0.88       258\n",
      "           4       0.85      0.59      0.70       229\n",
      "           5       0.93      0.12      0.22       115\n",
      "           6       0.71      0.79      0.75       244\n",
      "\n",
      "    accuracy                           0.72      1600\n",
      "   macro avg       0.79      0.67      0.66      1600\n",
      "weighted avg       0.77      0.72      0.70      1600\n",
      "\n",
      "Accuracy: 0.724375\n",
      "for max_fearures=14500\n",
      "\n",
      "\n",
      "\n"
     ]
    }
   ],
   "source": [
    "feature_number = []\n",
    "accuraccies = []\n",
    "\n",
    "for features in [k*500 for k in range(1,30)]:\n",
    "    bow_pipeline = Pipeline([\n",
    "        ('vectorizer', CountVectorizer(ngram_range=(1, 1), max_features = features)),\n",
    "        ('classifier', MultinomialNB())\n",
    "    ])\n",
    "    \n",
    "    bow_pipeline.fit(X_train, y_train)\n",
    "    accuracy = model_evaluation(bow_pipeline)\n",
    "    print(f\"for max_fearures={features}\")\n",
    "    feature_number.append(features)\n",
    "    accuraccies.append(accuracy)\n",
    "    print(\"\")\n",
    "    print(\"\")\n",
    "    print(\"\")"
   ]
  },
  {
   "cell_type": "code",
   "execution_count": 21,
   "id": "d8813b91",
   "metadata": {
    "scrolled": true
   },
   "outputs": [],
   "source": [
    "def plot_features_vs_accuracy(feature_number,accuraccies):\n",
    "    plt.plot(feature_number, accuraccies)\n",
    "    max_index = np.argmax(accuraccies)\n",
    "    max_f = feature_number[max_index]\n",
    "    max_acc = accuraccies[max_index]\n",
    "    \n",
    "    plt.annotate(\n",
    "        f\"({max_f:.0f}, {max_acc:.3f})\",\n",
    "        (max_f, max_acc),\n",
    "        textcoords=\"offset points\",\n",
    "        xytext=(20, 10),  # Move to the right and down\n",
    "        ha=\"left\",\n",
    "        fontsize=9,\n",
    "        color=\"black\",\n",
    "        bbox=dict(boxstyle=\"round,pad=0.3\", edgecolor=\"black\", facecolor=\"lightyellow\")\n",
    "    )\n",
    "    plt.xlabel(\"Number of features\")\n",
    "    plt.ylabel(\"Accuracy\")"
   ]
  },
  {
   "cell_type": "markdown",
   "id": "054f5a56-5c67-4f1e-9602-3997a08c82df",
   "metadata": {},
   "source": [
    "### Best for 3500 out of around 14000 features, accuracy = 0,789"
   ]
  },
  {
   "cell_type": "markdown",
   "id": "42d3ca8e-081b-4e65-81a8-ea16fd58c91a",
   "metadata": {},
   "source": [
    "let's now see how many features are found in ngram_range = (1,2)"
   ]
  },
  {
   "cell_type": "code",
   "execution_count": 22,
   "id": "87b1e2d4-60a0-4ad5-94cd-36e07b0fbbac",
   "metadata": {},
   "outputs": [
    {
     "name": "stdout",
     "output_type": "stream",
     "text": [
      "this many features were found:  118489\n"
     ]
    }
   ],
   "source": [
    "\n",
    "bow_pipeline = Pipeline([\n",
    "    ('vectorizer', CountVectorizer(ngram_range=(1, 2))),\n",
    "    ('classifier', MultinomialNB())\n",
    "])\n",
    "\n",
    "\n",
    "bow_pipeline.fit(X_train, y_train)\n",
    "\n",
    "\n",
    "num_features = len(bow_pipeline.named_steps['vectorizer'].vocabulary_)\n",
    "print(\"this many features were found: \", num_features)\n"
   ]
  },
  {
   "cell_type": "code",
   "execution_count": 23,
   "id": "7f9134ad-8599-4537-be39-5bef689445a8",
   "metadata": {},
   "outputs": [
    {
     "name": "stdout",
     "output_type": "stream",
     "text": [
      "for max_fearures=3000\n",
      "\n",
      " Model Performance:\n",
      "Accuracy: 0.67125\n",
      "\n",
      "\n",
      "\n",
      "for max_fearures=10000\n",
      "\n",
      " Model Performance:\n",
      "Accuracy: 0.724375\n",
      "\n",
      "\n",
      "\n",
      "for max_fearures=20000\n",
      "\n",
      " Model Performance:\n",
      "Accuracy: 0.715625\n",
      "\n",
      "\n",
      "\n",
      "for max_fearures=30000\n",
      "\n",
      " Model Performance:\n",
      "Accuracy: 0.705625\n",
      "\n",
      "\n",
      "\n",
      "for max_fearures=40000\n",
      "\n",
      " Model Performance:\n",
      "Accuracy: 0.685625\n",
      "\n",
      "\n",
      "\n",
      "for max_fearures=50000\n",
      "\n",
      " Model Performance:\n",
      "Accuracy: 0.66625\n",
      "\n",
      "\n",
      "\n",
      "for max_fearures=60000\n",
      "\n",
      " Model Performance:\n",
      "Accuracy: 0.64625\n",
      "\n",
      "\n",
      "\n",
      "for max_fearures=70000\n",
      "\n",
      " Model Performance:\n",
      "Accuracy: 0.6225\n",
      "\n",
      "\n",
      "\n",
      "for max_fearures=80000\n",
      "\n",
      " Model Performance:\n",
      "Accuracy: 0.604375\n",
      "\n",
      "\n",
      "\n",
      "for max_fearures=90000\n",
      "\n",
      " Model Performance:\n",
      "Accuracy: 0.595\n",
      "\n",
      "\n",
      "\n",
      "for max_fearures=100000\n",
      "\n",
      " Model Performance:\n",
      "Accuracy: 0.5825\n",
      "\n",
      "\n",
      "\n",
      "for max_fearures=110000\n",
      "\n",
      " Model Performance:\n",
      "Accuracy: 0.575625\n",
      "\n",
      "\n",
      "\n"
     ]
    }
   ],
   "source": [
    "for features in [int(k*10000) for k in [0.3,1,2,3,4,5,6,7,8,9,10,11]]:\n",
    "    bow_pipeline = Pipeline([\n",
    "        ('vectorizer', CountVectorizer(ngram_range=(1, 2), max_features = features)),\n",
    "        ('classifier', MultinomialNB())\n",
    "    ])\n",
    "    bow_pipeline.fit(X_train, y_train)\n",
    "    print(f\"for max_fearures={features}\")\n",
    "    model_evaluation(bow_pipeline)\n",
    "    print(\"\")\n",
    "    print(\"\")\n",
    "    print(\"\")"
   ]
  },
  {
   "cell_type": "markdown",
   "id": "b0c8b452-6135-47a5-af56-0d513904890d",
   "metadata": {},
   "source": [
    "we can see that the results are worse than for ngram_range(1,1)<br><br>\n",
    "what about ngram_range=(2,2)? basically ensuring that we use two-word features"
   ]
  },
  {
   "cell_type": "code",
   "execution_count": 24,
   "id": "80230cb7-1a00-4760-b11f-cc72f5bcd435",
   "metadata": {
    "scrolled": true
   },
   "outputs": [],
   "source": [
    "def vectorizer_ngram(from_, to_,vectorizer):\n",
    "    feature_number = []\n",
    "    accuraccies = []\n",
    "    bow_pipeline = Pipeline([\n",
    "        ('vectorizer', vectorizer(ngram_range=(from_, to_))),\n",
    "        ('classifier', MultinomialNB())\n",
    "    ])\n",
    "    \n",
    "    bow_pipeline.fit(X_train, y_train)\n",
    "    \n",
    "    \n",
    "    num_features = len(bow_pipeline.named_steps['vectorizer'].vocabulary_)\n",
    "    print(\"this many features were found: \", num_features, \"\\n\")\n",
    "    \n",
    "    for features in [k for k in [5,10,15,20,25,30,35,40,45,50,55,60,65,70,75,80,85,90]]:\n",
    "        number =features*num_features//100\n",
    "        bow_pipeline = Pipeline([\n",
    "            ('vectorizer', vectorizer(ngram_range=(from_, to_), max_features = number)),\n",
    "            ('classifier', MultinomialNB())\n",
    "        ])\n",
    "        \n",
    "        bow_pipeline.fit(X_train, y_train)\n",
    "        \n",
    "        # acc = model_evaluation(bow_pipeline)\n",
    "        y_pred = bow_pipeline.predict(X_test)\n",
    "        acc = accuracy_score(y_test, y_pred)\n",
    "        feature_number.append(number)\n",
    "        accuraccies.append(acc)\n",
    "        print(f\"{number} features ({features}%) -> Accuracy: {acc}\")\n",
    "\n",
    "        print(\"\")\n",
    "\n",
    "        print(\"\")\n",
    "    return [feature_number, accuraccies]"
   ]
  },
  {
   "cell_type": "code",
   "execution_count": 25,
   "id": "2854405f-49d0-4073-b5ad-580f48a101d8",
   "metadata": {
    "scrolled": true
   },
   "outputs": [
    {
     "name": "stdout",
     "output_type": "stream",
     "text": [
      "this many features were found:  104388 \n",
      "\n",
      "5219 features (5%) -> Accuracy: 0.478125\n",
      "\n",
      "\n",
      "10438 features (10%) -> Accuracy: 0.51875\n",
      "\n",
      "\n",
      "15658 features (15%) -> Accuracy: 0.5475\n",
      "\n",
      "\n",
      "20877 features (20%) -> Accuracy: 0.553125\n",
      "\n",
      "\n",
      "26097 features (25%) -> Accuracy: 0.559375\n",
      "\n",
      "\n",
      "31316 features (30%) -> Accuracy: 0.5475\n",
      "\n",
      "\n",
      "36535 features (35%) -> Accuracy: 0.54\n",
      "\n",
      "\n",
      "41755 features (40%) -> Accuracy: 0.535625\n",
      "\n",
      "\n",
      "46974 features (45%) -> Accuracy: 0.531875\n",
      "\n",
      "\n",
      "52194 features (50%) -> Accuracy: 0.53\n",
      "\n",
      "\n",
      "57413 features (55%) -> Accuracy: 0.528125\n",
      "\n",
      "\n",
      "62632 features (60%) -> Accuracy: 0.528125\n",
      "\n",
      "\n",
      "67852 features (65%) -> Accuracy: 0.523125\n",
      "\n",
      "\n",
      "73071 features (70%) -> Accuracy: 0.52375\n",
      "\n",
      "\n",
      "78291 features (75%) -> Accuracy: 0.52375\n",
      "\n",
      "\n",
      "83510 features (80%) -> Accuracy: 0.523125\n",
      "\n",
      "\n",
      "88729 features (85%) -> Accuracy: 0.520625\n",
      "\n",
      "\n",
      "93949 features (90%) -> Accuracy: 0.51625\n",
      "\n",
      "\n"
     ]
    }
   ],
   "source": [
    "[feature_number,accuracies] = vectorizer_ngram(2,2, CountVectorizer)"
   ]
  },
  {
   "cell_type": "code",
   "execution_count": 26,
   "id": "bbd4fb9a-c0ef-448f-a7c8-e912bee44552",
   "metadata": {},
   "outputs": [
    {
     "data": {
      "image/png": "[encoded data removed]",
      "text/plain": [
       "<Figure size 432x288 with 1 Axes>"
      ]
     },
     "metadata": {
      "needs_background": "light"
     },
     "output_type": "display_data"
    }
   ],
   "source": [
    "plot_features_vs_accuracy(feature_number, accuracies)"
   ]
  },
  {
   "cell_type": "markdown",
   "id": "509b1043-9afc-4548-b6d7-01aa0c10cadd",
   "metadata": {},
   "source": [
    "we see that we perform better when we have singular words as features, so we will stick with:\n",
    "\n",
    "Pipeline([<br>\n",
    "            ('vectorizer', CountVectorizer(ngram_range=(1, 1), max_features = 3000)),<br>\n",
    "            ('classifier', MultinomialNB())<br>\n",
    "        ])\n"
   ]
  },
  {
   "cell_type": "markdown",
   "id": "a829db42-8854-4294-b049-3ca1d8c4ee90",
   "metadata": {},
   "source": [
    "## Experimenting with max_features argument combined with stop_words = {'english'}\n"
   ]
  },
  {
   "cell_type": "code",
   "execution_count": 85,
   "id": "960351f9-fa64-4516-ae09-682a3ebc25c4",
   "metadata": {},
   "outputs": [],
   "source": [
    "def vectorizer_ngram_stopwords(from_, to_,vectorizer,sub_tf=False, model = MultinomialNB()):\n",
    "    feature_number = []\n",
    "    accuraccies = []\n",
    "    if vectorizer == CountVectorizer:\n",
    "        bow_pipeline = Pipeline([\n",
    "            ('vectorizer', vectorizer(ngram_range=(from_, to_), stop_words='english')),\n",
    "            ('classifier', model)\n",
    "        ])\n",
    "    else:\n",
    "        bow_pipeline = Pipeline([\n",
    "            ('vectorizer', vectorizer(ngram_range=(from_, to_), stop_words='english', sublinear_tf=sub_tf)),\n",
    "            ('classifier', model)\n",
    "        ])\n",
    "        \n",
    "    bow_pipeline.fit(X_train, y_train)\n",
    "    \n",
    "    \n",
    "    num_features = len(bow_pipeline.named_steps['vectorizer'].vocabulary_)\n",
    "    print(\"this many features were found: \", num_features, \"\\n\")\n",
    "    \n",
    "    for features in [k for k in [5,10,15,20,25,30,35,40,45,50,55,60,65,70,75,80,85,90]]:\n",
    "        number =features*num_features//100\n",
    "        if vectorizer == CountVectorizer:\n",
    "            bow_pipeline = Pipeline([\n",
    "                ('vectorizer', vectorizer(ngram_range=(from_, to_), stop_words='english', max_features = number)),\n",
    "                ('classifier', model)\n",
    "            ])\n",
    "        else:\n",
    "            bow_pipeline = Pipeline([\n",
    "                ('vectorizer', vectorizer(ngram_range=(from_, to_), stop_words='english', sublinear_tf=sub_tf, max_features = number)),\n",
    "                ('classifier', model)\n",
    "            ])\n",
    "        \n",
    "        bow_pipeline.fit(X_train, y_train)\n",
    "        \n",
    "        # acc = model_evaluation(bow_pipeline)\n",
    "        y_pred = bow_pipeline.predict(X_test)\n",
    "        acc = accuracy_score(y_test, y_pred)\n",
    "        feature_number.append(number)\n",
    "        accuraccies.append(acc)\n",
    "        print(f\"{number} features ({features}%) -> Accuracy: {acc}\")\n",
    "\n",
    "        # print(\"\")\n",
    "    return [feature_number,accuraccies]"
   ]
  },
  {
   "cell_type": "code",
   "execution_count": 66,
   "id": "5fa7984a-797a-4dba-9aaf-ed2b79132ea3",
   "metadata": {
    "scrolled": true
   },
   "outputs": [
    {
     "name": "stdout",
     "output_type": "stream",
     "text": [
      "this many features were found:  13807 \n",
      "\n",
      "690 features (5%) -> Accuracy: 0.5975\n",
      "\n",
      "1380 features (10%) -> Accuracy: 0.7625\n",
      "\n",
      "2071 features (15%) -> Accuracy: 0.810625\n",
      "\n",
      "2761 features (20%) -> Accuracy: 0.816875\n",
      "\n",
      "3451 features (25%) -> Accuracy: 0.81875\n",
      "\n",
      "4142 features (30%) -> Accuracy: 0.8225\n",
      "\n",
      "4832 features (35%) -> Accuracy: 0.8225\n",
      "\n",
      "5522 features (40%) -> Accuracy: 0.816875\n",
      "\n",
      "6213 features (45%) -> Accuracy: 0.813125\n",
      "\n",
      "6903 features (50%) -> Accuracy: 0.81125\n",
      "\n",
      "7593 features (55%) -> Accuracy: 0.80875\n",
      "\n",
      "8284 features (60%) -> Accuracy: 0.805\n",
      "\n",
      "8974 features (65%) -> Accuracy: 0.805\n",
      "\n",
      "9664 features (70%) -> Accuracy: 0.803125\n",
      "\n",
      "10355 features (75%) -> Accuracy: 0.800625\n",
      "\n",
      "11045 features (80%) -> Accuracy: 0.8\n",
      "\n",
      "11735 features (85%) -> Accuracy: 0.798125\n",
      "\n",
      "12426 features (90%) -> Accuracy: 0.794375\n",
      "\n"
     ]
    }
   ],
   "source": [
    "[feature_number,accuracies] = vectorizer_ngram_stopwords(1,1,CountVectorizer)"
   ]
  },
  {
   "cell_type": "code",
   "execution_count": 29,
   "id": "bc414c9e-4e83-4257-a206-69f5f3abbaef",
   "metadata": {},
   "outputs": [
    {
     "data": {
      "image/png": "[encoded data removed]",
      "text/plain": [
       "<Figure size 432x288 with 1 Axes>"
      ]
     },
     "metadata": {
      "needs_background": "light"
     },
     "output_type": "display_data"
    }
   ],
   "source": [
    "plot_features_vs_accuracy(feature_number, accuracies)"
   ]
  },
  {
   "cell_type": "markdown",
   "id": "80a778c4-5dec-4562-8a4f-f2a274588afe",
   "metadata": {},
   "source": [
    "for 4142 features (30%) and 4832 features (35%) we got accuracy=0.8225 so increase by 3%<br>\n",
    "maybe with other ranges?"
   ]
  },
  {
   "cell_type": "code",
   "execution_count": 30,
   "id": "e64fe110-95d9-4aec-8c20-62658d2d3c5e",
   "metadata": {
    "scrolled": true
   },
   "outputs": [
    {
     "name": "stdout",
     "output_type": "stream",
     "text": [
      "this many features were found:  96401 \n",
      "\n",
      "4820 features (5%) -> Accuracy: 0.82625\n",
      "\n",
      "9640 features (10%) -> Accuracy: 0.82\n",
      "\n",
      "14460 features (15%) -> Accuracy: 0.819375\n",
      "\n",
      "19280 features (20%) -> Accuracy: 0.819375\n",
      "\n",
      "24100 features (25%) -> Accuracy: 0.81625\n",
      "\n",
      "28920 features (30%) -> Accuracy: 0.8075\n",
      "\n",
      "33740 features (35%) -> Accuracy: 0.8\n",
      "\n",
      "38560 features (40%) -> Accuracy: 0.7975\n",
      "\n",
      "43380 features (45%) -> Accuracy: 0.791875\n",
      "\n",
      "48200 features (50%) -> Accuracy: 0.786875\n",
      "\n",
      "53020 features (55%) -> Accuracy: 0.78375\n",
      "\n",
      "57840 features (60%) -> Accuracy: 0.780625\n",
      "\n",
      "62660 features (65%) -> Accuracy: 0.780625\n",
      "\n",
      "67480 features (70%) -> Accuracy: 0.78\n",
      "\n",
      "72300 features (75%) -> Accuracy: 0.778125\n",
      "\n",
      "77120 features (80%) -> Accuracy: 0.775625\n",
      "\n",
      "81940 features (85%) -> Accuracy: 0.775\n",
      "\n",
      "86760 features (90%) -> Accuracy: 0.779375\n",
      "\n"
     ]
    }
   ],
   "source": [
    "[feature_number,accuracies] = vectorizer_ngram_stopwords(1,2,CountVectorizer)"
   ]
  },
  {
   "cell_type": "code",
   "execution_count": 31,
   "id": "73fd03af-1ccd-4b57-b35b-c1af3cb68a33",
   "metadata": {},
   "outputs": [
    {
     "data": {
      "image/png": "[encoded data removed]",
      "text/plain": [
       "<Figure size 432x288 with 1 Axes>"
      ]
     },
     "metadata": {
      "needs_background": "light"
     },
     "output_type": "display_data"
    }
   ],
   "source": [
    "plot_features_vs_accuracy(feature_number, accuracies)"
   ]
  },
  {
   "cell_type": "markdown",
   "id": "332256a2-f730-4a7e-9305-d42e734f92d7",
   "metadata": {},
   "source": [
    "#### single words!!!!!\n",
    "the best accuracy we have ever got and it's for 5% of all features.<br>\n",
    "we can suspect that the most common words are single words + it's around 4000/5000 words,<br> so the same number \n",
    "as we got in the previous example, that included only single words, <br> so single words is DEFINITELY the way to go "
   ]
  },
  {
   "cell_type": "code",
   "execution_count": 32,
   "id": "d3400af5-631e-4f24-89c4-06c3764e5fb0",
   "metadata": {
    "scrolled": true
   },
   "outputs": [
    {
     "name": "stdout",
     "output_type": "stream",
     "text": [
      "this many features were found:  82594 \n",
      "\n",
      "4129 features (5%) -> Accuracy: 0.606875\n",
      "\n",
      "8259 features (10%) -> Accuracy: 0.64625\n",
      "\n",
      "12389 features (15%) -> Accuracy: 0.648125\n",
      "\n",
      "16518 features (20%) -> Accuracy: 0.6475\n",
      "\n",
      "20648 features (25%) -> Accuracy: 0.650625\n",
      "\n",
      "24778 features (30%) -> Accuracy: 0.650625\n",
      "\n",
      "28907 features (35%) -> Accuracy: 0.649375\n",
      "\n",
      "33037 features (40%) -> Accuracy: 0.650625\n",
      "\n",
      "37167 features (45%) -> Accuracy: 0.649375\n",
      "\n",
      "41297 features (50%) -> Accuracy: 0.645625\n",
      "\n",
      "45426 features (55%) -> Accuracy: 0.6475\n",
      "\n",
      "49556 features (60%) -> Accuracy: 0.65\n",
      "\n",
      "53686 features (65%) -> Accuracy: 0.65125\n",
      "\n",
      "57815 features (70%) -> Accuracy: 0.6525\n",
      "\n",
      "61945 features (75%) -> Accuracy: 0.651875\n",
      "\n",
      "66075 features (80%) -> Accuracy: 0.65375\n",
      "\n",
      "70204 features (85%) -> Accuracy: 0.654375\n",
      "\n",
      "74334 features (90%) -> Accuracy: 0.67125\n",
      "\n"
     ]
    }
   ],
   "source": [
    "[feature_number,accuracies] = vectorizer_ngram_stopwords(2,2,CountVectorizer)"
   ]
  },
  {
   "cell_type": "code",
   "execution_count": 33,
   "id": "54374a52-fc94-4791-b9ae-f8ecf48c27bd",
   "metadata": {},
   "outputs": [
    {
     "data": {
      "image/png": "[encoded data removed]",
      "text/plain": [
       "<Figure size 432x288 with 1 Axes>"
      ]
     },
     "metadata": {
      "needs_background": "light"
     },
     "output_type": "display_data"
    }
   ],
   "source": [
    "plot_features_vs_accuracy(feature_number, accuracies)"
   ]
  },
  {
   "cell_type": "markdown",
   "id": "b3783c13-4c0d-42bd-a1d4-5cefaf41a7a1",
   "metadata": {},
   "source": [
    "again, the model needs single words to perform"
   ]
  },
  {
   "cell_type": "markdown",
   "id": "d9aaaa3e-521c-4908-8042-4ec698cfad34",
   "metadata": {},
   "source": [
    "### but using stop_words = 'english' is beneficial"
   ]
  },
  {
   "cell_type": "markdown",
   "id": "f2af3323",
   "metadata": {},
   "source": [
    "## TF-IDF (Term Frequency-Inverse Document Frequency)\n",
    "Weighs word frequency by how common it is across all documents.<br>\n",
    "Multiplies two values:\n",
    "<li>TF (Term Frequency) = Frequency of a term in a document.\n",
    "<li>IDF (Inverse Document Frequency) = Inverse of how many documents contain the term.\n",
    "<br>\n",
    "Reduces the impact of common but less informative words, but ignores word order."
   ]
  },
  {
   "cell_type": "code",
   "execution_count": 34,
   "id": "09123cde",
   "metadata": {
    "scrolled": true
   },
   "outputs": [
    {
     "name": "stdout",
     "output_type": "stream",
     "text": [
      "\n",
      " Model Performance:\n",
      "Accuracy: 0.651875\n"
     ]
    },
    {
     "data": {
      "text/plain": [
       "0.651875"
      ]
     },
     "execution_count": 34,
     "metadata": {},
     "output_type": "execute_result"
    }
   ],
   "source": [
    "tfidf_pipeline = Pipeline([\n",
    "    ('vectorizer', TfidfVectorizer()),\n",
    "    ('classifier', MultinomialNB())\n",
    "])\n",
    "\n",
    "tfidf_pipeline.fit(X_train, y_train)\n",
    "\n",
    "model_evaluation(tfidf_pipeline)"
   ]
  },
  {
   "cell_type": "markdown",
   "id": "6eff0197-3146-4c99-9a80-ae16833b645f",
   "metadata": {},
   "source": [
    "let's also see how does this vectorizer perform with different ngram_range/max_features values"
   ]
  },
  {
   "cell_type": "code",
   "execution_count": 37,
   "id": "faf5a15c-5dde-4a72-9af3-e3f4560f26ed",
   "metadata": {},
   "outputs": [
    {
     "name": "stdout",
     "output_type": "stream",
     "text": [
      "this many features were found:  14101 \n",
      "\n",
      "705 features (5%) -> Accuracy: 0.523125\n",
      "\n",
      "\n",
      "1410 features (10%) -> Accuracy: 0.70875\n",
      "\n",
      "\n",
      "2115 features (15%) -> Accuracy: 0.755\n",
      "\n",
      "\n",
      "2820 features (20%) -> Accuracy: 0.75875\n",
      "\n",
      "\n",
      "3525 features (25%) -> Accuracy: 0.755625\n",
      "\n",
      "\n",
      "4230 features (30%) -> Accuracy: 0.753125\n",
      "\n",
      "\n",
      "4935 features (35%) -> Accuracy: 0.745625\n",
      "\n",
      "\n",
      "5640 features (40%) -> Accuracy: 0.735\n",
      "\n",
      "\n",
      "6345 features (45%) -> Accuracy: 0.726875\n",
      "\n",
      "\n",
      "7050 features (50%) -> Accuracy: 0.7175\n",
      "\n",
      "\n",
      "7755 features (55%) -> Accuracy: 0.70625\n",
      "\n",
      "\n",
      "8460 features (60%) -> Accuracy: 0.69875\n",
      "\n",
      "\n",
      "9165 features (65%) -> Accuracy: 0.69125\n",
      "\n",
      "\n",
      "9870 features (70%) -> Accuracy: 0.684375\n",
      "\n",
      "\n",
      "10575 features (75%) -> Accuracy: 0.676875\n",
      "\n",
      "\n",
      "11280 features (80%) -> Accuracy: 0.669375\n",
      "\n",
      "\n",
      "11985 features (85%) -> Accuracy: 0.66625\n",
      "\n",
      "\n",
      "12690 features (90%) -> Accuracy: 0.663125\n",
      "\n",
      "\n"
     ]
    },
    {
     "data": {
      "image/png": "[encoded data removed]",
      "text/plain": [
       "<Figure size 432x288 with 1 Axes>"
      ]
     },
     "metadata": {
      "needs_background": "light"
     },
     "output_type": "display_data"
    }
   ],
   "source": [
    "[feature_number,accuracies] = vectorizer_ngram(1,1, TfidfVectorizer)\n",
    "plot_features_vs_accuracy(feature_number, accuracies)"
   ]
  },
  {
   "cell_type": "markdown",
   "id": "124109c3-5350-4943-bc99-6e3120d56a74",
   "metadata": {},
   "source": [
    "worse than for the first vectorizer, let's see with other ngram_values"
   ]
  },
  {
   "cell_type": "code",
   "execution_count": 38,
   "id": "0d784afa-7312-4bff-a42e-9a7f726213da",
   "metadata": {},
   "outputs": [
    {
     "name": "stdout",
     "output_type": "stream",
     "text": [
      "this many features were found:  118489 \n",
      "\n",
      "5924 features (5%) -> Accuracy: 0.694375\n",
      "\n",
      "\n",
      "11848 features (10%) -> Accuracy: 0.689375\n",
      "\n",
      "\n",
      "17773 features (15%) -> Accuracy: 0.66625\n",
      "\n",
      "\n",
      "23697 features (20%) -> Accuracy: 0.644375\n",
      "\n",
      "\n",
      "29622 features (25%) -> Accuracy: 0.638125\n",
      "\n",
      "\n",
      "35546 features (30%) -> Accuracy: 0.623125\n",
      "\n",
      "\n",
      "41471 features (35%) -> Accuracy: 0.609375\n",
      "\n",
      "\n",
      "47395 features (40%) -> Accuracy: 0.5975\n",
      "\n",
      "\n",
      "53320 features (45%) -> Accuracy: 0.5925\n",
      "\n",
      "\n",
      "59244 features (50%) -> Accuracy: 0.584375\n",
      "\n",
      "\n",
      "65168 features (55%) -> Accuracy: 0.578125\n",
      "\n",
      "\n",
      "71093 features (60%) -> Accuracy: 0.57375\n",
      "\n",
      "\n",
      "77017 features (65%) -> Accuracy: 0.57\n",
      "\n",
      "\n",
      "82942 features (70%) -> Accuracy: 0.56625\n",
      "\n",
      "\n",
      "88866 features (75%) -> Accuracy: 0.5625\n",
      "\n",
      "\n",
      "94791 features (80%) -> Accuracy: 0.560625\n",
      "\n",
      "\n",
      "100715 features (85%) -> Accuracy: 0.554375\n",
      "\n",
      "\n",
      "106640 features (90%) -> Accuracy: 0.550625\n",
      "\n",
      "\n"
     ]
    },
    {
     "data": {
      "image/png": "[encoded data removed]",
      "text/plain": [
       "<Figure size 432x288 with 1 Axes>"
      ]
     },
     "metadata": {
      "needs_background": "light"
     },
     "output_type": "display_data"
    }
   ],
   "source": [
    "[feature_number,accuracies] = vectorizer_ngram(1,2, TfidfVectorizer)\n",
    "plot_features_vs_accuracy(feature_number, accuracies)"
   ]
  },
  {
   "cell_type": "code",
   "execution_count": 39,
   "id": "e6210350-1098-41ce-8111-7dc37e3170cd",
   "metadata": {},
   "outputs": [
    {
     "name": "stdout",
     "output_type": "stream",
     "text": [
      "this many features were found:  104388 \n",
      "\n",
      "5219 features (5%) -> Accuracy: 0.474375\n",
      "\n",
      "\n",
      "10438 features (10%) -> Accuracy: 0.518125\n",
      "\n",
      "\n",
      "15658 features (15%) -> Accuracy: 0.5375\n",
      "\n",
      "\n",
      "20877 features (20%) -> Accuracy: 0.535625\n",
      "\n",
      "\n",
      "26097 features (25%) -> Accuracy: 0.539375\n",
      "\n",
      "\n",
      "31316 features (30%) -> Accuracy: 0.530625\n",
      "\n",
      "\n",
      "36535 features (35%) -> Accuracy: 0.5225\n",
      "\n",
      "\n",
      "41755 features (40%) -> Accuracy: 0.52\n",
      "\n",
      "\n",
      "46974 features (45%) -> Accuracy: 0.52125\n",
      "\n",
      "\n",
      "52194 features (50%) -> Accuracy: 0.51875\n",
      "\n",
      "\n",
      "57413 features (55%) -> Accuracy: 0.51625\n",
      "\n",
      "\n",
      "62632 features (60%) -> Accuracy: 0.515\n",
      "\n",
      "\n",
      "67852 features (65%) -> Accuracy: 0.515625\n",
      "\n",
      "\n",
      "73071 features (70%) -> Accuracy: 0.514375\n",
      "\n",
      "\n",
      "78291 features (75%) -> Accuracy: 0.515\n",
      "\n",
      "\n",
      "83510 features (80%) -> Accuracy: 0.51625\n",
      "\n",
      "\n",
      "88729 features (85%) -> Accuracy: 0.513125\n",
      "\n",
      "\n",
      "93949 features (90%) -> Accuracy: 0.51375\n",
      "\n",
      "\n"
     ]
    },
    {
     "data": {
      "image/png": "[encoded data removed]",
      "text/plain": [
       "<Figure size 432x288 with 1 Axes>"
      ]
     },
     "metadata": {
      "needs_background": "light"
     },
     "output_type": "display_data"
    }
   ],
   "source": [
    "[feature_number,accuracies] = vectorizer_ngram(2,2, TfidfVectorizer)\n",
    "plot_features_vs_accuracy(feature_number, accuracies)"
   ]
  },
  {
   "cell_type": "code",
   "execution_count": 40,
   "id": "7e675b80-554c-4640-a2bb-e5f9148fe81e",
   "metadata": {},
   "outputs": [
    {
     "name": "stdout",
     "output_type": "stream",
     "text": [
      "this many features were found:  285115 \n",
      "\n",
      "14255 features (5%) -> Accuracy: 0.49625\n",
      "\n",
      "\n",
      "28511 features (10%) -> Accuracy: 0.51\n",
      "\n",
      "\n",
      "42767 features (15%) -> Accuracy: 0.51875\n",
      "\n",
      "\n",
      "57023 features (20%) -> Accuracy: 0.511875\n",
      "\n",
      "\n",
      "71278 features (25%) -> Accuracy: 0.50625\n",
      "\n",
      "\n",
      "85534 features (30%) -> Accuracy: 0.501875\n",
      "\n",
      "\n",
      "99790 features (35%) -> Accuracy: 0.50375\n",
      "\n",
      "\n",
      "114046 features (40%) -> Accuracy: 0.500625\n",
      "\n",
      "\n",
      "128301 features (45%) -> Accuracy: 0.499375\n",
      "\n",
      "\n",
      "142557 features (50%) -> Accuracy: 0.495625\n",
      "\n",
      "\n",
      "156813 features (55%) -> Accuracy: 0.494375\n",
      "\n",
      "\n",
      "171069 features (60%) -> Accuracy: 0.489375\n",
      "\n",
      "\n",
      "185324 features (65%) -> Accuracy: 0.488125\n",
      "\n",
      "\n",
      "199580 features (70%) -> Accuracy: 0.4875\n",
      "\n",
      "\n",
      "213836 features (75%) -> Accuracy: 0.48875\n",
      "\n",
      "\n",
      "228092 features (80%) -> Accuracy: 0.484375\n",
      "\n",
      "\n",
      "242347 features (85%) -> Accuracy: 0.48375\n",
      "\n",
      "\n",
      "256603 features (90%) -> Accuracy: 0.48375\n",
      "\n",
      "\n"
     ]
    },
    {
     "data": {
      "image/png": "[encoded data removed]",
      "text/plain": [
       "<Figure size 432x288 with 1 Axes>"
      ]
     },
     "metadata": {
      "needs_background": "light"
     },
     "output_type": "display_data"
    }
   ],
   "source": [
    "[feature_number,accuracies] = vectorizer_ngram(2,3, TfidfVectorizer)\n",
    "plot_features_vs_accuracy(feature_number, accuracies)"
   ]
  },
  {
   "cell_type": "markdown",
   "id": "eee1b4d5-120a-4106-8bb4-cc9ffbcdd76d",
   "metadata": {},
   "source": [
    "as we can see, approach with this particular vectorizer is just worse<br>\n",
    "maybe stop_words will change something? <br>only for ngram_range = (1,1) and (1,2) so to have single words"
   ]
  },
  {
   "cell_type": "markdown",
   "id": "6c5a6313-96f8-4933-af9b-0bbea2faeee6",
   "metadata": {},
   "source": [
    "### experimenting with the TfidfVectorizer and stop_words = 'english'"
   ]
  },
  {
   "cell_type": "code",
   "execution_count": 41,
   "id": "5a9a741d-0c78-4296-b97a-1570e83a8583",
   "metadata": {},
   "outputs": [
    {
     "name": "stdout",
     "output_type": "stream",
     "text": [
      "this many features were found:  13807 \n",
      "\n",
      "690 features (5%) -> Accuracy: 0.609375\n",
      "\n",
      "1380 features (10%) -> Accuracy: 0.75125\n",
      "\n",
      "2071 features (15%) -> Accuracy: 0.803125\n",
      "\n",
      "2761 features (20%) -> Accuracy: 0.80875\n",
      "\n",
      "3451 features (25%) -> Accuracy: 0.8125\n",
      "\n",
      "4142 features (30%) -> Accuracy: 0.81125\n",
      "\n",
      "4832 features (35%) -> Accuracy: 0.8125\n",
      "\n",
      "5522 features (40%) -> Accuracy: 0.808125\n",
      "\n",
      "6213 features (45%) -> Accuracy: 0.805\n",
      "\n",
      "6903 features (50%) -> Accuracy: 0.79875\n",
      "\n",
      "7593 features (55%) -> Accuracy: 0.79875\n",
      "\n",
      "8284 features (60%) -> Accuracy: 0.79125\n",
      "\n",
      "8974 features (65%) -> Accuracy: 0.786875\n",
      "\n",
      "9664 features (70%) -> Accuracy: 0.78625\n",
      "\n",
      "10355 features (75%) -> Accuracy: 0.78375\n",
      "\n",
      "11045 features (80%) -> Accuracy: 0.780625\n",
      "\n",
      "11735 features (85%) -> Accuracy: 0.77875\n",
      "\n",
      "12426 features (90%) -> Accuracy: 0.77625\n",
      "\n"
     ]
    },
    {
     "data": {
      "image/png": "[encoded data removed]",
      "text/plain": [
       "<Figure size 432x288 with 1 Axes>"
      ]
     },
     "metadata": {
      "needs_background": "light"
     },
     "output_type": "display_data"
    }
   ],
   "source": [
    "[feature_number,accuracies] = vectorizer_ngram_stopwords(1,1,TfidfVectorizer)\n",
    "plot_features_vs_accuracy(feature_number, accuracies)"
   ]
  },
  {
   "cell_type": "code",
   "execution_count": 80,
   "id": "1cf07a74-8fa9-4264-a022-d6cabc2b1d9b",
   "metadata": {},
   "outputs": [
    {
     "name": "stdout",
     "output_type": "stream",
     "text": [
      "this many features were found:  96401 \n",
      "\n"
     ]
    },
    {
     "data": {
      "image/png": "[encoded data removed]",
      "text/plain": [
       "<Figure size 432x288 with 1 Axes>"
      ]
     },
     "metadata": {
      "needs_background": "light"
     },
     "output_type": "display_data"
    }
   ],
   "source": [
    "[feature_number,accuracies] = vectorizer_ngram_stopwords(1,2,TfidfVectorizer)\n",
    "plot_features_vs_accuracy(feature_number, accuracies)"
   ]
  },
  {
   "cell_type": "markdown",
   "id": "f16c7333-e8e1-451a-a83c-4896f37958b3",
   "metadata": {},
   "source": [
    "for ngram_range=(1,1) the accuracy score is close to the CountVectorizer, but slightly worse"
   ]
  },
  {
   "cell_type": "markdown",
   "id": "70eaf96b-a618-4c76-b88b-e46019e88441",
   "metadata": {},
   "source": [
    "### experimenting with the TfidfVectorizer and sublinear_tf=True\n",
    "This is called sublinear scaling, and it dampens the effect of very frequent words. Instead of letting the frequency grow linearly, it grows logarithmically."
   ]
  },
  {
   "cell_type": "code",
   "execution_count": 55,
   "id": "0b59b5a2-5be4-45cd-99ad-73bfeca5e345",
   "metadata": {},
   "outputs": [
    {
     "name": "stdout",
     "output_type": "stream",
     "text": [
      "this many features were found:  13807 \n",
      "\n",
      "690 features (5%) -> Accuracy: 0.610625\n",
      "\n",
      "1380 features (10%) -> Accuracy: 0.75125\n",
      "\n",
      "2071 features (15%) -> Accuracy: 0.80625\n",
      "\n",
      "2761 features (20%) -> Accuracy: 0.81\n",
      "\n",
      "3451 features (25%) -> Accuracy: 0.81375\n",
      "\n",
      "4142 features (30%) -> Accuracy: 0.81375\n",
      "\n",
      "4832 features (35%) -> Accuracy: 0.81375\n",
      "\n",
      "5522 features (40%) -> Accuracy: 0.809375\n",
      "\n",
      "6213 features (45%) -> Accuracy: 0.806875\n",
      "\n",
      "6903 features (50%) -> Accuracy: 0.8025\n",
      "\n",
      "7593 features (55%) -> Accuracy: 0.799375\n",
      "\n",
      "8284 features (60%) -> Accuracy: 0.795\n",
      "\n",
      "8974 features (65%) -> Accuracy: 0.793125\n",
      "\n",
      "9664 features (70%) -> Accuracy: 0.788125\n",
      "\n",
      "10355 features (75%) -> Accuracy: 0.785625\n",
      "\n",
      "11045 features (80%) -> Accuracy: 0.783125\n",
      "\n",
      "11735 features (85%) -> Accuracy: 0.780625\n",
      "\n",
      "12426 features (90%) -> Accuracy: 0.78\n",
      "\n"
     ]
    },
    {
     "data": {
      "image/png": "[encoded data removed]",
      "text/plain": [
       "<Figure size 432x288 with 1 Axes>"
      ]
     },
     "metadata": {
      "needs_background": "light"
     },
     "output_type": "display_data"
    }
   ],
   "source": [
    "[feature_number,accuracies] = vectorizer_ngram_stopwords(1,1,TfidfVectorizer, sub_tf = True)\n",
    "plot_features_vs_accuracy(feature_number, accuracies)"
   ]
  },
  {
   "cell_type": "code",
   "execution_count": 56,
   "id": "cd4a27f5-d0a1-4b49-bfca-71d2b1f01432",
   "metadata": {},
   "outputs": [
    {
     "name": "stdout",
     "output_type": "stream",
     "text": [
      "this many features were found:  96401 \n",
      "\n",
      "4820 features (5%) -> Accuracy: 0.81875\n",
      "\n",
      "9640 features (10%) -> Accuracy: 0.819375\n",
      "\n",
      "14460 features (15%) -> Accuracy: 0.813125\n",
      "\n",
      "19280 features (20%) -> Accuracy: 0.801875\n",
      "\n",
      "24100 features (25%) -> Accuracy: 0.793125\n",
      "\n",
      "28920 features (30%) -> Accuracy: 0.7875\n",
      "\n",
      "33740 features (35%) -> Accuracy: 0.78125\n",
      "\n",
      "38560 features (40%) -> Accuracy: 0.77625\n",
      "\n",
      "43380 features (45%) -> Accuracy: 0.775625\n",
      "\n",
      "48200 features (50%) -> Accuracy: 0.77375\n",
      "\n",
      "53020 features (55%) -> Accuracy: 0.774375\n",
      "\n",
      "57840 features (60%) -> Accuracy: 0.775\n",
      "\n",
      "62660 features (65%) -> Accuracy: 0.773125\n",
      "\n",
      "67480 features (70%) -> Accuracy: 0.7725\n",
      "\n",
      "72300 features (75%) -> Accuracy: 0.77\n",
      "\n",
      "77120 features (80%) -> Accuracy: 0.77\n",
      "\n",
      "81940 features (85%) -> Accuracy: 0.77\n",
      "\n",
      "86760 features (90%) -> Accuracy: 0.768125\n",
      "\n"
     ]
    },
    {
     "data": {
      "image/png": "[encoded data removed]",
      "text/plain": [
       "<Figure size 432x288 with 1 Axes>"
      ]
     },
     "metadata": {
      "needs_background": "light"
     },
     "output_type": "display_data"
    }
   ],
   "source": [
    "[feature_number,accuracies] = vectorizer_ngram_stopwords(1,2,TfidfVectorizer, sub_tf = True)\n",
    "plot_features_vs_accuracy(feature_number, accuracies)"
   ]
  },
  {
   "cell_type": "markdown",
   "id": "774f68f0-261c-4022-8466-c5d1f86757c4",
   "metadata": {},
   "source": [
    "improves the performance a little bit but it's still worse than CountVectorizer"
   ]
  },
  {
   "cell_type": "markdown",
   "id": "e79daf1c-081b-4fd1-82db-ed1b26aed1e6",
   "metadata": {},
   "source": [
    "### experimenting with arguments of the MultinomialNB itself"
   ]
  },
  {
   "cell_type": "markdown",
   "id": "c5b9f641-2fbb-4e9c-839e-a94f19adb0e5",
   "metadata": {},
   "source": [
    "MultinomialNB(alfa = [0.8, 0.5, 0.1, 0.01, 0.001]) "
   ]
  },
  {
   "cell_type": "code",
   "execution_count": 83,
   "id": "7a2e419b-98f1-4bde-a915-a16b3492d432",
   "metadata": {},
   "outputs": [],
   "source": [
    "def alfa_arg_vectorizer(from_, to_, vectorizer, alpha = [1.0,0.9,0.8, 0.5, 0.1, 0.01, 0.001]):\n",
    "    for a in alpha:\n",
    "        print(f\"vectorizer: {vectorizer}\")\n",
    "        print(f\"range: {from_} - {to_}\")\n",
    "        print(f\"alpha = {a}\")\n",
    "        print(\"\")\n",
    "        [feature_number,accuracies] = vectorizer_ngram_stopwords(from_,to_, vectorizer, sub_tf=True, model = MultinomialNB(alpha=a))\n",
    "        plot_features_vs_accuracy(feature_number, accuracies)\n",
    "        print(max(accuracies))\n",
    "        print(\"\")\n",
    "        print(\"\")\n",
    "        print(\"\")        "
   ]
  },
  {
   "cell_type": "code",
   "execution_count": 79,
   "id": "02be7ad0-20c5-4d33-a3f1-bd5fbb0a325b",
   "metadata": {},
   "outputs": [
    {
     "name": "stdout",
     "output_type": "stream",
     "text": [
      "vectorizer: <class 'sklearn.feature_extraction.text.CountVectorizer'>\n",
      "range: 1 - 1\n",
      "alpha = 1.0\n",
      "\n",
      "this many features were found:  13807 \n",
      "\n",
      "0.8225\n",
      "\n",
      "\n",
      "\n",
      "vectorizer: <class 'sklearn.feature_extraction.text.CountVectorizer'>\n",
      "range: 1 - 1\n",
      "alpha = 0.9\n",
      "\n",
      "this many features were found:  13807 \n",
      "\n",
      "0.8225\n",
      "\n",
      "\n",
      "\n",
      "vectorizer: <class 'sklearn.feature_extraction.text.CountVectorizer'>\n",
      "range: 1 - 1\n",
      "alpha = 0.8\n",
      "\n",
      "this many features were found:  13807 \n",
      "\n",
      "0.82375\n",
      "\n",
      "\n",
      "\n",
      "vectorizer: <class 'sklearn.feature_extraction.text.CountVectorizer'>\n",
      "range: 1 - 1\n",
      "alpha = 0.5\n",
      "\n",
      "this many features were found:  13807 \n",
      "\n",
      "0.818125\n",
      "\n",
      "\n",
      "\n",
      "vectorizer: <class 'sklearn.feature_extraction.text.CountVectorizer'>\n",
      "range: 1 - 1\n",
      "alpha = 0.1\n",
      "\n",
      "this many features were found:  13807 \n",
      "\n",
      "0.781875\n",
      "\n",
      "\n",
      "\n",
      "vectorizer: <class 'sklearn.feature_extraction.text.CountVectorizer'>\n",
      "range: 1 - 1\n",
      "alpha = 0.01\n",
      "\n",
      "this many features were found:  13807 \n",
      "\n",
      "0.75875\n",
      "\n",
      "\n",
      "\n",
      "vectorizer: <class 'sklearn.feature_extraction.text.CountVectorizer'>\n",
      "range: 1 - 1\n",
      "alpha = 0.001\n",
      "\n",
      "this many features were found:  13807 \n",
      "\n",
      "0.749375\n",
      "\n",
      "\n",
      "\n"
     ]
    },
    {
     "data": {
      "image/png": "[encoded data removed]",
      "text/plain": [
       "<Figure size 432x288 with 1 Axes>"
      ]
     },
     "metadata": {
      "needs_background": "light"
     },
     "output_type": "display_data"
    }
   ],
   "source": [
    "alfa_arg_vectorizer(1,1,CountVectorizer)"
   ]
  },
  {
   "cell_type": "markdown",
   "id": "1658beba-91e3-48ad-a913-57bdc33dc65b",
   "metadata": {},
   "source": [
    "looks the best for alpha = 0.8 but the margin is too small to say that it improves the model "
   ]
  },
  {
   "cell_type": "code",
   "execution_count": 87,
   "id": "593f160a-f42c-48c0-a25e-3a23123f72ed",
   "metadata": {},
   "outputs": [
    {
     "name": "stdout",
     "output_type": "stream",
     "text": [
      "vectorizer: <class 'sklearn.feature_extraction.text.CountVectorizer'>\n",
      "range: 1 - 2\n",
      "alpha = 1.0\n",
      "\n",
      "this many features were found:  96401 \n",
      "\n",
      "4820 features (5%) -> Accuracy: 0.82625\n",
      "9640 features (10%) -> Accuracy: 0.82\n",
      "14460 features (15%) -> Accuracy: 0.819375\n",
      "19280 features (20%) -> Accuracy: 0.819375\n",
      "24100 features (25%) -> Accuracy: 0.81625\n",
      "28920 features (30%) -> Accuracy: 0.8075\n",
      "33740 features (35%) -> Accuracy: 0.8\n",
      "38560 features (40%) -> Accuracy: 0.7975\n",
      "43380 features (45%) -> Accuracy: 0.791875\n",
      "48200 features (50%) -> Accuracy: 0.786875\n",
      "53020 features (55%) -> Accuracy: 0.78375\n",
      "57840 features (60%) -> Accuracy: 0.780625\n",
      "62660 features (65%) -> Accuracy: 0.780625\n",
      "67480 features (70%) -> Accuracy: 0.78\n",
      "72300 features (75%) -> Accuracy: 0.778125\n",
      "77120 features (80%) -> Accuracy: 0.775625\n",
      "81940 features (85%) -> Accuracy: 0.775\n",
      "86760 features (90%) -> Accuracy: 0.779375\n",
      "0.82625\n",
      "\n",
      "\n",
      "\n",
      "vectorizer: <class 'sklearn.feature_extraction.text.CountVectorizer'>\n",
      "range: 1 - 2\n",
      "alpha = 0.9\n",
      "\n",
      "this many features were found:  96401 \n",
      "\n",
      "4820 features (5%) -> Accuracy: 0.824375\n",
      "9640 features (10%) -> Accuracy: 0.820625\n",
      "14460 features (15%) -> Accuracy: 0.820625\n",
      "19280 features (20%) -> Accuracy: 0.819375\n",
      "24100 features (25%) -> Accuracy: 0.816875\n",
      "28920 features (30%) -> Accuracy: 0.81125\n",
      "33740 features (35%) -> Accuracy: 0.803125\n",
      "38560 features (40%) -> Accuracy: 0.80125\n",
      "43380 features (45%) -> Accuracy: 0.796875\n",
      "48200 features (50%) -> Accuracy: 0.7925\n",
      "53020 features (55%) -> Accuracy: 0.79125\n",
      "57840 features (60%) -> Accuracy: 0.78875\n",
      "62660 features (65%) -> Accuracy: 0.785625\n",
      "67480 features (70%) -> Accuracy: 0.783125\n",
      "72300 features (75%) -> Accuracy: 0.781875\n",
      "77120 features (80%) -> Accuracy: 0.7825\n",
      "81940 features (85%) -> Accuracy: 0.780625\n",
      "86760 features (90%) -> Accuracy: 0.783125\n",
      "0.824375\n",
      "\n",
      "\n",
      "\n",
      "vectorizer: <class 'sklearn.feature_extraction.text.CountVectorizer'>\n",
      "range: 1 - 2\n",
      "alpha = 0.8\n",
      "\n",
      "this many features were found:  96401 \n",
      "\n",
      "4820 features (5%) -> Accuracy: 0.821875\n",
      "9640 features (10%) -> Accuracy: 0.824375\n",
      "14460 features (15%) -> Accuracy: 0.82125\n",
      "19280 features (20%) -> Accuracy: 0.818125\n",
      "24100 features (25%) -> Accuracy: 0.81875\n",
      "28920 features (30%) -> Accuracy: 0.81375\n",
      "33740 features (35%) -> Accuracy: 0.810625\n",
      "38560 features (40%) -> Accuracy: 0.805\n",
      "43380 features (45%) -> Accuracy: 0.80125\n",
      "48200 features (50%) -> Accuracy: 0.79875\n",
      "53020 features (55%) -> Accuracy: 0.79875\n",
      "57840 features (60%) -> Accuracy: 0.794375\n",
      "62660 features (65%) -> Accuracy: 0.79\n",
      "67480 features (70%) -> Accuracy: 0.7875\n",
      "72300 features (75%) -> Accuracy: 0.78625\n",
      "77120 features (80%) -> Accuracy: 0.784375\n",
      "81940 features (85%) -> Accuracy: 0.783125\n",
      "86760 features (90%) -> Accuracy: 0.785625\n",
      "0.824375\n",
      "\n",
      "\n",
      "\n",
      "vectorizer: <class 'sklearn.feature_extraction.text.CountVectorizer'>\n",
      "range: 1 - 2\n",
      "alpha = 0.5\n",
      "\n",
      "this many features were found:  96401 \n",
      "\n",
      "4820 features (5%) -> Accuracy: 0.82125\n",
      "9640 features (10%) -> Accuracy: 0.831875\n",
      "14460 features (15%) -> Accuracy: 0.829375\n",
      "19280 features (20%) -> Accuracy: 0.825625\n",
      "24100 features (25%) -> Accuracy: 0.82125\n",
      "28920 features (30%) -> Accuracy: 0.816875\n",
      "33740 features (35%) -> Accuracy: 0.815625\n",
      "38560 features (40%) -> Accuracy: 0.810625\n",
      "43380 features (45%) -> Accuracy: 0.809375\n",
      "48200 features (50%) -> Accuracy: 0.809375\n",
      "53020 features (55%) -> Accuracy: 0.806875\n",
      "57840 features (60%) -> Accuracy: 0.80625\n",
      "62660 features (65%) -> Accuracy: 0.804375\n",
      "67480 features (70%) -> Accuracy: 0.804375\n",
      "72300 features (75%) -> Accuracy: 0.805\n",
      "77120 features (80%) -> Accuracy: 0.805625\n",
      "81940 features (85%) -> Accuracy: 0.80375\n",
      "86760 features (90%) -> Accuracy: 0.80375\n",
      "0.831875\n",
      "\n",
      "\n",
      "\n",
      "vectorizer: <class 'sklearn.feature_extraction.text.CountVectorizer'>\n",
      "range: 1 - 2\n",
      "alpha = 0.1\n",
      "\n",
      "this many features were found:  96401 \n",
      "\n",
      "4820 features (5%) -> Accuracy: 0.804375\n",
      "9640 features (10%) -> Accuracy: 0.815\n",
      "14460 features (15%) -> Accuracy: 0.816875\n",
      "19280 features (20%) -> Accuracy: 0.819375\n",
      "24100 features (25%) -> Accuracy: 0.816875\n",
      "28920 features (30%) -> Accuracy: 0.818125\n",
      "33740 features (35%) -> Accuracy: 0.81875\n",
      "38560 features (40%) -> Accuracy: 0.8175\n",
      "43380 features (45%) -> Accuracy: 0.815\n",
      "48200 features (50%) -> Accuracy: 0.81125\n",
      "53020 features (55%) -> Accuracy: 0.8125\n",
      "57840 features (60%) -> Accuracy: 0.8125\n",
      "62660 features (65%) -> Accuracy: 0.81125\n",
      "67480 features (70%) -> Accuracy: 0.811875\n",
      "72300 features (75%) -> Accuracy: 0.813125\n",
      "77120 features (80%) -> Accuracy: 0.81125\n",
      "81940 features (85%) -> Accuracy: 0.809375\n",
      "86760 features (90%) -> Accuracy: 0.8125\n",
      "0.819375\n",
      "\n",
      "\n",
      "\n",
      "vectorizer: <class 'sklearn.feature_extraction.text.CountVectorizer'>\n",
      "range: 1 - 2\n",
      "alpha = 0.01\n",
      "\n",
      "this many features were found:  96401 \n",
      "\n",
      "4820 features (5%) -> Accuracy: 0.768125\n",
      "9640 features (10%) -> Accuracy: 0.78625\n",
      "14460 features (15%) -> Accuracy: 0.7825\n",
      "19280 features (20%) -> Accuracy: 0.784375\n",
      "24100 features (25%) -> Accuracy: 0.783125\n",
      "28920 features (30%) -> Accuracy: 0.7825\n",
      "33740 features (35%) -> Accuracy: 0.78625\n",
      "38560 features (40%) -> Accuracy: 0.785\n",
      "43380 features (45%) -> Accuracy: 0.78125\n",
      "48200 features (50%) -> Accuracy: 0.780625\n",
      "53020 features (55%) -> Accuracy: 0.78125\n",
      "57840 features (60%) -> Accuracy: 0.780625\n",
      "62660 features (65%) -> Accuracy: 0.778125\n",
      "67480 features (70%) -> Accuracy: 0.7775\n",
      "72300 features (75%) -> Accuracy: 0.7775\n",
      "77120 features (80%) -> Accuracy: 0.778125\n",
      "81940 features (85%) -> Accuracy: 0.7775\n",
      "86760 features (90%) -> Accuracy: 0.77875\n",
      "0.78625\n",
      "\n",
      "\n",
      "\n",
      "vectorizer: <class 'sklearn.feature_extraction.text.CountVectorizer'>\n",
      "range: 1 - 2\n",
      "alpha = 0.001\n",
      "\n",
      "this many features were found:  96401 \n",
      "\n",
      "4820 features (5%) -> Accuracy: 0.755625\n",
      "9640 features (10%) -> Accuracy: 0.765\n",
      "14460 features (15%) -> Accuracy: 0.7625\n",
      "19280 features (20%) -> Accuracy: 0.76625\n",
      "24100 features (25%) -> Accuracy: 0.76375\n",
      "28920 features (30%) -> Accuracy: 0.76125\n",
      "33740 features (35%) -> Accuracy: 0.76375\n",
      "38560 features (40%) -> Accuracy: 0.763125\n",
      "43380 features (45%) -> Accuracy: 0.76\n",
      "48200 features (50%) -> Accuracy: 0.76125\n",
      "53020 features (55%) -> Accuracy: 0.76\n",
      "57840 features (60%) -> Accuracy: 0.76\n",
      "62660 features (65%) -> Accuracy: 0.758125\n",
      "67480 features (70%) -> Accuracy: 0.758125\n",
      "72300 features (75%) -> Accuracy: 0.758125\n",
      "77120 features (80%) -> Accuracy: 0.7575\n",
      "81940 features (85%) -> Accuracy: 0.756875\n",
      "86760 features (90%) -> Accuracy: 0.763125\n",
      "0.76625\n",
      "\n",
      "\n",
      "\n"
     ]
    },
    {
     "data": {
      "image/png": "[encoded data removed]",
      "text/plain": [
       "<Figure size 432x288 with 1 Axes>"
      ]
     },
     "metadata": {
      "needs_background": "light"
     },
     "output_type": "display_data"
    }
   ],
   "source": [
    "alfa_arg_vectorizer(1,2,CountVectorizer)"
   ]
  },
  {
   "cell_type": "markdown",
   "id": "940177ef-b4bb-4721-9265-034e5cdc5efe",
   "metadata": {},
   "source": [
    "here for the other range (1,2) we got a slightly better performance for alpha = 0.5 "
   ]
  },
  {
   "cell_type": "code",
   "execution_count": 86,
   "id": "5090b84d-8808-4beb-b509-7f0e0f38173d",
   "metadata": {},
   "outputs": [
    {
     "name": "stdout",
     "output_type": "stream",
     "text": [
      "vectorizer: <class 'sklearn.feature_extraction.text.CountVectorizer'>\n",
      "range: 1 - 2\n",
      "alpha = 0.5\n",
      "\n",
      "this many features were found:  96401 \n",
      "\n",
      "4820 features (5%) -> Accuracy: 0.82125\n",
      "9640 features (10%) -> Accuracy: 0.831875\n",
      "14460 features (15%) -> Accuracy: 0.829375\n",
      "19280 features (20%) -> Accuracy: 0.825625\n",
      "24100 features (25%) -> Accuracy: 0.82125\n",
      "28920 features (30%) -> Accuracy: 0.816875\n",
      "33740 features (35%) -> Accuracy: 0.815625\n",
      "38560 features (40%) -> Accuracy: 0.810625\n",
      "43380 features (45%) -> Accuracy: 0.809375\n",
      "48200 features (50%) -> Accuracy: 0.809375\n",
      "53020 features (55%) -> Accuracy: 0.806875\n",
      "57840 features (60%) -> Accuracy: 0.80625\n",
      "62660 features (65%) -> Accuracy: 0.804375\n",
      "67480 features (70%) -> Accuracy: 0.804375\n",
      "72300 features (75%) -> Accuracy: 0.805\n",
      "77120 features (80%) -> Accuracy: 0.805625\n",
      "81940 features (85%) -> Accuracy: 0.80375\n",
      "86760 features (90%) -> Accuracy: 0.80375\n",
      "0.831875\n",
      "\n",
      "\n",
      "\n"
     ]
    },
    {
     "data": {
      "image/png": "[encoded data removed]",
      "text/plain": [
       "<Figure size 432x288 with 1 Axes>"
      ]
     },
     "metadata": {
      "needs_background": "light"
     },
     "output_type": "display_data"
    }
   ],
   "source": [
    "alfa_arg_vectorizer(1,2,CountVectorizer, [0.5])"
   ]
  },
  {
   "cell_type": "markdown",
   "id": "10262ff0-9163-4238-90e3-0d53abd1de35",
   "metadata": {},
   "source": [
    "the best performance so for 10% of all features (9640) while range = (1,2) and alpha = 0.5 -> accuracy = 0.832"
   ]
  },
  {
   "cell_type": "markdown",
   "id": "ca9c6e79",
   "metadata": {},
   "source": [
    "## More complex, pretrained methods - for fun :)"
   ]
  },
  {
   "cell_type": "markdown",
   "id": "f10a15bc",
   "metadata": {},
   "source": [
    "## BERT (Deep Contextual Embeddings) - way more computationally intensive\n",
    "(Bidirectional Encoder Representations from Transformers)<br>\n",
    "Uses transformer layers to capture word meaning in context.\n",
    "<li>State-of-the-art for many NLP tasks, handles context well.\n",
    "<li>Computationally expensive."
   ]
  },
  {
   "cell_type": "code",
   "execution_count": 24,
   "id": "5a4bee41",
   "metadata": {
    "scrolled": true
   },
   "outputs": [
    {
     "ename": "ModuleNotFoundError",
     "evalue": "No module named 'transformers'",
     "output_type": "error",
     "traceback": [
      "\u001b[0;31m---------------------------------------------------------------------------\u001b[0m",
      "\u001b[0;31mModuleNotFoundError\u001b[0m                       Traceback (most recent call last)",
      "Input \u001b[0;32mIn [24]\u001b[0m, in \u001b[0;36m<cell line: 1>\u001b[0;34m()\u001b[0m\n\u001b[0;32m----> 1\u001b[0m \u001b[38;5;28;01mfrom\u001b[39;00m\u001b[38;5;250m \u001b[39m\u001b[38;5;21;01mtransformers\u001b[39;00m\u001b[38;5;250m \u001b[39m\u001b[38;5;28;01mimport\u001b[39;00m BertTokenizer, BertModel\n\u001b[1;32m      2\u001b[0m \u001b[38;5;28;01mimport\u001b[39;00m\u001b[38;5;250m \u001b[39m\u001b[38;5;21;01mtorch\u001b[39;00m\n\u001b[1;32m      4\u001b[0m tokenizer \u001b[38;5;241m=\u001b[39m BertTokenizer\u001b[38;5;241m.\u001b[39mfrom_pretrained(\u001b[38;5;124m'\u001b[39m\u001b[38;5;124mbert-base-uncased\u001b[39m\u001b[38;5;124m'\u001b[39m)\n",
      "\u001b[0;31mModuleNotFoundError\u001b[0m: No module named 'transformers'"
     ]
    }
   ],
   "source": [
    "from transformers import BertTokenizer, BertModel\n",
    "import torch\n",
    "\n",
    "tokenizer = BertTokenizer.from_pretrained('bert-base-uncased')\n",
    "model = BertModel.from_pretrained('bert-base-uncased')\n",
    "\n",
    "def bert_embed(texts):\n",
    "    inputs = tokenizer(texts, return_tensors=\"pt\", padding=True, truncation=True, max_length=128)\n",
    "    with torch.no_grad():\n",
    "        outputs = model(**inputs)\n",
    "    return outputs.last_hidden_state.mean(dim=1).numpy()\n",
    "\n",
    "X_train_vec = bert_embed(list(X_train))\n",
    "X_test_vec = bert_embed(list(X_test))\n",
    "\n",
    "# Train and evaluate\n",
    "model = GaussianNB()\n",
    "model.fit(X_train_vec, y_train_enc)\n",
    "y_pred = model.predict(X_test_vec)\n",
    "\n",
    "print(\"\\nBERT Model Performance:\")\n",
    "print(classification_report(y_test_enc, y_pred, target_names=label_encoder.classes_))\n",
    "print(\"Accuracy:\", accuracy_score(y_test_enc, y_pred))\n"
   ]
  },
  {
   "cell_type": "markdown",
   "id": "aacd2e22",
   "metadata": {},
   "source": [
    "## For further investigation we will use the more simple method, BOW\n",
    "BOW is very easy to understand and work with. Further in this document we will test other models than MultinominalNB. We will try to find a few models that conquer this task and try to ensamble than using various ensambling method (for example model voting). We will test Logistic Regression, Support Vector Machines (SVM), K-Nearest Neighbors (KNN) and some simple Neural Networks."
   ]
  },
  {
   "cell_type": "markdown",
   "id": "5792a8d4-fe25-4d4a-b307-e5b387e5a518",
   "metadata": {},
   "source": [
    "# SVM"
   ]
  },
  {
   "cell_type": "code",
   "execution_count": 45,
   "id": "376993e6-e330-4f4b-b1ed-4d941af0a2b3",
   "metadata": {},
   "outputs": [],
   "source": [
    "from sklearn.svm import LinearSVC"
   ]
  },
  {
   "cell_type": "markdown",
   "id": "c956fbd4-9a5a-4c6d-9984-dd2dff940f98",
   "metadata": {},
   "source": [
    "we will use Linear version of SVM as it is optimized for high dimensional input<br><br>\n",
    "let's create a function that will enable us to compare "
   ]
  },
  {
   "cell_type": "code",
   "execution_count": null,
   "id": "354a277f-2a4e-4b59-a400-b355df45f68d",
   "metadata": {},
   "outputs": [],
   "source": []
  },
  {
   "cell_type": "code",
   "execution_count": null,
   "id": "f3a7b542-59c4-4a47-ac51-60878690f6f3",
   "metadata": {},
   "outputs": [],
   "source": []
  }
 ],
 "metadata": {
  "kernelspec": {
   "display_name": "Python 3 (ipykernel)",
   "language": "python",
   "name": "python3"
  },
  "language_info": {
   "codemirror_mode": {
    "name": "ipython",
    "version": 3
   },
   "file_extension": ".py",
   "mimetype": "text/x-python",
   "name": "python",
   "nbconvert_exporter": "python",
   "pygments_lexer": "ipython3",
   "version": "3.9.12"
  }
 },
 "nbformat": 4,
 "nbformat_minor": 5
}
